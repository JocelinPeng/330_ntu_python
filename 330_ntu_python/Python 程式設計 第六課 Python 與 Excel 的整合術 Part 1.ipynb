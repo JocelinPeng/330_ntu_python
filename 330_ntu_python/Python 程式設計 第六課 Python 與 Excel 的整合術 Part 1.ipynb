{
 "cells": [
  {
   "cell_type": "markdown",
   "metadata": {
    "colab_type": "text",
    "id": "X5zZD2pAHFMk"
   },
   "source": [
    "# 我們先復習一下 Excel\n",
    "\n",
    "---\n",
    "# Excel 是一個以**表格為單位的工具**\n",
    "\n",
    "---\n",
    "# 從結構化的角度來看\n",
    "\n",
    "![](https://www.dropbox.com/s/eik7o4qrb78j6jm/excel_object_structure2%20copy.png?dl=1)\n",
    "\n",
    "**Application** (Excel 應用程式)\n",
    "\n",
    "**Workbook** (工作簿)\n",
    "\n",
    "**Worksheet** (工作表)\n",
    "\n",
    "**Range** (範圍)\n",
    "\n",
    "**Cell** (儲存格)\n",
    "\n",
    "# Excel 基礎：儲存格（Cell）\n",
    "\n",
    "![](https://drive.google.com/uc?export=download&id=1RtD9pawZ2VA9KwdDxJPB5cQLOrVSTOOR)\n",
    "\n",
    "---\n",
    "# Excel 基礎：欄 (Column)\n",
    "\n",
    "![](https://drive.google.com/uc?export=download&id=1g_wiNtIMYIOMJ5tN8vHG0puw5LQh38rH)\n",
    "\n",
    "---\n",
    "# Excel 基礎：列（Row）\n",
    "\n",
    "![](https://drive.google.com/uc?export=download&id=11EZ4PRNXE139oiGqBgNFOQNVp2xOXQlG)\n",
    "\n",
    "---\n",
    "# Row vs Column\n",
    "\n",
    "Row 是**橫向**，Column 是**縱向**\n",
    "\n",
    "Row 是用**數字**表示，Column 是用**英文字母**表示\n",
    "\n",
    "---\n",
    "# 儲存格命名規則\n",
    "\n",
    "- 在 Excel 的工作表中，任何一個儲存格都有獨一無二的儲存格位置\n",
    "- 這個位置是以該儲存格在工作表中的欄名+列號組合而成\n",
    "- 儲存格是用該儲存格的Row值與Column值表示，就如同儲存格的地址一樣\n",
    "\n",
    "例：下圖被選擇的儲存格名稱是 B4\n",
    "\n",
    "![](https://drive.google.com/uc?export=download&id=1nWniiuVVREYH-VV_RewJ7NKrkaNW2UYg)\n",
    "\n",
    "---\n",
    "# Excel 公式（Formula）\n",
    "\n",
    "Excel 最核心的功能之一，容許使用者像寫數學公式一樣的\b在 Excel \b試算表上做數學運算\n",
    "\n",
    "---\n",
    "# \bExcel 公式基礎：數學公式\n",
    "\n",
    "\b今天若希望 \bExcel 能够做\b某一種數值運算，我們要如何在公式裡表達這個運算？\n",
    "\n",
    "---\n",
    "# 輸入 Excel 公式\n",
    "\n",
    "1. 先點選一個儲存格，讓其變成作用儲存格（Active Cell）\n",
    "\n",
    "![](https://drive.google.com/uc?export=download&id=1LuG7Z1C92LXLRETIZP9NaAtxETDcs-no)\n",
    "\n",
    "---\n",
    "# 輸入 Excel 公式\n",
    "\n",
    "\n",
    "2. 輸入符號「=」\n",
    "\n",
    "![](https://drive.google.com/uc?export=download&id=1SZWe2r2Bi9TLx_-riKJNFGeaJCa4xvjq)\n",
    "\n",
    "---\n",
    "# 輸入 Excel 公式\n",
    "\n",
    "3. 接下来請輸入 2 + 3\n",
    "\n",
    "![](https://drive.google.com/uc?export=download&id=1Dj5BDQkyovqyHrx0oRp0e29MzkOQhl9k)\n",
    "\n",
    "---\n",
    "# 輸入 Excel 公式\n",
    "\n",
    "4. Excel 在計算出公式的結果後，會將答案顯示在儲存格内\n",
    "\n",
    "![](https://drive.google.com/uc?export=download&id=185a8DvLN-VrjiOO_mbGRaXNXQE8gcrFH)\n",
    "\n",
    "---\n",
    "# 輸入 Excel 公式（例）\n",
    "\n",
    "![](https://drive.google.com/uc?export=download&id=1aLJrM3yIJTdNEO20lTmKcH3sT0VcvttG)\n",
    "\n",
    "---\n",
    "# \b參照（Reference）\n",
    "\n",
    "在寫 Excel 公式時，其實可以輸入儲存格名稱，而 Excel 會帶入該儲存格内的資料\n",
    "\n",
    "![](https://drive.google.com/uc?export=download&id=10jT5fF0gQcbAjMsTmavF29jsKnCT0-l-)\n",
    "\n",
    "所以我們原本的公式就可以改成：\n",
    "\n",
    "![](https://drive.google.com/uc?export=download&id=1ifDiuIC5wwqKBBgtSX1dzNc9uiVr98aK)\n",
    "\n",
    "結果：\n",
    "\n",
    "![](https://drive.google.com/uc?export=download&id=1Con5Hqobe_QezIpj7kgTutxcJSeixJ1J)\n"
   ]
  },
  {
   "cell_type": "markdown",
   "metadata": {
    "colab_type": "text",
    "id": "ZoFAGcJvHFMq"
   },
   "source": [
    "# 在開始 VBA 之前\n",
    "\n",
    "[下載範例 Excel 檔](https://www.dropbox.com/s/hkf2vtl41smb487/Lecture%201%20-%20S%26P%20500%20data.xlsx?dl=1)\n",
    "\n",
    "---\n",
    "# 練習一：計算股票的日報酬率\n",
    "\n",
    "```\n",
    "日報酬率 = (今日收盤價 - 昨日收盤價) / 昨日收盤價\n",
    "```\n",
    "\n",
    "---\n",
    "# 但是設想一下...\n",
    "\n",
    "若今天需要計算報酬率的股票有一百支...\n",
    "\n",
    "輸入公式與下拉就變成了一件重複又無聊的事\n"
   ]
  },
  {
   "cell_type": "markdown",
   "metadata": {
    "colab_type": "text",
    "id": "tFmR2szsHFMs"
   },
   "source": [
    "# VBA 基礎\n",
    "\n",
    "今天無論學任何程式語言，通常在慣例上寫的第一個程式就是 `Hello World!`\n",
    "讓電腦顯示 `Hello World!` 字樣\n",
    "\n",
    "---\n",
    "\n",
    "# Hello World!\n",
    "\n",
    "接下來請點選“開發人員” 選項，Excel會顯示VBA編輯器，此時：\n",
    "\n",
    "![image info](https://drive.google.com/uc?export=download&id=1fO3wcYWPUaqSX6OnmxzUcfK2SEqZ_p_j)\n",
    "\n",
    "1. 先點選一下左邊的專案欄。\n",
    "2. 右鍵點選 “Microsfot Excel物件” 的資料夾\n",
    "3. 接下來選擇插入\n",
    "4. 然後選擇模組\n",
    "\n",
    "---\n",
    "# Hello World!\n",
    "\n",
    "在編輯器上輸入：\n",
    "\n",
    "```vb\n",
    "Sub HelloWorld()\n",
    "    Msgbox(\"Hello World!\")\n",
    "End Sub\n",
    "```\n",
    "\n",
    "---\n",
    "# Hello World!\n",
    "\n",
    "![](https://drive.google.com/uc?export=download&id=137OfakCJZKrYTAe9hHtqYLln8taWfanf)\n",
    "\n",
    "---\n",
    "# Hello World!\n",
    "\n",
    "![](https://drive.google.com/uc?export=download&id=1Xv4PlWeV4iwU0ap57FI6Zd_oOGm2Y2Pb)\n",
    "\n",
    "恭喜！你已經寫出了你的第一支VBA的程式。\n",
    "\n",
    "---\n",
    "# 範例 Excel 檔案\n",
    "\n",
    "請開啓第一課教材的 `Cells_Range_Example.xlsx` 範例檔\n",
    "\n",
    "---\n",
    "# 原則\n",
    "\n",
    "用一句話概括用寫和 Excel 相關的程式，就是：針對單位的儲存格進行操作，而**今天不管你是要操作任何一個單位的表格，首先一件事就是你必須得先選擇它。**\n",
    "\n",
    "---\n",
    "\n",
    "### Cells() 函數：\n",
    "\n",
    "用法：**Cells(row值, column值)**\n",
    "\n",
    "今天當我想賦值給 A1 儲存格時：\n",
    "```vb\n",
    "Cells(1, 1).value = 123\n",
    "```\n",
    "問題是這樣的寫法非常不直覺，所以 VBA 也支援以下寫法：\n",
    "```vb\n",
    "Cells(1, \"A\").value = 123\n",
    "```\n",
    "\n",
    "### Range() 函數：\n",
    "\n",
    "當我需要針對一個或多個儲存格(一個 Excel 試算表的範圍)去進行操作時：\n",
    "\n",
    "用法：**Range(\"起點:結束點\")**\n",
    "\n",
    "將 A1 儲存格的值設定成 123\n",
    "```vb\n",
    "Range(\"A1\").value = 123\n",
    "```\n",
    "將範圍 A1 到 C3 共九個儲存格的值設定成 123\n",
    "\n",
    "```vb\n",
    "Range(\"A1:C3\").value = 123\n",
    "```\n",
    "\n",
    "### Dot Notation (句點表示法)：\n",
    "\n",
    "大部分的物件導向程式語言都支援的語法：\n",
    "\n",
    "**<物件名稱>.<屬性名稱> = <被賦予的值>**\n",
    "\n",
    "當然，字串在用 loop 執行時會增加程式碼的複雜度(字串拼接)\n",
    "所以 Range 有另一種用法：**Range(Cells(起點), Cells(結束點))**\n",
    "\n",
    "```vb\n",
    "Range(Cells(1, \"A\"), Cells(3, \"C\")).value = 123\n",
    "```"
   ]
  },
  {
   "cell_type": "markdown",
   "metadata": {
    "colab_type": "text",
    "id": "-mb6EOqqHFMv"
   },
   "source": [
    "# 用 Python 操作 Excel\n",
    "\n",
    "\n",
    "\n",
    "## 一些常見的 Python 串接 Excel 的套件\n",
    "\n",
    "\n",
    "##  xlrd  \n",
    "一個老牌套件，支援讀取 Excel 試算表，但是只支援舊的 Excel 檔案格式（.xls）在這本書就不多做贅述。這個套件適合一些在功能上需要讀取（.xls）檔案格式的功能。\n",
    "\n",
    "## xlwt \n",
    "與 `xlrd` 可以説是一對姐妹套件，支援將 Python 運算的資料寫入舊 Excel 檔案格式（.xls）的功能。\n",
    "\n",
    "## xlutils\n",
    "\n",
    "整合了 `xlrd` 與 `xlwt` 兩者功能的套件。\n",
    "\n",
    "## XLTable\n",
    "\n",
    "一個高階的套件，優點在於提供了一個叫 `Table` 的物件，允許開發者將二維的資料結構，像是二維串列或是 Pandas DataFrame，一次性的寫入至 Excel，而非需要用迴圈以行或列為單位的資料寫入 Excel。\n",
    "\n",
    "該套件的缺點在於使用者十分稀少，版本也沒有做積極的更新。上述的 `Table` 功能也很容易在其他的套件可以找到，總總原因讓該套件成爲了一個冷門套件。\n",
    "\n",
    "## Pandas\n",
    "\n",
    "由於近年來大數據與資料科學的興起，Pandas 這個等同於 Python 殺手鐧的套件的功能十分完善，當然也有讀取與寫入 Excel 的功能。若是有使用過 Pandas 的開發者，肯定對 `.read_csv()` 或 `.to_excel()` 功能不陌生。\n",
    "\n",
    "## openpyxl\n",
    "\n",
    "一個老牌的 Python 與 Excel 串接的套件。功能上包括了讀取與寫入 xlsx 檔案。另外，openpyxl 在 Excel 的樣式設定上的功能十分齊全，非常適合用於輸出完整、特定樣式的 Excel 報表。\n",
    "\n",
    "該套件的缺點是在寫入大量的資料時，像是將整個 Pandas 的 DataFrame 的資料輸出至 Excel 時，語法稍顯冗長，無法做到和 Panda 套件一樣的一行程式碼輸出整個 DataFrame。\n",
    "\n",
    "\n",
    "但是這些套件都有一個共同的缺點，就是無法和 VBA 一樣做到**及時寫入**。"
   ]
  },
  {
   "cell_type": "markdown",
   "metadata": {
    "colab_type": "text",
    "id": "yZwCjq1KHFMx"
   },
   "source": [
    "## 我們先來體驗一下 openpyxl 這個套件"
   ]
  },
  {
   "cell_type": "markdown",
   "metadata": {
    "colab_type": "text",
    "id": "oOSd8m83HFMz"
   },
   "source": [
    "\n",
    "```python\n",
    "import openpyxl\n",
    "\n",
    "workbook = openpyxl.load_workbook(\"stock_price_data.xlsx\")\n",
    "# 印出 workbook 内容\n",
    "print(workbook)\n",
    "```"
   ]
  },
  {
   "cell_type": "code",
   "execution_count": 2,
   "metadata": {
    "colab": {},
    "colab_type": "code",
    "id": "_oiYJy2-HFM1"
   },
   "outputs": [
    {
     "name": "stdout",
     "output_type": "stream",
     "text": [
      "<openpyxl.workbook.workbook.Workbook object at 0x7fe970774dd8>\n"
     ]
    }
   ],
   "source": [
    "import openpyxl\n",
    "\n",
    "workbook = openpyxl.load_workbook(\"stock_price_data.xlsx\")\n",
    "print(workbook)"
   ]
  },
  {
   "cell_type": "markdown",
   "metadata": {
    "colab_type": "text",
    "id": "1ht5sVj6HFM8"
   },
   "source": [
    "我們再將 workbook 變數的内容印出來看：\n",
    "```python\n",
    "sheet = workbook[\"2330\"]\n",
    "sheet\n",
    "```"
   ]
  },
  {
   "cell_type": "code",
   "execution_count": 4,
   "metadata": {
    "colab": {},
    "colab_type": "code",
    "id": "sS80xBXFHFM-"
   },
   "outputs": [
    {
     "data": {
      "text/plain": [
       "<Worksheet \"2330\">"
      ]
     },
     "execution_count": 4,
     "metadata": {},
     "output_type": "execute_result"
    }
   ],
   "source": [
    "sheet = workbook[\"2330\"]\n",
    "sheet"
   ]
  },
  {
   "cell_type": "markdown",
   "metadata": {
    "colab_type": "text",
    "id": "eA0lp6oxHFNE"
   },
   "source": [
    "## 計算第二天的日報酬率"
   ]
  },
  {
   "cell_type": "markdown",
   "metadata": {
    "colab_type": "text",
    "id": "_RrSkxXVHFNG"
   },
   "source": [
    "計算單一筆日報酬率，我們需要當日以及前一天的收盤價：\n",
    "\n",
    "```python\n",
    "sheet = workbook[\"2330\"]\n",
    "sheet.cell(row=1, column=1).value\n",
    "# 讀取 B3\n",
    "today = sheet.cell(row=3, column=2).value\n",
    "print(today)\n",
    "# 讀取 B2\n",
    "yesterday = sheet.cell(row=2, column=2).value\n",
    "print()\n",
    "# 計算出第一天的報酬率\n",
    "daily_return = (today - yesterday) * 100 / yesterday  \n",
    "print(daily_return)\n",
    "```"
   ]
  },
  {
   "cell_type": "code",
   "execution_count": 5,
   "metadata": {
    "colab": {},
    "colab_type": "code",
    "id": "8pCu_9M9HFNH"
   },
   "outputs": [
    {
     "data": {
      "text/plain": [
       "'日期'"
      ]
     },
     "execution_count": 5,
     "metadata": {},
     "output_type": "execute_result"
    }
   ],
   "source": [
    "sheet.cell(row=1, column=1).value"
   ]
  },
  {
   "cell_type": "code",
   "execution_count": 8,
   "metadata": {},
   "outputs": [
    {
     "data": {
      "text/plain": [
       "233"
      ]
     },
     "execution_count": 8,
     "metadata": {},
     "output_type": "execute_result"
    }
   ],
   "source": [
    "today = sheet.cell(row=3, column=2).value\n",
    "today"
   ]
  },
  {
   "cell_type": "code",
   "execution_count": 9,
   "metadata": {},
   "outputs": [
    {
     "data": {
      "text/plain": [
       "224.5"
      ]
     },
     "execution_count": 9,
     "metadata": {},
     "output_type": "execute_result"
    }
   ],
   "source": [
    "yesterday = sheet.cell(row=2, column=2).value\n",
    "yesterday"
   ]
  },
  {
   "cell_type": "code",
   "execution_count": 11,
   "metadata": {},
   "outputs": [
    {
     "data": {
      "text/plain": [
       "3.7861915367483294"
      ]
     },
     "execution_count": 11,
     "metadata": {},
     "output_type": "execute_result"
    }
   ],
   "source": [
    "daily_return = (today - yesterday) * 100 / yesterday\n",
    "daily_return"
   ]
  },
  {
   "cell_type": "markdown",
   "metadata": {
    "colab_type": "text",
    "id": "w5Zl8xYEHFNM"
   },
   "source": [
    "# 將資料寫入工作表\n",
    "\n",
    "```python\n",
    "# 最後需要把值寫入儲存格 C4 (別忘了關掉 Excel 檔案)\n",
    "# 將修改的結果存入 stock_price_data.xlsx\n",
    "workbook.save(\"stock_price_data.xlsx\")\n",
    "```"
   ]
  },
  {
   "cell_type": "code",
   "execution_count": 16,
   "metadata": {
    "colab": {},
    "colab_type": "code",
    "id": "XLeDVRtnHFNN"
   },
   "outputs": [],
   "source": [
    "sheet.cell(row=3, column=3).value = daily_return\n",
    "workbook.save(\"stock_price_data.xlsx\")"
   ]
  },
  {
   "cell_type": "markdown",
   "metadata": {
    "colab_type": "text",
    "id": "vvWd6EzUHFNR"
   },
   "source": [
    "## 隨堂練習：計算所有的日報酬率\n",
    "\n",
    "```python\n",
    "for i in range(3, __):\n",
    "    today = sheet.cell(row=_, column=2).value\n",
    "    yesterday = sheet.cell(row=_, column=_).value\n",
    "    daily_return = (today - _________) * 100 / yesterday\n",
    "    sheet.cell(row=_, column=_).value = ________________\n",
    "    \n",
    "workbook.save(\"stock_price_data.xlsx\")\n",
    "```"
   ]
  },
  {
   "cell_type": "code",
   "execution_count": null,
   "metadata": {
    "colab": {},
    "colab_type": "code",
    "id": "2L9gTDUhHFNT"
   },
   "outputs": [],
   "source": []
  },
  {
   "cell_type": "markdown",
   "metadata": {
    "colab_type": "text",
    "id": "gd4aF00SHFNZ"
   },
   "source": [
    "## openpyxl 小結\n",
    "- 功能强大，語法貼近 Python\n",
    "- 若是有功能需要做到寫入儲存格，就需要關掉 Excel 才可以運作 (無法所見及所得，開發流程與效率相對差)\n",
    "- 若是需要寫入值，需要在程式的最後一行加上 workbook.save() (相對麻煩)\n",
    "- 適用於大型系統輸出 Excel 報表的功能"
   ]
  },
  {
   "cell_type": "markdown",
   "metadata": {
    "colab_type": "text",
    "id": "QEWrVX2lHFNb"
   },
   "source": [
    "# 接下來我們來試試看 xlwings 套件\n",
    "\n",
    "- 先關閉你的 Excel 應用程式\n",
    "- 尋找範例檔案 Cells_Range_Examples.xlsm 在電腦上的路徑"
   ]
  },
  {
   "cell_type": "code",
   "execution_count": null,
   "metadata": {
    "colab": {},
    "colab_type": "code",
    "id": "1cHjiGDlHFNd"
   },
   "outputs": [],
   "source": [
    "# 引用 xlwings 套件\n",
    "import xlwings as xw"
   ]
  },
  {
   "cell_type": "code",
   "execution_count": null,
   "metadata": {
    "colab": {},
    "colab_type": "code",
    "id": "n8dN7IInHFNj"
   },
   "outputs": [],
   "source": [
    "# 打開你的 Cells_Range_Examples.xlsm 檔案\n",
    "wb = xw.Book(r\"檔案 Cells_Range_Examples.xlsm 的路徑\")"
   ]
  },
  {
   "cell_type": "code",
   "execution_count": null,
   "metadata": {
    "colab": {},
    "colab_type": "code",
    "id": "mPFsFNJnHFNn"
   },
   "outputs": [],
   "source": [
    "# 從該 Excel 檔案裡找出名為 \"練習1\" 的試算表，存入 sheet 這個變數裏\n",
    "sheet = wb.sheets[\"練習1\"]\n",
    "sheet"
   ]
  },
  {
   "cell_type": "code",
   "execution_count": 17,
   "metadata": {},
   "outputs": [],
   "source": [
    "import xlwings as xw"
   ]
  },
  {
   "cell_type": "code",
   "execution_count": 19,
   "metadata": {},
   "outputs": [],
   "source": [
    "wb = xw.Book(r\"Cells_Range_Examples.xlsm\")"
   ]
  },
  {
   "cell_type": "code",
   "execution_count": 21,
   "metadata": {},
   "outputs": [
    {
     "data": {
      "text/plain": [
       "<Sheet [Cells_Range_Examples.xlsm]練習1>"
      ]
     },
     "execution_count": 21,
     "metadata": {},
     "output_type": "execute_result"
    }
   ],
   "source": [
    "sheet = wb.sheets[\"練習1\"]\n",
    "sheet"
   ]
  },
  {
   "cell_type": "markdown",
   "metadata": {
    "colab_type": "text",
    "id": "zPY-T-qFHFNs"
   },
   "source": [
    "### xlwings 的 cells() 與 range()\n",
    "\n",
    "在語法上非常貼近 VBA 的 cells() 與 range():\n",
    "\n",
    "```python\n",
    "sheet.cells(1, 'A').value = 123\n",
    "\n",
    "sheet.range(\"A1:C3\").value = 123\n",
    "```\n",
    "\n",
    "這樣的好處是大幅降低了 VBA 開發者切換至 Python 的學習成本"
   ]
  },
  {
   "cell_type": "code",
   "execution_count": null,
   "metadata": {
    "colab": {},
    "colab_type": "code",
    "id": "ya25rkC8HFNt"
   },
   "outputs": [],
   "source": [
    "# sheet.range(\"A2\").value = 100"
   ]
  },
  {
   "cell_type": "code",
   "execution_count": null,
   "metadata": {
    "colab": {},
    "colab_type": "code",
    "id": "IXDxg3sZHFNy"
   },
   "outputs": [],
   "source": [
    "# sheet.range(\"A7:B7\").value = \"ABC\""
   ]
  },
  {
   "cell_type": "code",
   "execution_count": null,
   "metadata": {
    "colab": {},
    "colab_type": "code",
    "id": "XGCgG66zHFN1"
   },
   "outputs": [],
   "source": [
    "# sheet.range(\"A12:C13\").value = 5"
   ]
  },
  {
   "cell_type": "code",
   "execution_count": null,
   "metadata": {
    "colab": {},
    "colab_type": "code",
    "id": "7uzPKKWdHFN3"
   },
   "outputs": [],
   "source": [
    "# sheet.range(\"C17\").value = sheet.range(\"A17\").value"
   ]
  },
  {
   "cell_type": "code",
   "execution_count": null,
   "metadata": {
    "colab": {},
    "colab_type": "code",
    "id": "Fkgpib7AHFN7"
   },
   "outputs": [],
   "source": [
    "# sheet.range(\"A22:B22\").value"
   ]
  },
  {
   "cell_type": "code",
   "execution_count": 22,
   "metadata": {},
   "outputs": [],
   "source": [
    "sheet.range(\"A2\").value = 101"
   ]
  },
  {
   "cell_type": "code",
   "execution_count": 23,
   "metadata": {},
   "outputs": [],
   "source": [
    "sheet.range(\"A7:B7\").value = \"ABC\""
   ]
  },
  {
   "cell_type": "code",
   "execution_count": 24,
   "metadata": {},
   "outputs": [],
   "source": [
    "sheet.range(\"A12:C13\").value = 5"
   ]
  },
  {
   "cell_type": "code",
   "execution_count": 25,
   "metadata": {},
   "outputs": [],
   "source": [
    "sheet.range(\"C17\").value = sheet.range(\"A17\").value"
   ]
  },
  {
   "cell_type": "code",
   "execution_count": 28,
   "metadata": {},
   "outputs": [],
   "source": [
    "sheet.range(\"D22:E22\").value = sheet.range(\"A22:B22\").value"
   ]
  },
  {
   "cell_type": "code",
   "execution_count": 30,
   "metadata": {},
   "outputs": [],
   "source": [
    "sheet.range(\"D22:E22\").value = ['ABC', 123.0] #用list做賦值"
   ]
  },
  {
   "cell_type": "code",
   "execution_count": 33,
   "metadata": {},
   "outputs": [],
   "source": [
    "sheet.range(\"C35\").formula = \"=SUM(A35:A37)\" #公式需用字串表示 #=SUM是Excel的公式，跟Python無關"
   ]
  },
  {
   "cell_type": "code",
   "execution_count": 39,
   "metadata": {},
   "outputs": [],
   "source": [
    "sheet.cells(42, 1).value = 101 #cells一次只能選擇一個儲存格"
   ]
  },
  {
   "cell_type": "code",
   "execution_count": null,
   "metadata": {},
   "outputs": [],
   "source": [
    "sheet.cells(42, \"A\").value = 101 #此寫法只支援Windows系統"
   ]
  },
  {
   "cell_type": "markdown",
   "metadata": {
    "colab_type": "text",
    "id": "uE268EllHFN_"
   },
   "source": [
    "## List (清單)\n",
    "\n",
    "今天一個由多個儲存格組成的**範圍 (range)**的值，通常是被封裝在一個 python 的串列 (List) 内\n",
    "\n",
    "對於學過其他程式語言的同學，python list 就是陣列 (Array)\n",
    "\n",
    "因此，以下程式碼：\n",
    "```python\n",
    "sheet.range(\"A22:B22\").value\n",
    "```\n",
    "會回傳:\n",
    "```python\n",
    "['ABC', 123.0]\n",
    "```"
   ]
  },
  {
   "cell_type": "code",
   "execution_count": null,
   "metadata": {
    "colab": {},
    "colab_type": "code",
    "id": "dJOAs9A_HFOA"
   },
   "outputs": [],
   "source": [
    "# 試試看讀取 A27:B29 的值\n",
    "sheet.range(\"A27:B29\").value"
   ]
  },
  {
   "cell_type": "markdown",
   "metadata": {
    "colab_type": "text",
    "id": "7fVixQ9vHFOD"
   },
   "source": [
    "若今天一個 **range** 是二維的，也就是 row 和 column 的數目都超過一，該**range**的值就會被封裝在一個二維清單 / 陣列内\n",
    "\n",
    "```python\n",
    "[\n",
    "    [1.0, 2.0], \n",
    "    [3.0, 4.0], \n",
    "    [5.0, 6.0]\n",
    "]\n",
    "```\n",
    "\n",
    "第一層 List 内有三個 List\n",
    "\n",
    "内部每一個 List 都代表一個 row 的資料"
   ]
  },
  {
   "cell_type": "code",
   "execution_count": null,
   "metadata": {
    "colab": {},
    "colab_type": "code",
    "id": "ndFGoNaJHFOE"
   },
   "outputs": [],
   "source": [
    "#sheet.range(\"D27:E29\").value = sheet.range(\"A27:B29\").value"
   ]
  },
  {
   "cell_type": "code",
   "execution_count": null,
   "metadata": {
    "colab": {},
    "colab_type": "code",
    "id": "y4mmH64CHFOJ"
   },
   "outputs": [],
   "source": [
    "#sheet.range(\"A33:A35\").value"
   ]
  },
  {
   "cell_type": "markdown",
   "metadata": {
    "colab_type": "text",
    "id": "HK8QTaBeHFOU"
   },
   "source": [
    "若今天一個 range 是 N x 1 大小的，該range的值就會被封裝在一個一維清單 / 陣列内\n",
    "\n",
    "```python\n",
    "[123.0, 456.0, 789.0]\n",
    "```\n",
    "\n",
    "但是你將一維陣列寫入另一個 N x 1 大小的 range 時：\n",
    "\n",
    "```python\n",
    "sheet.range(\"C33:C35\").value = sheet.range(\"A33:A35\").value\n",
    "```\n",
    "\n",
    "就出問題啦，原因是 N x 1 大小的 range 的值也是被放在一個二維陣列内：\n",
    "\n",
    "```python\n",
    "[\n",
    "    [123],\n",
    "    [456],\n",
    "    [789]\n",
    "]\n",
    "```\n",
    "\n",
    "試試看執行以下程式碼：\n",
    "\n",
    "```python\n",
    "sheet.range(\"C33:C35\").value = [\n",
    "                                   [123],\n",
    "                                   [456],\n",
    "                                   [789]\n",
    "                               ]\n",
    "```\n",
    "\n",
    "因此我們需要將：\n",
    "\n",
    "```python\n",
    "[123.0, 456.0, 789.0]\n",
    "```\n",
    "\n",
    "轉成：\n",
    "\n",
    "```python\n",
    "[\n",
    "   [123],\n",
    "   [456],\n",
    "   [789]\n",
    "]\n",
    "```\n",
    "\n",
    "這種把 N x 1 轉成 1 x N 大小的過程，就是矩陣運算的**轉置(Transpose)**"
   ]
  },
  {
   "cell_type": "code",
   "execution_count": null,
   "metadata": {
    "colab": {},
    "colab_type": "code",
    "id": "nq0mv1xpHFOW"
   },
   "outputs": [],
   "source": [
    "import numpy as np\n",
    "\n",
    "ary = np.array(sheet.range(\"A33:A35\").value)\n",
    "ary.reshape(3, 1)"
   ]
  },
  {
   "cell_type": "code",
   "execution_count": null,
   "metadata": {
    "colab": {},
    "colab_type": "code",
    "id": "wdk4Fw5FHFOa"
   },
   "outputs": [],
   "source": [
    "ary = np.array(sheet.range(\"A33:A35\").value)\n",
    "sheet.range(\"C33:C35\").value = ary.reshape(3, 1)"
   ]
  },
  {
   "cell_type": "markdown",
   "metadata": {
    "colab_type": "text",
    "id": "8hzj0gdiHFOd"
   },
   "source": [
    "# 接下來我們再次用 xlwings 開啓 stock_price_data.xlsx\n",
    "\n",
    "```python\n",
    "import xlwings as xw\n",
    "\n",
    "wb = xw.Book(r\"檔案 stock_price_data.xlsx 的路徑\")\n",
    "tsmc_sheet = wb.sheets[\"2330\"]\n",
    "```"
   ]
  },
  {
   "cell_type": "code",
   "execution_count": 2,
   "metadata": {
    "colab": {},
    "colab_type": "code",
    "id": "vYA4f83wHFOd"
   },
   "outputs": [],
   "source": [
    "import xlwings as xw\n",
    "\n",
    "wb = xw.Book(r\"stock_price_data.xlsx\")\n",
    "tsmc_sheet = wb.sheets[\"2330\"]"
   ]
  },
  {
   "cell_type": "markdown",
   "metadata": {
    "colab_type": "text",
    "id": "ieTSs7w9HFOf"
   },
   "source": [
    "## 使用 cells() 的小叮嚀\n",
    "\n",
    "今天我若想擷取 B1 儲存格的值，可以這樣寫：\n",
    "```python\n",
    "tsmc_sheet.cells(1, \"B\").value\n",
    "```\n",
    "\n",
    "### cells(儲存格的row值，儲存格的column值)\n",
    "\n",
    "儲存格的column值可以用字串 'B' 或 數字 2 表示"
   ]
  },
  {
   "cell_type": "code",
   "execution_count": 41,
   "metadata": {
    "colab": {},
    "colab_type": "code",
    "id": "YcgCJz19HFOg"
   },
   "outputs": [
    {
     "data": {
      "text/plain": [
       "233.0"
      ]
     },
     "execution_count": 41,
     "metadata": {},
     "output_type": "execute_result"
    }
   ],
   "source": [
    "today = tsmc_sheet.range(\"B3\").value\n",
    "today"
   ]
  },
  {
   "cell_type": "code",
   "execution_count": 42,
   "metadata": {},
   "outputs": [
    {
     "data": {
      "text/plain": [
       "224.5"
      ]
     },
     "execution_count": 42,
     "metadata": {},
     "output_type": "execute_result"
    }
   ],
   "source": [
    "yesterday = tsmc_sheet.range(\"B2\").value\n",
    "yesterday"
   ]
  },
  {
   "cell_type": "code",
   "execution_count": 44,
   "metadata": {},
   "outputs": [
    {
     "data": {
      "text/plain": [
       "3.7861915367483294"
      ]
     },
     "execution_count": 44,
     "metadata": {},
     "output_type": "execute_result"
    }
   ],
   "source": [
    "daily_return = (today - yesterday) * 100 / yesterday\n",
    "daily_return"
   ]
  },
  {
   "cell_type": "code",
   "execution_count": 45,
   "metadata": {},
   "outputs": [],
   "source": [
    "tsmc_sheet.range(\"C3\").value = daily_return"
   ]
  },
  {
   "cell_type": "markdown",
   "metadata": {
    "colab_type": "text",
    "id": "IGDN_F_kHFOk"
   },
   "source": [
    "### 但是！\n",
    "\n",
    "**若你是用 Mac, xlwings 不支援用字串表示 column 值**\n",
    "\n",
    "這是 xlwings 在 Mac 上的極限，所以若你是用 Mac，上述程式碼需改寫成：\n",
    "\n",
    "```python\n",
    "sheet.cells(1, 2).value\n",
    "```\n",
    "\n",
    "爲了確保我們的程式碼在 Windows 和 Mac 上都可以執行，本教材的範例會以 `range()` 函數爲主"
   ]
  },
  {
   "cell_type": "code",
   "execution_count": null,
   "metadata": {
    "colab": {},
    "colab_type": "code",
    "id": "IKy--yDlHFOl"
   },
   "outputs": [],
   "source": []
  },
  {
   "cell_type": "markdown",
   "metadata": {
    "colab_type": "text",
    "id": "TuN7JAkyHFOo"
   },
   "source": [
    "# 計算所有的報酬率\n",
    "\n",
    "請完成以下程式：\n",
    "\n",
    "```python\n",
    "for i in range(3, ____):\n",
    "    today_price = tsmc_sheet.range(f\"B{i}\").value\n",
    "    yesterday_price = __________________________\n",
    "    daily_return = (today_price - _____________) * 100 / yesterday_price\n",
    "    tsmc_sheet.range(_____).value = ________________\n",
    "\n",
    "```"
   ]
  },
  {
   "cell_type": "code",
   "execution_count": 50,
   "metadata": {
    "colab": {},
    "colab_type": "code",
    "id": "m8kFtO8fHFOp"
   },
   "outputs": [
    {
     "name": "stdout",
     "output_type": "stream",
     "text": [
      "233.0\n",
      "237.5\n",
      "237.5\n",
      "238.0\n",
      "235.5\n",
      "237.5\n",
      "239.0\n",
      "237.5\n",
      "239.0\n",
      "238.0\n",
      "238.0\n",
      "236.0\n",
      "239.0\n",
      "243.0\n",
      "243.0\n",
      "242.5\n",
      "241.0\n",
      "239.0\n",
      "239.5\n",
      "244.0\n",
      "242.5\n",
      "241.0\n",
      "240.5\n",
      "239.5\n",
      "240.0\n",
      "237.5\n",
      "238.0\n",
      "241.5\n",
      "238.5\n",
      "243.0\n",
      "242.0\n",
      "242.5\n",
      "244.0\n",
      "237.0\n",
      "234.0\n",
      "234.5\n",
      "226.0\n",
      "231.0\n",
      "234.0\n",
      "232.5\n",
      "227.0\n",
      "226.5\n",
      "227.0\n",
      "231.0\n",
      "231.0\n",
      "227.5\n",
      "227.5\n",
      "227.5\n",
      "227.5\n",
      "227.5\n",
      "230.5\n",
      "224.5\n",
      "225.0\n",
      "225.0\n",
      "227.5\n",
      "228.5\n",
      "226.0\n",
      "225.0\n",
      "226.0\n",
      "229.5\n",
      "232.5\n",
      "239.5\n",
      "240.0\n",
      "242.0\n",
      "242.0\n",
      "236.5\n",
      "235.0\n",
      "237.0\n",
      "240.0\n",
      "240.5\n",
      "242.0\n",
      "248.5\n",
      "255.5\n",
      "261.5\n",
      "266.0\n",
      "258.0\n",
      "258.0\n",
      "255.0\n",
      "258.5\n",
      "253.0\n",
      "255.0\n",
      "259.5\n",
      "259.5\n",
      "253.0\n",
      "239.0\n",
      "240.0\n",
      "238.5\n",
      "232.5\n",
      "236.5\n",
      "242.5\n",
      "239.5\n",
      "245.0\n",
      "246.5\n"
     ]
    }
   ],
   "source": [
    "for i in range(3, 96):\n",
    "    print(tsmc_sheet.cells(i, 2).value)"
   ]
  },
  {
   "cell_type": "code",
   "execution_count": 53,
   "metadata": {},
   "outputs": [
    {
     "data": {
      "text/plain": [
       "'B9'"
      ]
     },
     "execution_count": 53,
     "metadata": {},
     "output_type": "execute_result"
    }
   ],
   "source": [
    "i = 9\n",
    "f\"B{i}\""
   ]
  },
  {
   "cell_type": "code",
   "execution_count": 7,
   "metadata": {},
   "outputs": [
    {
     "name": "stdout",
     "output_type": "stream",
     "text": [
      "3.7861915367483294\n",
      "1.9313304721030042\n",
      "0.0\n",
      "0.21052631578947367\n",
      "-1.050420168067227\n",
      "0.8492569002123143\n",
      "0.631578947368421\n",
      "-0.6276150627615062\n",
      "0.631578947368421\n",
      "-0.41841004184100417\n",
      "0.0\n",
      "-0.8403361344537815\n",
      "1.271186440677966\n",
      "1.6736401673640167\n",
      "0.0\n",
      "-0.205761316872428\n",
      "-0.6185567010309279\n",
      "-0.8298755186721992\n",
      "0.20920502092050208\n",
      "1.8789144050104385\n",
      "-0.6147540983606558\n",
      "-0.6185567010309279\n",
      "-0.2074688796680498\n",
      "-0.4158004158004158\n",
      "0.20876826722338204\n",
      "-1.0416666666666667\n",
      "0.21052631578947367\n",
      "1.4705882352941178\n",
      "-1.2422360248447204\n",
      "1.8867924528301887\n",
      "-0.411522633744856\n",
      "0.2066115702479339\n",
      "0.6185567010309279\n",
      "-2.8688524590163933\n",
      "-1.2658227848101267\n",
      "0.21367521367521367\n",
      "-3.624733475479744\n",
      "2.2123893805309733\n",
      "1.2987012987012987\n",
      "-0.6410256410256411\n",
      "-2.3655913978494625\n",
      "-0.22026431718061673\n",
      "0.22075055187637968\n",
      "1.7621145374449338\n",
      "0.0\n",
      "-1.5151515151515151\n",
      "0.0\n",
      "0.0\n",
      "0.0\n",
      "0.0\n",
      "1.3186813186813187\n",
      "-2.6030368763557483\n",
      "0.22271714922049\n",
      "0.0\n",
      "1.1111111111111112\n",
      "0.43956043956043955\n",
      "-1.0940919037199124\n",
      "-0.4424778761061947\n",
      "0.4444444444444444\n",
      "1.5486725663716814\n",
      "1.3071895424836601\n",
      "3.010752688172043\n",
      "0.20876826722338204\n",
      "0.8333333333333334\n",
      "0.0\n",
      "-2.272727272727273\n",
      "-0.6342494714587738\n",
      "0.851063829787234\n",
      "1.2658227848101267\n",
      "0.20833333333333334\n",
      "0.6237006237006237\n",
      "2.6859504132231407\n",
      "2.816901408450704\n",
      "2.3483365949119372\n",
      "1.7208413001912046\n",
      "-3.007518796992481\n",
      "0.0\n",
      "-1.1627906976744187\n",
      "1.3725490196078431\n",
      "-2.127659574468085\n",
      "0.7905138339920948\n",
      "1.7647058823529411\n",
      "0.0\n",
      "-2.504816955684008\n",
      "-5.533596837944664\n",
      "0.41841004184100417\n",
      "-0.625\n",
      "-2.5157232704402515\n",
      "1.7204301075268817\n",
      "2.536997885835095\n",
      "-1.2371134020618557\n",
      "2.2964509394572024\n",
      "0.6122448979591837\n"
     ]
    }
   ],
   "source": [
    "for i in range(3, 96):\n",
    "    today = tsmc_sheet.range(f\"B{i}\").value\n",
    "    yesterday = tsmc_sheet.range(f\"B{i-1}\").value\n",
    "    daily_return = (today - yesterday) * 100 / yesterday\n",
    "    print(daily_return)\n",
    "    tsmc_sheet.range(f\"C{i}\").value = daily_return"
   ]
  },
  {
   "cell_type": "code",
   "execution_count": 6,
   "metadata": {},
   "outputs": [],
   "source": [
    "#利用程式寫進Excel的資料無法用Crtl+Z回復。寫入前先確定資料是正確的"
   ]
  },
  {
   "cell_type": "markdown",
   "metadata": {
    "colab_type": "text",
    "id": "9lnoWqxLHFOr"
   },
   "source": [
    "# .color 屬性\n",
    "\n",
    "每一個儲存格都有一個 color 屬性，可以利用 python 動態設定儲存格的底色\n",
    "\n",
    "注意 color 的表達方式是將三原色 (RGB 值) 用 tuple (元組) 來表示：\n",
    "\n",
    "```python\n",
    "# 紅色亮度調最大，藍色、綠色調最小\n",
    "(255, 0, 0)\n",
    "```\n",
    "\n",
    "所以若要把 A1 儲存格的底色換成紅色：\n",
    "\n",
    "```python\n",
    "tsmc_sheet.range(\"A1\").color = (255, 0, 0)\n",
    "# 或是\n",
    "tsmc_sheet.cells(1, \"A\").color = (255, 0, 0)\n",
    "```"
   ]
  },
  {
   "cell_type": "code",
   "execution_count": 36,
   "metadata": {
    "colab": {},
    "colab_type": "code",
    "id": "RPRehNq6HFOs"
   },
   "outputs": [],
   "source": [
    "sheet.range(\"A42\").color = (255, 0, 0) #把RGB值存進tuple"
   ]
  },
  {
   "cell_type": "markdown",
   "metadata": {
    "colab_type": "text",
    "id": "DWfoa48LHFOu"
   },
   "source": [
    "# 隨堂練習：\n",
    "\n",
    "將之前計算出來的報酬率加上一點視覺效果:\n",
    "\n",
    "若當天**上漲，就將儲存格底色變成紅色**\n",
    "\n",
    "**若當天下跌，就將儲存格底色變成綠色**\n",
    "\n",
    "## 提示影片：\n",
    "\n",
    "[![IMAGE ALT TEXT](http://img.youtube.com/vi/xDztsNqNaq4/0.jpg)](http://www.youtube.com/watch?v=xDztsNqNaq4 \"Video Title\")"
   ]
  },
  {
   "cell_type": "code",
   "execution_count": null,
   "metadata": {
    "colab": {},
    "colab_type": "code",
    "id": "NZASdKZIHFOu"
   },
   "outputs": [],
   "source": []
  },
  {
   "cell_type": "markdown",
   "metadata": {
    "colab_type": "text",
    "id": "4eCWtbeNHFOx"
   },
   "source": [
    "\n",
    "\n",
    "# 回家作業：\n",
    "\n",
    "思考一下，今天在工作中是否有任何與 Excel 相關的流程是可以自動化的？\n",
    "\n"
   ]
  },
  {
   "cell_type": "code",
   "execution_count": null,
   "metadata": {
    "colab": {},
    "colab_type": "code",
    "id": "DGDxNdaLHFOy"
   },
   "outputs": [],
   "source": []
  },
  {
   "cell_type": "markdown",
   "metadata": {
    "colab_type": "text",
    "id": "n1pGDKa_HFO1"
   },
   "source": [
    "# 設定字體顔色（僅限 windows）\n",
    "\n",
    "# .font.ColorIndex 屬性\n",
    "\n",
    "在 VBA 語言透過指定顔色的編號設定儲存格的底色\n",
    "\n",
    "```vb\n",
    "Range(\"A1\").Font.colorIndex = 3\n",
    "```\n",
    "\n",
    "而透過 xlwings 可以使用：\n",
    "\n",
    "```python\n",
    "tsmc_sheet.cells(1, \"A\").api.Font.colorIndex = 3\n",
    "```\n",
    "\n",
    "## 一些常用的顔色編號：\n",
    "\n",
    "![](https://www.dropbox.com/s/c8prdhqb0epnst4/2.PNG?dl=1)\n",
    "\n",
    "\n",
    "[關於顔色的官方文件](https://docs.microsoft.com/en-us/office/vba/api/excel.colorindex)"
   ]
  },
  {
   "cell_type": "markdown",
   "metadata": {
    "colab_type": "text",
    "id": "8Cp63DLsHFO2"
   },
   "source": [
    "# 相關資源：\n",
    "\n",
    "Medium: \n",
    "\n",
    "1. [當大蟒蛇語言遇上老牌試算表軟體](https://medium.com/pyradise/%E7%95%B6%E5%A4%A7%E8%9F%92%E8%9B%87%E8%AA%9E%E8%A8%80%E9%81%87%E4%B8%8A%E8%80%81%E7%89%8C%E8%A9%A6%E7%AE%97%E8%A1%A8%E8%BB%9F%E9%AB%94-fc7947792000)\n",
    "\n",
    "2. [讓 Python 為你的 Excel 添加翅膀](https://medium.com/pyradise/%E7%95%B6%E5%A4%A7%E8%9F%92%E8%9B%87%E8%AA%9E%E8%A8%80%E9%81%87%E4%B8%8A%E8%80%81%E7%89%8C%E8%A9%A6%E7%AE%97%E8%A1%A8%E8%BB%9F%E9%AB%94-2-2e1e825b31fe)\n",
    "\n",
    "xlwings 官網：\n",
    "\n",
    "[官網連結](https://www.xlwings.org/)"
   ]
  }
 ],
 "metadata": {
  "colab": {
   "collapsed_sections": [],
   "name": "Python 程式設計 第六課 Python 與 Excel 的整合術 Part 1.ipynb",
   "provenance": []
  },
  "kernelspec": {
   "display_name": "Python 3",
   "language": "python",
   "name": "python3"
  },
  "language_info": {
   "codemirror_mode": {
    "name": "ipython",
    "version": 3
   },
   "file_extension": ".py",
   "mimetype": "text/x-python",
   "name": "python",
   "nbconvert_exporter": "python",
   "pygments_lexer": "ipython3",
   "version": "3.7.3"
  }
 },
 "nbformat": 4,
 "nbformat_minor": 1
}
