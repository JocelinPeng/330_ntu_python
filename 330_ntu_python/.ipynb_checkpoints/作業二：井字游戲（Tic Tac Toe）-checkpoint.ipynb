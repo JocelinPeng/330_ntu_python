{
 "cells": [
  {
   "cell_type": "markdown",
   "metadata": {
    "colab_type": "text",
    "id": "5kgXIi8p2UlQ"
   },
   "source": [
    "我們來用打造一個井字游戲，英文叫 Tic Tac Toe，此游戲需要具備以下功能：\n",
    "\n",
    "1. 讓使用者選擇 'X' 或 'O'：\n",
    "\n",
    "![](https://drive.google.com/uc?export=download&id=1l9nMy9TAiP2pf4T3feAxf5HAB9Vjq--7)\n",
    "\n",
    "\n",
    "2. 打造一個能夠顯示九宮格狀態的功能：\n",
    "\n",
    "![](https://drive.google.com/uc?export=download&id=1Ry9ZJ5zgXNPflgj01tKdcKUUMgQcbgTK)\n",
    "\n",
    "3. 能夠讓使用者透過數字選擇要下棋子的九宮格：\n",
    "\n",
    "![](https://drive.google.com/uc?export=download&id=1o8SzSNgQx5dvAtiWbGYN5z85qHWzBws5)\n",
    "\n",
    "4. 能夠讓電腦與玩家自動對戰，並且能夠根據九宮格狀態判斷輸贏：\n",
    "\n",
    "![](https://drive.google.com/uc?export=download&id=19ADwGn23Nlzd4WFWITa8-xDvrpi7ZvLO)"
   ]
  },
  {
   "cell_type": "markdown",
   "metadata": {
    "colab_type": "text",
    "id": "0oFuOjxC2UlS"
   },
   "source": [
    "找出一個能夠代表九宮格的資料解構：\n",
    "\n",
    "```python\n",
    "board = [\"1\", \"2\", \"3\", \"4\", \"5\", \"6\", \"7\", \"8\", \"9\"]\n",
    "```\n",
    "\n",
    "接下來要打造顯示九宮格狀態的功能時：\n",
    "\n",
    "```python\n",
    "def show_board(board):\n",
    "    print(f\"=======\")\n",
    "    print(f\"|{board[0]}|{board[1]}|{board[2]}|\")\n",
    "    print(f\"=======\")\n",
    "    print(f\"|{board[3]}|{board[4]}|{board[5]}|\")\n",
    "    print(f\"=======\")\n",
    "    print(f\"|{board[6]}|{board[7]}|{board[8]}|\")\n",
    "    print(f\"=======\")\n",
    "```"
   ]
  },
  {
   "cell_type": "code",
   "execution_count": 0,
   "metadata": {
    "colab": {},
    "colab_type": "code",
    "id": "m5KrbNp52UlT"
   },
   "outputs": [],
   "source": [
    "board = [\"1\", \"2\", \"3\", \"4\", \"5\", \"6\", \"7\", \"8\", \"9\"]"
   ]
  }
 ],
 "metadata": {
  "colab": {
   "name": "作業二：井字游戲（Tic Tac Toe）.ipynb",
   "provenance": []
  },
  "kernelspec": {
   "display_name": "Python 3",
   "language": "python",
   "name": "python3"
  },
  "language_info": {
   "codemirror_mode": {
    "name": "ipython",
    "version": 3
   },
   "file_extension": ".py",
   "mimetype": "text/x-python",
   "name": "python",
   "nbconvert_exporter": "python",
   "pygments_lexer": "ipython3",
   "version": "3.7.3"
  }
 },
 "nbformat": 4,
 "nbformat_minor": 1
}
