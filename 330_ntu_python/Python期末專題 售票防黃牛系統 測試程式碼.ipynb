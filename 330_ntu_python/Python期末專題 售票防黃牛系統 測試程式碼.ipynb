{
 "cells": [
  {
   "cell_type": "markdown",
   "metadata": {},
   "source": [
    "# Step1 : 設計問題"
   ]
  },
  {
   "cell_type": "code",
   "execution_count": 10,
   "metadata": {},
   "outputs": [
    {
     "name": "stdout",
     "output_type": "stream",
     "text": [
      "請問以下SUPER JUNIOR成員中，誰沒有出過solo專輯？\n",
      "A.利特  B.東海  C.藝聲  D.圭賢\n",
      "請輸入你的答案：A\n",
      "正確！\n"
     ]
    }
   ],
   "source": [
    "print(\"請問以下SUPER JUNIOR成員中，誰沒有出過solo專輯？\")\n",
    "print(\"A.利特  B.東海  C.藝聲  D.圭賢\" )\n",
    "answer1 = input(\"請輸入你的答案：\")\n",
    "if answer1 == \"A\":\n",
    "    print(\"正確！\")\n",
    "else:\n",
    "    print(\"錯誤！\")"
   ]
  },
  {
   "cell_type": "code",
   "execution_count": 11,
   "metadata": {},
   "outputs": [
    {
     "name": "stdout",
     "output_type": "stream",
     "text": [
      "利特曾經連續四年主持某頒獎典禮，請問是以下哪個頒獎典禮？\n",
      "A.亞洲音樂節  B.金唱片獎  C.Asia Artist Award  D.MAMA  E.Goan Chart K-POP大獎 \n",
      "請輸入你的答案：C\n",
      "正確！\n"
     ]
    }
   ],
   "source": [
    "print(\"利特曾經連續四年主持某頒獎典禮，請問是以下哪個頒獎典禮？\")\n",
    "print(\"A.亞洲音樂節  B.金唱片獎  C.Asia Artist Award  D.MAMA  E.Goan Chart K-POP大獎 \")\n",
    "answer2 = input(\"請輸入你的答案：\")\n",
    "if answer2 == \"C\":\n",
    "    print(\"正確！\")\n",
    "else:\n",
    "    print(\"錯誤！\")"
   ]
  },
  {
   "cell_type": "code",
   "execution_count": 9,
   "metadata": {},
   "outputs": [
    {
     "name": "stdout",
     "output_type": "stream",
     "text": [
      "請問在SJ Returns\"我們同居了\"特輯中，利特和東海取的暱稱為何？ 並由哪位成員擔任該特輯的Master?\n",
      "A.老婆 & 親愛的/銀赫  B.Tom & Jerry/利特  C.神社 & 馬社/圭賢  D.藝性 & 咕嚕/希澈\n",
      "請輸入你的答案：C\n",
      "錯誤！\n"
     ]
    }
   ],
   "source": [
    "print(\"請問在SJ Returns\\\"我們同居了\\\"特輯中，利特和東海取的暱稱為何？ 並由哪位成員擔任該特輯的Master?\")\n",
    "print(\"A.老婆 & 親愛的/銀赫  B.Tom & Jerry/利特  C.神社 & 馬社/圭賢  D.藝性 & 咕嚕/希澈\")\n",
    "answer3 = input(\"請輸入你的答案：\")\n",
    "if answer3 == \"A\":\n",
    "    print(\"正確！\")\n",
    "else:\n",
    "    print(\"錯誤！\")"
   ]
  },
  {
   "cell_type": "code",
   "execution_count": 12,
   "metadata": {},
   "outputs": [
    {
     "name": "stdout",
     "output_type": "stream",
     "text": [
      "請問SUPER JUNIOR成員中，有幾位有經營Youtube頻道？且厲旭的頻道名為？\n",
      "A.6 / Ryeowook  B.7 / 厲旭的秘密基地  C.8 / GiraffeKim  D.9 / 小王子LittlePrice\n",
      "請輸入你的答案：B\n",
      "正確！\n"
     ]
    }
   ],
   "source": [
    "print(\"請問SUPER JUNIOR成員中，有幾位有經營Youtube頻道？且厲旭的頻道名為？\")\n",
    "print(\"A.6 / Ryeowook  B.7 / 厲旭的秘密基地  C.8 / GiraffeKim  D.9 / 小王子LittlePrice\")\n",
    "answer4 = input(\"請輸入你的答案：\")\n",
    "if answer4 == \"B\":\n",
    "    print(\"正確！\")\n",
    "else:\n",
    "    print(\"錯誤！\")"
   ]
  },
  {
   "cell_type": "code",
   "execution_count": 13,
   "metadata": {},
   "outputs": [
    {
     "name": "stdout",
     "output_type": "stream",
     "text": [
      "SUPER JUNIOR在臺灣KKBOX韓語專輯榜曾經創下連續121週一位的紀錄。請問截至今日，SUPER JUNIOR已經維持了連續幾週KKBOX韓語專輯榜的一位？\n",
      "A.139  B.141  C.146  D.147 \n",
      "請輸入你的答案：D\n",
      "正確！\n"
     ]
    }
   ],
   "source": [
    "print(\"SUPER JUNIOR在臺灣KKBOX韓語專輯榜曾經創下連續121週一位的紀錄。請問截至今日，SUPER JUNIOR已經維持了連續幾週KKBOX韓語專輯榜的一位？\")\n",
    "print(\"A.139  B.141  C.146  D.147 \")\n",
    "answer5 = input(\"請輸入你的答案：\")\n",
    "if answer5 == \"D\":\n",
    "    print(\"正確！\")\n",
    "else:\n",
    "    print(\"錯誤！\")"
   ]
  },
  {
   "cell_type": "markdown",
   "metadata": {},
   "source": [
    "# Step2 : 將所有問題合併（個別判斷對錯）"
   ]
  },
  {
   "cell_type": "code",
   "execution_count": 14,
   "metadata": {},
   "outputs": [
    {
     "name": "stdout",
     "output_type": "stream",
     "text": [
      "請問以下SUPER JUNIOR成員中，誰沒有出過solo專輯？\n",
      "A.利特  B.東海  C.藝聲  D.圭賢\n",
      "請輸入你的答案：Ａ\n",
      "錯誤！\n",
      "利特曾經連續四年主持某頒獎典禮，請問是以下哪個頒獎典禮？\n",
      "A.亞洲音樂節  B.金唱片獎  C.Asia Artist Award  D.MAMA  E.Goan Chart K-POP大獎 \n",
      "請輸入你的答案：C\n",
      "正確！\n",
      "請問在SJ Returns\"我們同居了\"特輯中，利特和東海取的暱稱為何？ 並由哪位成員擔任該特輯的Master?\n",
      "A.老婆 & 親愛的/銀赫  B.Tom & Jerry/利特  C.神社 & 馬社/圭賢  D.藝性 & 咕嚕/希澈\n",
      "請輸入你的答案：A\n",
      "正確！\n",
      "請問SUPER JUNIOR成員中，有幾位有經營Youtube頻道？且厲旭的頻道名為？\n",
      "A.6 / Ryeowook  B.7 / 厲旭的秘密基地  C.8 / GiraffeKim  D.9 / 小王子LittlePrice\n",
      "請輸入你的答案：B\n",
      "正確！\n",
      "SUPER JUNIOR在臺灣KKBOX韓語專輯榜曾經創下連續121週一位的紀錄。請問截至今日，SUPER JUNIOR已經維持了連續幾週KKBOX韓語專輯榜的一位？\n",
      "A.139  B.141  C.146  D.147 \n",
      "請輸入你的答案：D\n",
      "正確！\n"
     ]
    }
   ],
   "source": [
    "print(\"請問以下SUPER JUNIOR成員中，誰沒有出過solo專輯？\")\n",
    "print(\"A.利特  B.東海  C.藝聲  D.圭賢\" )\n",
    "answer1 = input(\"請輸入你的答案：\")\n",
    "if answer1 == \"A\":\n",
    "    print(\"正確！\")\n",
    "else:\n",
    "    print(\"錯誤！\")\n",
    "    \n",
    "print(\"利特曾經連續四年主持某頒獎典禮，請問是以下哪個頒獎典禮？\")\n",
    "print(\"A.亞洲音樂節  B.金唱片獎  C.Asia Artist Award  D.MAMA  E.Goan Chart K-POP大獎 \")\n",
    "answer2 = input(\"請輸入你的答案：\")\n",
    "if answer2 == \"C\":\n",
    "    print(\"正確！\")\n",
    "else:\n",
    "    print(\"錯誤！\")\n",
    "    \n",
    "print(\"請問在SJ Returns\\\"我們同居了\\\"特輯中，利特和東海取的暱稱為何？ 並由哪位成員擔任該特輯的Master?\")\n",
    "print(\"A.老婆 & 親愛的/銀赫  B.Tom & Jerry/利特  C.神社 & 馬社/圭賢  D.藝性 & 咕嚕/希澈\")\n",
    "answer3 = input(\"請輸入你的答案：\")\n",
    "if answer3 == \"A\":\n",
    "    print(\"正確！\")\n",
    "else:\n",
    "    print(\"錯誤！\")\n",
    "    \n",
    "print(\"請問SUPER JUNIOR成員中，有幾位有經營Youtube頻道？且厲旭的頻道名為？\")\n",
    "print(\"A.6 / Ryeowook  B.7 / 厲旭的秘密基地  C.8 / GiraffeKim  D.9 / 小王子LittlePrice\")\n",
    "answer4 = input(\"請輸入你的答案：\")\n",
    "if answer4 == \"B\":\n",
    "    print(\"正確！\")\n",
    "else:\n",
    "    print(\"錯誤！\")\n",
    "    \n",
    "print(\"SUPER JUNIOR在臺灣KKBOX韓語專輯榜曾經創下連續121週一位的紀錄。請問截至今日，SUPER JUNIOR已經維持了連續幾週KKBOX韓語專輯榜的一位？\")\n",
    "print(\"A.139  B.141  C.146  D.147 \")\n",
    "answer5 = input(\"請輸入你的答案：\")\n",
    "if answer5 == \"D\":\n",
    "    print(\"正確！\")\n",
    "else:\n",
    "    print(\"錯誤！\")"
   ]
  },
  {
   "cell_type": "markdown",
   "metadata": {},
   "source": [
    "# Step3 : 將所有問題合併（一起判斷對錯），並增加判斷條件"
   ]
  },
  {
   "cell_type": "code",
   "execution_count": 19,
   "metadata": {},
   "outputs": [
    {
     "name": "stdout",
     "output_type": "stream",
     "text": [
      "請問以下SUPER JUNIOR成員中，誰沒有出過solo專輯？\n",
      "A.利特  B.東海  C.藝聲  D.圭賢\n",
      "請輸入你的答案：A\n",
      "===================================================\n",
      "利特曾經連續四年主持某頒獎典禮，請問是以下哪個頒獎典禮？\n",
      "A.亞洲音樂節  B.金唱片獎  C.Asia Artist Award  D.MAMA  E.Goan Chart K-POP大獎 \n",
      "請輸入你的答案：A\n",
      "===================================================\n",
      "請問在SJ Returns\"我們同居了\"特輯中，利特和東海取的暱稱為何？ 並由哪位成員擔任該特輯的Master?\n",
      "A.老婆 & 親愛的/銀赫  B.Tom & Jerry/利特  C.神社 & 馬社/圭賢  D.藝性 & 咕嚕/希澈\n",
      "請輸入你的答案：B\n",
      "===================================================\n",
      "請問SUPER JUNIOR成員中，有幾位有經營Youtube頻道？且厲旭的頻道名為？\n",
      "A.6 / Ryeowook  B.7 / 厲旭的秘密基地  C.8 / GiraffeKim  D.9 / 小王子LittlePrice\n",
      "請輸入你的答案：B\n",
      "===================================================\n",
      "SUPER JUNIOR在臺灣KKBOX韓語專輯榜曾經創下連續121週一位的紀錄。請問截至今日，SUPER JUNIOR已經維持了連續幾週KKBOX韓語專輯榜的一位？\n",
      "A.139  B.141  C.146  D.147 \n",
      "請輸入你的答案：D\n",
      "答案有誤，請重新檢查一次！\n"
     ]
    }
   ],
   "source": [
    "print(\"請問以下SUPER JUNIOR成員中，誰沒有出過solo專輯？\")\n",
    "print(\"A.利特  B.東海  C.藝聲  D.圭賢\" )\n",
    "answer1 = input(\"請輸入你的答案：\")\n",
    "\n",
    "print(\"===================================================\")\n",
    "    \n",
    "print(\"利特曾經連續四年主持某頒獎典禮，請問是以下哪個頒獎典禮？\")\n",
    "print(\"A.亞洲音樂節  B.金唱片獎  C.Asia Artist Award  D.MAMA  E.Goan Chart K-POP大獎 \")\n",
    "answer2 = input(\"請輸入你的答案：\")\n",
    "\n",
    "print(\"===================================================\")\n",
    "    \n",
    "print(\"請問在SJ Returns\\\"我們同居了\\\"特輯中，利特和東海取的暱稱為何？ 並由哪位成員擔任該特輯的Master?\")\n",
    "print(\"A.老婆 & 親愛的/銀赫  B.Tom & Jerry/利特  C.神社 & 馬社/圭賢  D.藝性 & 咕嚕/希澈\")\n",
    "answer3 = input(\"請輸入你的答案：\")\n",
    "\n",
    "print(\"===================================================\")\n",
    "    \n",
    "print(\"請問SUPER JUNIOR成員中，有幾位有經營Youtube頻道？且厲旭的頻道名為？\")\n",
    "print(\"A.6 / Ryeowook  B.7 / 厲旭的秘密基地  C.8 / GiraffeKim  D.9 / 小王子LittlePrice\")\n",
    "answer4 = input(\"請輸入你的答案：\")\n",
    "\n",
    "print(\"===================================================\")\n",
    "    \n",
    "print(\"SUPER JUNIOR在臺灣KKBOX韓語專輯榜曾經創下連續121週一位的紀錄。請問截至今日，SUPER JUNIOR已經維持了連續幾週KKBOX韓語專輯榜的一位？\")\n",
    "print(\"A.139  B.141  C.146  D.147 \")\n",
    "answer5 = input(\"請輸入你的答案：\")\n",
    "\n",
    "if answer1 == \"A\" and answer2 == \"C\" and answer3 == \"A\" and answer4 == \"B\" and answer5 == \"D\" :\n",
    "    print(\"恭喜，回答正確！即將進入購票頁面......\")\n",
    "else:\n",
    "    print(\"答案有誤，請重新檢查一次！\")"
   ]
  },
  {
   "cell_type": "markdown",
   "metadata": {},
   "source": [
    "# Step4 : 增加防呆裝置"
   ]
  },
  {
   "cell_type": "code",
   "execution_count": 1,
   "metadata": {},
   "outputs": [
    {
     "name": "stdout",
     "output_type": "stream",
     "text": [
      "請問以下SUPER JUNIOR成員中，誰沒有出過solo專輯？\n",
      "A.利特  B.東海  C.藝聲  D.圭賢\n",
      "請輸入你的答案：A\n",
      "===================================================\n",
      "利特曾經連續四年主持某頒獎典禮，請問是以下哪個頒獎典禮？\n",
      "A.亞洲音樂節  B.金唱片獎  C.Asia Artist Award  D.MAMA  E.Goan Chart K-POP大獎 \n",
      "請輸入你的答案：F\n",
      "===================================================\n",
      "請問在SJ Returns\"我們同居了\"特輯中，利特和東海取的暱稱為何？ 並由哪位成員擔任該特輯的Master?\n",
      "A.老婆 & 親愛的/銀赫  B.Tom & Jerry/利特  C.神社 & 馬社/圭賢  D.藝性 & 咕嚕/希澈\n",
      "請輸入你的答案：A\n",
      "===================================================\n",
      "請問SUPER JUNIOR成員中，有幾位有經營Youtube頻道？且厲旭的頻道名為？\n",
      "A.6 / Ryeowook  B.7 / 厲旭的秘密基地  C.8 / GiraffeKim  D.9 / 小王子LittlePrice\n",
      "請輸入你的答案：B\n",
      "===================================================\n",
      "SUPER JUNIOR在臺灣KKBOX韓語專輯榜曾經創下連續121週一位的紀錄。請問截至今日，SUPER JUNIOR已經維持了連續幾週KKBOX韓語專輯榜的一位？\n",
      "A.139  B.141  C.146  D.147 \n",
      "請輸入你的答案：D\n",
      "答案有誤，請重新檢查一次！\n"
     ]
    }
   ],
   "source": [
    "while True:\n",
    "    print(\"請問以下SUPER JUNIOR成員中，誰沒有出過solo專輯？\")\n",
    "    print(\"A.利特  B.東海  C.藝聲  D.圭賢\" )\n",
    "    answer1 = input(\"請輸入你的答案：\")\n",
    "    \n",
    "    if answer1 == \"A\" or \"B\" or \"C\" or \"D\":\n",
    "        break\n",
    "\n",
    "print(\"===================================================\")\n",
    "\n",
    "while True:\n",
    "    print(\"利特曾經連續四年主持某頒獎典禮，請問是以下哪個頒獎典禮？\")\n",
    "    print(\"A.亞洲音樂節  B.金唱片獎  C.Asia Artist Award  D.MAMA  E.Goan Chart K-POP大獎 \")\n",
    "    answer2 = input(\"請輸入你的答案：\")\n",
    "\n",
    "    if answer2 == \"A\" or \"B\" or \"C\" or \"D\":\n",
    "        break\n",
    "        \n",
    "print(\"===================================================\")\n",
    "    \n",
    "while True:\n",
    "    print(\"請問在SJ Returns\\\"我們同居了\\\"特輯中，利特和東海取的暱稱為何？ 並由哪位成員擔任該特輯的Master?\")\n",
    "    print(\"A.老婆 & 親愛的/銀赫  B.Tom & Jerry/利特  C.神社 & 馬社/圭賢  D.藝性 & 咕嚕/希澈\")\n",
    "    answer3 = input(\"請輸入你的答案：\")\n",
    "    \n",
    "    if answer3 == \"A\" or \"B\" or \"C\" or \"D\":\n",
    "        break\n",
    "\n",
    "print(\"===================================================\")\n",
    " \n",
    "while True:    \n",
    "    print(\"請問SUPER JUNIOR成員中，有幾位有經營Youtube頻道？且厲旭的頻道名為？\")\n",
    "    print(\"A.6 / Ryeowook  B.7 / 厲旭的秘密基地  C.8 / GiraffeKim  D.9 / 小王子LittlePrice\")\n",
    "    answer4 = input(\"請輸入你的答案：\")\n",
    "    \n",
    "    if answer4 == \"A\" or \"B\" or \"C\" or \"D\":\n",
    "        break\n",
    "\n",
    "print(\"===================================================\")\n",
    "\n",
    "while True:\n",
    "    print(\"SUPER JUNIOR在臺灣KKBOX韓語專輯榜曾經創下連續121週一位的紀錄。請問截至今日，SUPER JUNIOR已經維持了連續幾週KKBOX韓語專輯榜的一位？\")\n",
    "    print(\"A.139  B.141  C.146  D.147 \")\n",
    "    answer5 = input(\"請輸入你的答案：\")\n",
    "    \n",
    "    if answer5 == \"A\" or \"B\" or \"C\" or \"D\":\n",
    "        break\n",
    "\n",
    "\n",
    "if answer1 == \"A\" and answer2 == \"C\" and answer3 == \"A\" and answer4 == \"B\" and answer5 == \"D\" :\n",
    "    print(\"恭喜，回答正確！即將進入購票頁面......\")\n",
    "else:\n",
    "    print(\"答案有誤，請重新檢查一次！\")"
   ]
  },
  {
   "cell_type": "code",
   "execution_count": 1,
   "metadata": {},
   "outputs": [
    {
     "name": "stdout",
     "output_type": "stream",
     "text": [
      "請問以下SUPER JUNIOR成員中，誰沒有出過solo專輯？\n",
      "A.利特  B.東海  C.藝聲  D.圭賢\n",
      "請輸入你的答案：L\n",
      "請輸入ABCD其中一個字母\n",
      "請問以下SUPER JUNIOR成員中，誰沒有出過solo專輯？\n",
      "A.利特  B.東海  C.藝聲  D.圭賢\n",
      "請輸入你的答案：Ｓ\n",
      "請輸入ABCD其中一個字母\n",
      "請問以下SUPER JUNIOR成員中，誰沒有出過solo專輯？\n",
      "A.利特  B.東海  C.藝聲  D.圭賢\n",
      "請輸入你的答案：Ａ\n",
      "請輸入ABCD其中一個字母\n",
      "請問以下SUPER JUNIOR成員中，誰沒有出過solo專輯？\n",
      "A.利特  B.東海  C.藝聲  D.圭賢\n",
      "請輸入你的答案：A\n",
      "===================================================\n",
      "利特曾經連續四年主持某頒獎典禮，請問是以下哪個頒獎典禮？\n",
      "A.亞洲音樂節  B.金唱片獎  C.Asia Artist Award  D.MAMA  E.Goan Chart K-POP大獎 \n",
      "請輸入你的答案：C\n",
      "===================================================\n",
      "請問在SJ Returns\"我們同居了\"特輯中，利特和東海取的暱稱為何？ 並由哪位成員擔任該特輯的Master?\n",
      "A.老婆 & 親愛的/銀赫  B.Tom & Jerry/利特  C.神社 & 馬社/圭賢  D.藝性 & 咕嚕/希澈\n",
      "請輸入你的答案：A\n",
      "===================================================\n",
      "請問SUPER JUNIOR成員中，有幾位有經營Youtube頻道？且厲旭的頻道名為？\n",
      "A.6 / Ryeowook  B.7 / 厲旭的秘密基地  C.8 / GiraffeKim  D.9 / 小王子LittlePrice\n",
      "請輸入你的答案：B\n",
      "===================================================\n",
      "SUPER JUNIOR在臺灣KKBOX韓語專輯榜曾經創下連續121週一位的紀錄。請問截至今日，SUPER JUNIOR已經維持了連續幾週KKBOX韓語專輯榜的一位？\n",
      "A.139  B.141  C.146  D.147 \n",
      "請輸入你的答案：D\n",
      "恭喜，回答正確！即將進入購票頁面......\n"
     ]
    }
   ],
   "source": [
    "while True:\n",
    "    print(\"請問以下SUPER JUNIOR成員中，誰沒有出過solo專輯？\")\n",
    "    print(\"A.利特  B.東海  C.藝聲  D.圭賢\" )\n",
    "    answer1 = input(\"請輸入你的答案：\")\n",
    "    \n",
    "    if answer1 in [\"A\", \"B\", \"C\", \"D\"]:\n",
    "        break\n",
    "    else:\n",
    "        print(\"請輸入ABCD其中一個字母\")\n",
    "\n",
    "print(\"===================================================\")\n",
    "\n",
    "while True:\n",
    "    print(\"利特曾經連續四年主持某頒獎典禮，請問是以下哪個頒獎典禮？\")\n",
    "    print(\"A.亞洲音樂節  B.金唱片獎  C.Asia Artist Award  D.MAMA  E.Goan Chart K-POP大獎 \")\n",
    "    answer2 = input(\"請輸入你的答案：\")\n",
    "\n",
    "    if answer2 in [\"A\", \"B\", \"C\", \"D\"]:\n",
    "        break\n",
    "    else:\n",
    "        print(\"請輸入ABCD其中一個字母\")\n",
    "        \n",
    "print(\"===================================================\")\n",
    "    \n",
    "while True:\n",
    "    print(\"請問在SJ Returns\\\"我們同居了\\\"特輯中，利特和東海取的暱稱為何？ 並由哪位成員擔任該特輯的Master?\")\n",
    "    print(\"A.老婆 & 親愛的/銀赫  B.Tom & Jerry/利特  C.神社 & 馬社/圭賢  D.藝性 & 咕嚕/希澈\")\n",
    "    answer3 = input(\"請輸入你的答案：\")\n",
    "    \n",
    "    if answer3 in [\"A\", \"B\", \"C\", \"D\"]:\n",
    "        break\n",
    "    else:\n",
    "        print(\"請輸入ABCD其中一個字母\")\n",
    "\n",
    "print(\"===================================================\")\n",
    " \n",
    "while True:    \n",
    "    print(\"請問SUPER JUNIOR成員中，有幾位有經營Youtube頻道？且厲旭的頻道名為？\")\n",
    "    print(\"A.6 / Ryeowook  B.7 / 厲旭的秘密基地  C.8 / GiraffeKim  D.9 / 小王子LittlePrice\")\n",
    "    answer4 = input(\"請輸入你的答案：\")\n",
    "    \n",
    "    if answer4 in [\"A\", \"B\", \"C\", \"D\"]:\n",
    "        break\n",
    "    else:\n",
    "        print(\"請輸入ABCD其中一個字母\")\n",
    "        \n",
    "print(\"===================================================\")\n",
    "\n",
    "while True:\n",
    "    print(\"SUPER JUNIOR在臺灣KKBOX韓語專輯榜曾經創下連續121週一位的紀錄。請問截至今日，SUPER JUNIOR已經維持了連續幾週KKBOX韓語專輯榜的一位？\")\n",
    "    print(\"A.139  B.141  C.146  D.147 \")\n",
    "    answer5 = input(\"請輸入你的答案：\")\n",
    "    \n",
    "    if answer5 in [\"A\", \"B\", \"C\", \"D\"]:\n",
    "        break\n",
    "    else:\n",
    "        print(\"請輸入ABCD其中一個字母\")\n",
    "\n",
    "        \n",
    "if answer1 == \"A\" and answer2 == \"C\" and answer3 == \"A\" and answer4 == \"B\" and answer5 == \"D\" :\n",
    "    print(\"恭喜，回答正確！即將進入購票頁面......\")\n",
    "else:\n",
    "    print(\"答案有誤，請重新檢查一次！\")"
   ]
  }
 ],
 "metadata": {
  "kernelspec": {
   "display_name": "Python 3",
   "language": "python",
   "name": "python3"
  },
  "language_info": {
   "codemirror_mode": {
    "name": "ipython",
    "version": 3
   },
   "file_extension": ".py",
   "mimetype": "text/x-python",
   "name": "python",
   "nbconvert_exporter": "python",
   "pygments_lexer": "ipython3",
   "version": "3.7.3"
  }
 },
 "nbformat": 4,
 "nbformat_minor": 2
}
