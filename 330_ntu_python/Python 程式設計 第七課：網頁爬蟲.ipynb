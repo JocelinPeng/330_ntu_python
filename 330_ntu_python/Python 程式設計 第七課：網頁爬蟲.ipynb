{
 "cells": [
  {
   "cell_type": "markdown",
   "metadata": {
    "colab_type": "text",
    "id": "DdBitnFUNP8j"
   },
   "source": [
    "# 透過 Python 擷取網頁上的資料"
   ]
  },
  {
   "cell_type": "markdown",
   "metadata": {
    "colab_type": "text",
    "id": "n1uW2DSxNP8o"
   },
   "source": [
    "在大數據變成顯學的時代，今天我們要做資料分析，若沒有大量的資料，是無法分析出任何有價值的資訊出來的。\n",
    "\n",
    "但是在一般情況下，我們都沒有大量的資料可以做分析，但幸運的是，由於網路的蓬勃發展，獲取任何一個領域的資料比起過往相對就變得容易許多。但是，由於網頁上的資料非常多，若透過手動的方式截取資料，就不是一個很有效率的方法了。\n",
    "\n",
    "因此這時候，透過程式自動從網路上蒐集資料這個問題也變得更加重要，只需一個簡單的程式，就能透過低成本並且自動化的方式從網頁上獲得大量的資料，因此**學習與實作網頁爬蟲成為一個投資報酬率極高的事務**，而 Python 語言由於生態系龐大，套件衆多，也讓用 Python 實作爬蟲比起其他語言相對簡單許多。"
   ]
  },
  {
   "cell_type": "markdown",
   "metadata": {
    "colab_type": "text",
    "id": "z4WAmgQyNP8q"
   },
   "source": [
    "## 請先開啓範例網頁：\n",
    "\n",
    "http://pythonscraping.com/pages/warandpeace.html\n",
    "\n",
    "*以上練習用網頁由 Ryan Mitchell 維護，可以的話，大家買一本他的書支持他繼續維護這個網站：[連結](https://www.books.com.tw/products/0010800965)\n",
    "\n",
    "在進入網頁之後，試試看直接點擊網頁，然後右鍵 -> 儲存，接下來瀏覽器會將一個副檔名為 **html** 的檔案存下來。由此我們發現，任何一個我們看得見的網頁，其實都是一個副檔名為 **.html** 的檔案，問題是，這個 **html** 檔案是從何而來？它的原理又是什麽？"
   ]
  },
  {
   "cell_type": "markdown",
   "metadata": {
    "colab_type": "text",
    "id": "irY_iD9GNP8r"
   },
   "source": [
    "## 網頁開發基礎： HTTP 溝通協定\n",
    "\n",
    "HTTP 用白話講，就像是**電腦與電腦之間的共同語言**，電腦需要通過這個共同語言，才能在網絡上面互相溝通。\n",
    "\n",
    "![](https://drive.google.com/uc?export=download&id=1UiDUXriZVo83ePdiSQTLS4QWnCN_YsVu)\n",
    "\n",
    "而一個 HTTP 的請求 (Request) 是根據 **HTTP 動詞** (HTTP Verb) 以及**網址**才能運作，舉例來説，當你在輸入 https://www.google.com/ ，連至 Google 的首頁時，整個背後的運作流程是：\n",
    "\n",
    "1. 用戶端 (你的瀏覽器) 針對 Google 的雲端伺服器發送了一個 GET Request\n",
    "2. 而 Google 的雲端伺服器在收到請求後，將需要呈現該網頁的資料都計算完成\n",
    "3. 接著 Google 的雲端伺服器會回傳一個回應 (Response)，這個 Response 内通常就包含了一個 html 檔案\n",
    "4. 用戶端 (你的瀏覽器) 在下載了請求回傳的 html 檔案之後，將 html 程式碼渲染成網頁，呈現給使用者\n",
    "\n",
    "## HTTP Request 的種類\n",
    "\n",
    "一般來説，Request 有 GET 與 POST：\n",
    "\n",
    "- GET 代表我需要查詢 / 顯示資料，像是 GET https://www.facebook.com/ 代表查詢 facebook 首頁\n",
    "- POST 代表我需要新增資料，通常用於網頁上的表單，像是 POST https://www.foodpanda.com/orders 代表新增訂單\n",
    "\n",
    "## HTTP response 的種類\n",
    "\n",
    "- 一般伺服器通常是回傳 html 網頁檔案\n",
    "- 但若是一些功能像是下載 / 輸出報表，Response 則是一個 xlsx / csv 檔案\n",
    "\n",
    "\n",
    "## 從 Excel 的角度來理解...\n",
    "\n",
    "像是 FB, Google, Yahoo 等網站，**其實都像是一個個運行在雲端上的 Excel 函數**。\n",
    "\n",
    "而要使用該函數時，就必須透過一個 HTTP 的請求 (Request) 來呼叫該函數。讓瀏覽器發送 HTTP Request 的方法就是輸入網址，就像是在 Excel 上輸入公式一樣。\n",
    "\n",
    "而該公式若執行成功，不同於 Excel 是將結果顯示在工作表上，HTTP Request 的結果就是一個 Response，該 Response 通常是顯示在瀏覽器上的網頁，也有可能是 xlsx / csv 檔案"
   ]
  },
  {
   "cell_type": "markdown",
   "metadata": {
    "colab_type": "text",
    "id": "qXd_i_QONP8t"
   },
   "source": [
    "\n",
    "## 用 Python 實作爬蟲\n",
    "\n",
    "Python 用來實作爬蟲的兩個主流套件：\n",
    "\n",
    "- BeautifulSoup [官方文件](https://www.crummy.com/software/BeautifulSoup/bs4/doc.zh/)\n",
    "\n",
    "- PyQuery [官方文件](https://pythonhosted.org/pyquery/)\n",
    "\n",
    "簡單來説：\n",
    "\n",
    "**BeautifulSoup** 是比較貼近**程式設計師**的角度去思考\n",
    "\n",
    "**PyQuery** 貼近**網頁開發者**的角度去思考\n",
    "\n",
    "在這堂課考量到並不是每一個人都具備網頁開發的背景，因此我們會使用 BeautifulSoup 套件來實作爬蟲"
   ]
  },
  {
   "cell_type": "markdown",
   "metadata": {
    "colab_type": "text",
    "id": "Ac0N9fsvNP8u"
   },
   "source": [
    "## 網頁開發 101\n",
    "\n",
    "任何網頁都是由 **html 標籤(tag)** 所組成，基本結構如下\n",
    "```html\n",
    "<標籤名稱 class=\"類別名稱\">內容</標籤名稱>\n",
    "<標籤名稱 id=\"id名稱\">內容</標籤名稱>\n",
    "```\n",
    "今天我們要擷取的任何內容，一定是被包裹在在某一個標籤裡面\n",
    "而今天若網頁開發者需要改變任何一個標籤的**樣式**，就需要用到 **css** 語法\n",
    "以上面的網頁為例，人名都是以綠色顯示，所以就先宣告一個名為 **green** 的 css 類別:\n",
    "\n",
    "```html\n",
    "<style>\n",
    ".green{\n",
    "\tcolor:#55ff55;\n",
    "}\n",
    "</style>\n",
    "```\n",
    "\n",
    "若今天希望讓一個標籤的内容文字變成綠色，可以使用定義好的 .green 這個 css 類別：\n",
    "\n",
    "```html\n",
    "<span class=\"green\">Prince Vasili Kuragin</span>\n",
    "```\n",
    "\n",
    "*想了解更多 html 可以看一下 Mozilla 官網的教學：[HTML 基礎](https://developer.mozilla.org/zh-TW/docs/Learn/Getting_started_with_the_web/HTML_basics)"
   ]
  },
  {
   "cell_type": "markdown",
   "metadata": {},
   "source": [
    "<h1> War and Peace </h1> #h表示header\n",
    "<p>...</p> #p表示paragraph"
   ]
  },
  {
   "cell_type": "markdown",
   "metadata": {
    "colab_type": "text",
    "id": "0Ov5EcSJNP8w"
   },
   "source": [
    "## 使用 標籤 「類別名稱」取得資料\n",
    "\n",
    "要擷取資料前，首先需要透過方法**選擇**到該標籤\n",
    "##  BeautifulSoup 套件\n",
    "\n",
    "典故來自 Alice in WonderLand 裏面一首同名的詩，由假海龜 (Mock Turtle) 所唱，影射英國料理假海龜湯...\n",
    "\n",
    "有興趣自己可以去 Google, 不多説了...\n",
    "\n",
    "想查看 BeautifulSoup 套件的功能請看一下官方的中文文件：\n",
    "\n",
    "[BeautifulSoup 官方文件](https://www.crummy.com/software/BeautifulSoup/bs4/doc.zh/)\n"
   ]
  },
  {
   "cell_type": "markdown",
   "metadata": {
    "colab_type": "text",
    "id": "ByfQTMtkNP8x"
   },
   "source": [
    "```python\n",
    "from bs4 import BeautifulSoup\n",
    "import requests\n",
    "\n",
    "# 針對網頁發送 GET Reqeust\n",
    "res = requests.get(\"http://pythonscraping.com/pages/warandpeace.html\")\n",
    "# 將回傳的 Response 内的文字用 BeautifulSoup 解析\n",
    "html = BeautifulSoup(res.text, \"html.parser\")\n",
    "```"
   ]
  },
  {
   "cell_type": "code",
   "execution_count": 2,
   "metadata": {
    "colab": {},
    "colab_type": "code",
    "id": "ho8oDCIuNP8y",
    "scrolled": true
   },
   "outputs": [
    {
     "data": {
      "text/plain": [
       "'<html>\\n<head>\\n<style>\\n.green{\\n\\tcolor:#55ff55;\\n}\\n.red{\\n\\tcolor:#ff5555;\\n}\\n#text{\\n\\twidth:50%;\\n}\\n</style>\\n</head>\\n<body>\\n<h1>War and Peace</h1>\\n<h2>Chapter 1</h2>\\n<div id=\"text\">\\n\"<span class=\"red\">Well, Prince, so Genoa and Lucca are now just family estates of the\\nBuonapartes. But I warn you, if you don\\'t tell me that this means war,\\nif you still try to defend the infamies and horrors perpetrated by\\nthat Antichrist- I really believe he is Antichrist- I will have\\nnothing more to do with you and you are no longer my friend, no longer\\nmy \\'faithful slave,\\' as you call yourself! But how do you do? I see\\nI have frightened you- sit down and tell me all the news.</span>\"\\n<p/>\\nIt was in July, 1805, and the speaker was the well-known <span class=\"green\">Anna\\nPavlovna Scherer</span>, maid of honor and favorite of the <span class=\"green\">Empress Marya\\nFedorovna</span>. With these words she greeted <span class=\"green\">Prince Vasili Kuragin</span>, a man\\nof high rank and importance, who was the first to arrive at her\\nreception. <span class=\"green\">Anna Pavlovna</span> had had a cough for some days. She was, as\\nshe said, suffering from la grippe; grippe being then a new word in\\n<span class=\"green\">St. Petersburg</span>, used only by the elite.\\n<p/>\\nAll her invitations without exception, written in French, and\\ndelivered by a scarlet-liveried footman that morning, ran as follows:\\n<p/>\\n\"<span class=\"red\">If you have nothing better to do, Count [or Prince], and if the\\nprospect of spending an evening with a poor invalid is not too\\nterrible, I shall be very charmed to see you tonight between 7 and 10-\\nAnnette Scherer.</span>\"\\n<p/>\\n\"<span class=\"red\">Heavens! what a virulent attack!</span>\" replied <span class=\"green\">the prince</span>, not in the\\nleast disconcerted by this reception. He had just entered, wearing\\nan embroidered court uniform, knee breeches, and shoes, and had\\nstars on his breast and a serene expression on his flat face. He spoke\\nin that refined French in which our grandfathers not only spoke but\\nthought, and with the gentle, patronizing intonation natural to a\\nman of importance who had grown old in society and at court. He went\\nup to <span class=\"green\">Anna Pavlovna</span>, kissed her hand, presenting to her his bald,\\nscented, and shining head, and complacently seated himself on the\\nsofa.\\n<p/>\\n\"<span class=\"red\">First of all, dear friend, tell me how you are. Set your friend\\'s\\nmind at rest,</span>\" said he without altering his tone, beneath the\\npoliteness and affected sympathy of which indifference and even\\nirony could be discerned.\\n<p/>\\n\"<span class=\"red\">Can one be well while suffering morally? Can one be calm in times\\nlike these if one has any feeling?</span>\" said <span class=\"green\">Anna Pavlovna</span>. \"<span class=\"red\">You are\\nstaying the whole evening, I hope?</span>\"\\n<p/>\\n\"<span class=\"red\">And the fete at the English ambassador\\'s? Today is Wednesday. I\\nmust put in an appearance there,</span>\" said <span class=\"green\">the prince</span>. \"<span class=\"red\">My daughter is\\ncoming for me to take me there.</span>\"\\n<p/>\\n\"<span class=\"red\">I thought today\\'s fete had been canceled. I confess all these\\nfestivities and fireworks are becoming wearisome.</span>\"\\n<p/>\\n\"<span class=\"red\">If they had known that you wished it, the entertainment would\\nhave been put off,</span>\" said <span class=\"green\">the prince</span>, who, like a wound-up clock, by\\nforce of habit said things he did not even wish to be believed.\\n<p/>\\n\"<span class=\"red\">Don\\'t tease! Well, and what has been decided about Novosiltsev\\'s\\ndispatch? You know everything.</span>\"\\n<p/>\\n\"<span class=\"red\">What can one say about it?</span>\" replied <span class=\"green\">the prince</span> in a cold,\\nlistless tone. \"<span class=\"red\">What has been decided? They have decided that\\nBuonaparte has burnt his boats, and I believe that we are ready to\\nburn ours.</span>\"\\n<p/>\\n<span class=\"green\">Prince Vasili</span> always spoke languidly, like an actor repeating a\\nstale part. <span class=\"green\">Anna Pavlovna</span> Scherer on the contrary, despite her forty\\nyears, overflowed with animation and impulsiveness. To be an\\nenthusiast had become her social vocation and, sometimes even when she\\ndid not feel like it, she became enthusiastic in order not to\\ndisappoint the expectations of those who knew her. The subdued smile\\nwhich, though it did not suit her faded features, always played\\nround her lips expressed, as in a spoiled child, a continual\\nconsciousness of her charming defect, which she neither wished, nor\\ncould, nor considered it necessary, to correct.\\n<p/>\\nIn the midst of a conversation on political matters <span class=\"green\">Anna Pavlovna</span>\\nburst out:\\n<p/>\\n\"<span class=\"red\">Oh, don\\'t speak to me of Austria. Perhaps I don\\'t understand\\nthings, but Austria never has wished, and does not wish, for war.\\nShe is betraying us! Russia alone must save Europe. Our gracious\\nsovereign recognizes his high vocation and will be true to it. That is\\nthe one thing I have faith in! Our good and wonderful sovereign has to\\nperform the noblest role on earth, and he is so virtuous and noble\\nthat God will not forsake him. He will fulfill his vocation and\\ncrush the hydra of revolution, which has become more terrible than\\never in the person of this murderer and villain! We alone must\\navenge the blood of the just one.... Whom, I ask you, can we rely\\non?... England with her commercial spirit will not and cannot\\nunderstand the Emperor Alexander\\'s loftiness of soul. She has\\nrefused to evacuate Malta. She wanted to find, and still seeks, some\\nsecret motive in our actions. What answer did Novosiltsev get? None.\\nThe English have not understood and cannot understand the\\nself-abnegation of our Emperor who wants nothing for himself, but only\\ndesires the good of mankind. And what have they promised? Nothing! And\\nwhat little they have promised they will not perform! Prussia has\\nalways declared that Buonaparte is invincible, and that all Europe\\nis powerless before him.... And I don\\'t believe a word that Hardenburg\\nsays, or Haugwitz either. This famous Prussian neutrality is just a\\ntrap. I have faith only in God and the lofty destiny of our adored\\nmonarch. He will save Europe!</span>\"\\n<p/>\\nShe suddenly paused, smiling at her own impetuosity.\\n<p/>\\n\"<span class=\"red\">I think,</span>\" said <span class=\"green\">the prince</span> with a smile, \"<span class=\"red\">that if you had been\\nsent instead of our dear <span class=\"green\">Wintzingerode</span> you would have captured the\\n<span class=\"green\">King of Prussia</span>\\'s consent by assault. You are so eloquent. Will you\\ngive me a cup of tea?</span>\"\\n<p/>\\n\"<span class=\"red\">In a moment. A propos,</span>\" she added, becoming calm again, \"<span class=\"red\">I am\\nexpecting two very interesting men tonight, <span class=\"green\">le Vicomte de Mortemart</span>,\\nwho is connected with the <span class=\"green\">Montmorencys</span> through the <span class=\"green\">Rohans</span>, one of\\nthe best French families. He is one of the genuine emigres, the good\\nones. And also the <span class=\"green\">Abbe Morio</span>. Do you know that profound thinker? He\\nhas been received by <span class=\"green\">the Emperor</span>. Had you heard?</span>\"\\n<p/>\\n\"<span class=\"red\">I shall be delighted to meet them,</span>\" said <span class=\"green\">the prince</span>. \"<span class=\"red\">But tell me,</span>\"\\nhe added with studied carelessness as if it had only just occurred\\nto him, though the question he was about to ask was the chief motive\\nof his visit, \"<span class=\"red\">is it true that the Dowager Empress wants Baron Funke\\nto be appointed first secretary at Vienna? The baron by all accounts\\nis a poor creature.</span>\"\\n<p/>\\n<span class=\"green\">Prince Vasili</span> wished to obtain this post for his son, but others\\nwere trying through the <span class=\"green\">Dowager Empress Marya Fedorovna</span> to secure it\\nfor <span class=\"green\">the baron</span>.\\n<p/>\\n<span class=\"green\">Anna Pavlovna</span> almost closed her eyes to indicate that neither she\\nnor anyone else had a right to criticize what <span class=\"green\">the Empress</span> desired or\\nwas pleased with.\\n<p/>\\n\"<span class=\"red\">Baron Funke has been recommended to the Dowager Empress by her\\nsister,</span>\" was all she said, in a dry and mournful tone.\\n<p/>\\nAs she named <span class=\"green\">the Empress</span>, <span class=\"green\">Anna Pavlovna\\'s</span> face suddenly assumed an\\nexpression of profound and sincere devotion and respect mingled with\\nsadness, and this occurred every time she mentioned her illustrious\\npatroness. She added that <span class=\"green\">Her Majesty</span> had deigned to show <span class=\"green\">Baron\\nFunke</span>, and again her face clouded over with sadness.\\n<p/>\\n<span class=\"green\">The prince</span> was silent and looked indifferent. But, with the\\nwomanly and courtierlike quickness and tact habitual to her, <span class=\"green\">Anna\\nPavlovna</span> wished both to rebuke him (for daring to speak he had done of\\na man recommended to <span class=\"green\">the Empress</span>) and at the same time to console him,\\nso she said:\\n<p/>\\n\"<span class=\"red\">Now about your family. Do you know that since your daughter came\\nout everyone has been enraptured by her? They say she is amazingly\\nbeautiful.</span>\"\\n<p/>\\n<span class=\"green\">The prince</span> bowed to signify his respect and gratitude.\\n<p/>\\n\"<span class=\"red\">I often think,</span>\" she continued after a short pause, drawing nearer\\nto the prince and smiling amiably at him as if to show that\\npolitical and social topics were ended and the time had come for\\nintimate conversation- \"<span class=\"red\">I often think how unfairly sometimes the\\njoys of life are distributed. Why has fate given you two such splendid\\nchildren? I don\\'t speak of <span class=\"green\">Anatole</span>, your youngest. I don\\'t like\\nhim,</span>\" she added in a tone admitting of no rejoinder and raising her\\neyebrows. \"<span class=\"red\">Two such charming children. And really you appreciate\\nthem less than anyone, and so you don\\'t deserve to have them.</span>\"\\n<p/>\\nAnd she smiled her ecstatic smile.\\n<p/>\\n\"<span class=\"red\">I can\\'t help it,</span>\" said <span class=\"green\">the prince</span>. \"<span class=\"red\">Lavater would have said I\\nlack the bump of paternity.</span>\"\\n<p/>\\n\"<span class=\"red\">Don\\'t joke; I mean to have a serious talk with you. Do you know I\\nam dissatisfied with your younger son? Between ourselves</span>\" (and her\\nface assumed its melancholy expression), \"<span class=\"red\">he was mentioned at Her\\nMajesty\\'s and you were pitied....</span>\"\\n<p/>\\n<span class=\"green\">The prince</span> answered nothing, but she looked at him significantly,\\nawaiting a reply. He frowned.\\n<p/>\\n\"<span class=\"red\">What would you have me do?</span>\" he said at last. \"<span class=\"red\">You know I did all\\na father could for their education, and they have both turned out\\nfools. Hippolyte is at least a quiet fool, but Anatole is an active\\none. That is the only difference between them.</span>\" He said this smiling\\nin a way more natural and animated than usual, so that the wrinkles\\nround his mouth very clearly revealed something unexpectedly coarse\\nand unpleasant.\\n<p/>\\n\"<span class=\"red\">And why are children born to such men as you? If you were not a\\nfather there would be nothing I could reproach you with,</span>\" said <span class=\"green\">Anna\\nPavlovna</span>, looking up pensively.\\n<p/>\\n\"<span class=\"red\">I am your faithful slave and to you alone I can confess that my\\nchildren are the bane of my life. It is the cross I have to bear. That\\nis how I explain it to myself. It can\\'t be helped!</span>\"\\n<p/>\\nHe said no more, but expressed his resignation to cruel fate by a\\ngesture. <span class=\"green\">Anna Pavlovna</span> meditated.\\n</div>\\n</body>\\n</html>\\n'"
      ]
     },
     "execution_count": 2,
     "metadata": {},
     "output_type": "execute_result"
    }
   ],
   "source": [
    "import bs4\n",
    "import requests\n",
    "\n",
    "res = requests.get(\"http://pythonscraping.com/pages/warandpeace.html\")\n",
    "res.text"
   ]
  },
  {
   "cell_type": "markdown",
   "metadata": {
    "colab_type": "text",
    "id": "Glgijf4iNP83"
   },
   "source": [
    "## 另外再介紹一下 find() 方法...\n",
    "\n",
    "```python\n",
    "from bs4 import BeautifulSoup\n",
    "import requests\n",
    "\n",
    "res = requests.get(\"http://pythonscraping.com/pages/warandpeace.html\")\n",
    "html = BeautifulSoup(res.text, 'html.parser')\n",
    "# 我們把該網頁使用 'green' css 類別的 span 標籤過濾出來...\n",
    "name = html.find(\"span\", {\"class\": \"green\"})\n",
    "print(name)\n",
    "```"
   ]
  },
  {
   "cell_type": "code",
   "execution_count": null,
   "metadata": {},
   "outputs": [],
   "source": [
    "#html控制網頁的排版  css控制樣式（呈現方式）"
   ]
  },
  {
   "cell_type": "code",
   "execution_count": 5,
   "metadata": {
    "scrolled": false
   },
   "outputs": [
    {
     "data": {
      "text/plain": [
       "<html>\n",
       "<head>\n",
       "<style>\n",
       ".green{\n",
       "\tcolor:#55ff55;\n",
       "}\n",
       ".red{\n",
       "\tcolor:#ff5555;\n",
       "}\n",
       "#text{\n",
       "\twidth:50%;\n",
       "}\n",
       "</style>\n",
       "</head>\n",
       "<body>\n",
       "<h1>War and Peace</h1>\n",
       "<h2>Chapter 1</h2>\n",
       "<div id=\"text\">\n",
       "\"<span class=\"red\">Well, Prince, so Genoa and Lucca are now just family estates of the\n",
       "Buonapartes. But I warn you, if you don't tell me that this means war,\n",
       "if you still try to defend the infamies and horrors perpetrated by\n",
       "that Antichrist- I really believe he is Antichrist- I will have\n",
       "nothing more to do with you and you are no longer my friend, no longer\n",
       "my 'faithful slave,' as you call yourself! But how do you do? I see\n",
       "I have frightened you- sit down and tell me all the news.</span>\"\n",
       "<p></p>\n",
       "It was in July, 1805, and the speaker was the well-known <span class=\"green\">Anna\n",
       "Pavlovna Scherer</span>, maid of honor and favorite of the <span class=\"green\">Empress Marya\n",
       "Fedorovna</span>. With these words she greeted <span class=\"green\">Prince Vasili Kuragin</span>, a man\n",
       "of high rank and importance, who was the first to arrive at her\n",
       "reception. <span class=\"green\">Anna Pavlovna</span> had had a cough for some days. She was, as\n",
       "she said, suffering from la grippe; grippe being then a new word in\n",
       "<span class=\"green\">St. Petersburg</span>, used only by the elite.\n",
       "<p></p>\n",
       "All her invitations without exception, written in French, and\n",
       "delivered by a scarlet-liveried footman that morning, ran as follows:\n",
       "<p></p>\n",
       "\"<span class=\"red\">If you have nothing better to do, Count [or Prince], and if the\n",
       "prospect of spending an evening with a poor invalid is not too\n",
       "terrible, I shall be very charmed to see you tonight between 7 and 10-\n",
       "Annette Scherer.</span>\"\n",
       "<p></p>\n",
       "\"<span class=\"red\">Heavens! what a virulent attack!</span>\" replied <span class=\"green\">the prince</span>, not in the\n",
       "least disconcerted by this reception. He had just entered, wearing\n",
       "an embroidered court uniform, knee breeches, and shoes, and had\n",
       "stars on his breast and a serene expression on his flat face. He spoke\n",
       "in that refined French in which our grandfathers not only spoke but\n",
       "thought, and with the gentle, patronizing intonation natural to a\n",
       "man of importance who had grown old in society and at court. He went\n",
       "up to <span class=\"green\">Anna Pavlovna</span>, kissed her hand, presenting to her his bald,\n",
       "scented, and shining head, and complacently seated himself on the\n",
       "sofa.\n",
       "<p></p>\n",
       "\"<span class=\"red\">First of all, dear friend, tell me how you are. Set your friend's\n",
       "mind at rest,</span>\" said he without altering his tone, beneath the\n",
       "politeness and affected sympathy of which indifference and even\n",
       "irony could be discerned.\n",
       "<p></p>\n",
       "\"<span class=\"red\">Can one be well while suffering morally? Can one be calm in times\n",
       "like these if one has any feeling?</span>\" said <span class=\"green\">Anna Pavlovna</span>. \"<span class=\"red\">You are\n",
       "staying the whole evening, I hope?</span>\"\n",
       "<p></p>\n",
       "\"<span class=\"red\">And the fete at the English ambassador's? Today is Wednesday. I\n",
       "must put in an appearance there,</span>\" said <span class=\"green\">the prince</span>. \"<span class=\"red\">My daughter is\n",
       "coming for me to take me there.</span>\"\n",
       "<p></p>\n",
       "\"<span class=\"red\">I thought today's fete had been canceled. I confess all these\n",
       "festivities and fireworks are becoming wearisome.</span>\"\n",
       "<p></p>\n",
       "\"<span class=\"red\">If they had known that you wished it, the entertainment would\n",
       "have been put off,</span>\" said <span class=\"green\">the prince</span>, who, like a wound-up clock, by\n",
       "force of habit said things he did not even wish to be believed.\n",
       "<p></p>\n",
       "\"<span class=\"red\">Don't tease! Well, and what has been decided about Novosiltsev's\n",
       "dispatch? You know everything.</span>\"\n",
       "<p></p>\n",
       "\"<span class=\"red\">What can one say about it?</span>\" replied <span class=\"green\">the prince</span> in a cold,\n",
       "listless tone. \"<span class=\"red\">What has been decided? They have decided that\n",
       "Buonaparte has burnt his boats, and I believe that we are ready to\n",
       "burn ours.</span>\"\n",
       "<p></p>\n",
       "<span class=\"green\">Prince Vasili</span> always spoke languidly, like an actor repeating a\n",
       "stale part. <span class=\"green\">Anna Pavlovna</span> Scherer on the contrary, despite her forty\n",
       "years, overflowed with animation and impulsiveness. To be an\n",
       "enthusiast had become her social vocation and, sometimes even when she\n",
       "did not feel like it, she became enthusiastic in order not to\n",
       "disappoint the expectations of those who knew her. The subdued smile\n",
       "which, though it did not suit her faded features, always played\n",
       "round her lips expressed, as in a spoiled child, a continual\n",
       "consciousness of her charming defect, which she neither wished, nor\n",
       "could, nor considered it necessary, to correct.\n",
       "<p></p>\n",
       "In the midst of a conversation on political matters <span class=\"green\">Anna Pavlovna</span>\n",
       "burst out:\n",
       "<p></p>\n",
       "\"<span class=\"red\">Oh, don't speak to me of Austria. Perhaps I don't understand\n",
       "things, but Austria never has wished, and does not wish, for war.\n",
       "She is betraying us! Russia alone must save Europe. Our gracious\n",
       "sovereign recognizes his high vocation and will be true to it. That is\n",
       "the one thing I have faith in! Our good and wonderful sovereign has to\n",
       "perform the noblest role on earth, and he is so virtuous and noble\n",
       "that God will not forsake him. He will fulfill his vocation and\n",
       "crush the hydra of revolution, which has become more terrible than\n",
       "ever in the person of this murderer and villain! We alone must\n",
       "avenge the blood of the just one.... Whom, I ask you, can we rely\n",
       "on?... England with her commercial spirit will not and cannot\n",
       "understand the Emperor Alexander's loftiness of soul. She has\n",
       "refused to evacuate Malta. She wanted to find, and still seeks, some\n",
       "secret motive in our actions. What answer did Novosiltsev get? None.\n",
       "The English have not understood and cannot understand the\n",
       "self-abnegation of our Emperor who wants nothing for himself, but only\n",
       "desires the good of mankind. And what have they promised? Nothing! And\n",
       "what little they have promised they will not perform! Prussia has\n",
       "always declared that Buonaparte is invincible, and that all Europe\n",
       "is powerless before him.... And I don't believe a word that Hardenburg\n",
       "says, or Haugwitz either. This famous Prussian neutrality is just a\n",
       "trap. I have faith only in God and the lofty destiny of our adored\n",
       "monarch. He will save Europe!</span>\"\n",
       "<p></p>\n",
       "She suddenly paused, smiling at her own impetuosity.\n",
       "<p></p>\n",
       "\"<span class=\"red\">I think,</span>\" said <span class=\"green\">the prince</span> with a smile, \"<span class=\"red\">that if you had been\n",
       "sent instead of our dear <span class=\"green\">Wintzingerode</span> you would have captured the\n",
       "<span class=\"green\">King of Prussia</span>'s consent by assault. You are so eloquent. Will you\n",
       "give me a cup of tea?</span>\"\n",
       "<p></p>\n",
       "\"<span class=\"red\">In a moment. A propos,</span>\" she added, becoming calm again, \"<span class=\"red\">I am\n",
       "expecting two very interesting men tonight, <span class=\"green\">le Vicomte de Mortemart</span>,\n",
       "who is connected with the <span class=\"green\">Montmorencys</span> through the <span class=\"green\">Rohans</span>, one of\n",
       "the best French families. He is one of the genuine emigres, the good\n",
       "ones. And also the <span class=\"green\">Abbe Morio</span>. Do you know that profound thinker? He\n",
       "has been received by <span class=\"green\">the Emperor</span>. Had you heard?</span>\"\n",
       "<p></p>\n",
       "\"<span class=\"red\">I shall be delighted to meet them,</span>\" said <span class=\"green\">the prince</span>. \"<span class=\"red\">But tell me,</span>\"\n",
       "he added with studied carelessness as if it had only just occurred\n",
       "to him, though the question he was about to ask was the chief motive\n",
       "of his visit, \"<span class=\"red\">is it true that the Dowager Empress wants Baron Funke\n",
       "to be appointed first secretary at Vienna? The baron by all accounts\n",
       "is a poor creature.</span>\"\n",
       "<p></p>\n",
       "<span class=\"green\">Prince Vasili</span> wished to obtain this post for his son, but others\n",
       "were trying through the <span class=\"green\">Dowager Empress Marya Fedorovna</span> to secure it\n",
       "for <span class=\"green\">the baron</span>.\n",
       "<p></p>\n",
       "<span class=\"green\">Anna Pavlovna</span> almost closed her eyes to indicate that neither she\n",
       "nor anyone else had a right to criticize what <span class=\"green\">the Empress</span> desired or\n",
       "was pleased with.\n",
       "<p></p>\n",
       "\"<span class=\"red\">Baron Funke has been recommended to the Dowager Empress by her\n",
       "sister,</span>\" was all she said, in a dry and mournful tone.\n",
       "<p></p>\n",
       "As she named <span class=\"green\">the Empress</span>, <span class=\"green\">Anna Pavlovna's</span> face suddenly assumed an\n",
       "expression of profound and sincere devotion and respect mingled with\n",
       "sadness, and this occurred every time she mentioned her illustrious\n",
       "patroness. She added that <span class=\"green\">Her Majesty</span> had deigned to show <span class=\"green\">Baron\n",
       "Funke</span>, and again her face clouded over with sadness.\n",
       "<p></p>\n",
       "<span class=\"green\">The prince</span> was silent and looked indifferent. But, with the\n",
       "womanly and courtierlike quickness and tact habitual to her, <span class=\"green\">Anna\n",
       "Pavlovna</span> wished both to rebuke him (for daring to speak he had done of\n",
       "a man recommended to <span class=\"green\">the Empress</span>) and at the same time to console him,\n",
       "so she said:\n",
       "<p></p>\n",
       "\"<span class=\"red\">Now about your family. Do you know that since your daughter came\n",
       "out everyone has been enraptured by her? They say she is amazingly\n",
       "beautiful.</span>\"\n",
       "<p></p>\n",
       "<span class=\"green\">The prince</span> bowed to signify his respect and gratitude.\n",
       "<p></p>\n",
       "\"<span class=\"red\">I often think,</span>\" she continued after a short pause, drawing nearer\n",
       "to the prince and smiling amiably at him as if to show that\n",
       "political and social topics were ended and the time had come for\n",
       "intimate conversation- \"<span class=\"red\">I often think how unfairly sometimes the\n",
       "joys of life are distributed. Why has fate given you two such splendid\n",
       "children? I don't speak of <span class=\"green\">Anatole</span>, your youngest. I don't like\n",
       "him,</span>\" she added in a tone admitting of no rejoinder and raising her\n",
       "eyebrows. \"<span class=\"red\">Two such charming children. And really you appreciate\n",
       "them less than anyone, and so you don't deserve to have them.</span>\"\n",
       "<p></p>\n",
       "And she smiled her ecstatic smile.\n",
       "<p></p>\n",
       "\"<span class=\"red\">I can't help it,</span>\" said <span class=\"green\">the prince</span>. \"<span class=\"red\">Lavater would have said I\n",
       "lack the bump of paternity.</span>\"\n",
       "<p></p>\n",
       "\"<span class=\"red\">Don't joke; I mean to have a serious talk with you. Do you know I\n",
       "am dissatisfied with your younger son? Between ourselves</span>\" (and her\n",
       "face assumed its melancholy expression), \"<span class=\"red\">he was mentioned at Her\n",
       "Majesty's and you were pitied....</span>\"\n",
       "<p></p>\n",
       "<span class=\"green\">The prince</span> answered nothing, but she looked at him significantly,\n",
       "awaiting a reply. He frowned.\n",
       "<p></p>\n",
       "\"<span class=\"red\">What would you have me do?</span>\" he said at last. \"<span class=\"red\">You know I did all\n",
       "a father could for their education, and they have both turned out\n",
       "fools. Hippolyte is at least a quiet fool, but Anatole is an active\n",
       "one. That is the only difference between them.</span>\" He said this smiling\n",
       "in a way more natural and animated than usual, so that the wrinkles\n",
       "round his mouth very clearly revealed something unexpectedly coarse\n",
       "and unpleasant.\n",
       "<p></p>\n",
       "\"<span class=\"red\">And why are children born to such men as you? If you were not a\n",
       "father there would be nothing I could reproach you with,</span>\" said <span class=\"green\">Anna\n",
       "Pavlovna</span>, looking up pensively.\n",
       "<p></p>\n",
       "\"<span class=\"red\">I am your faithful slave and to you alone I can confess that my\n",
       "children are the bane of my life. It is the cross I have to bear. That\n",
       "is how I explain it to myself. It can't be helped!</span>\"\n",
       "<p></p>\n",
       "He said no more, but expressed his resignation to cruel fate by a\n",
       "gesture. <span class=\"green\">Anna Pavlovna</span> meditated.\n",
       "</div>\n",
       "</body>\n",
       "</html>"
      ]
     },
     "execution_count": 5,
     "metadata": {},
     "output_type": "execute_result"
    }
   ],
   "source": [
    "html = bs4.BeautifulSoup(res.text, \"html.parser\")\n",
    "html"
   ]
  },
  {
   "cell_type": "code",
   "execution_count": 34,
   "metadata": {},
   "outputs": [
    {
     "data": {
      "text/plain": [
       "[<span>首頁</span>,\n",
       " <span>更多</span>,\n",
       " <span>台股代號查詢</span>,\n",
       " <span id=\"marketTimeCountDown\">距離美股開盤還有3小時41分鐘</span>,\n",
       " <span class=\"more\"><a data-ylk=\"slk:more;itc:0;sec:symbol-news;elm:itm;elmt:link\" href=\"https://tw.stock.yahoo.com/q/h?s=2330\">» 更多</a></span>,\n",
       " <span class=\"meta\">(鉅亨網 2020/08/31 15:36)</span>,\n",
       " <span class=\"meta\">(時報資訊 2020/08/31 12:15)</span>,\n",
       " <span class=\"meta\">(中央社 2020/08/31 11:05)</span>,\n",
       " <span class=\"meta\">(時報資訊 2020/08/31 10:35)</span>]"
      ]
     },
     "execution_count": 34,
     "metadata": {},
     "output_type": "execute_result"
    }
   ],
   "source": [
    "span_list = html.findAll(\"span\") #findAll會把資料裝進list\n",
    "span_list"
   ]
  },
  {
   "cell_type": "code",
   "execution_count": 16,
   "metadata": {
    "colab": {},
    "colab_type": "code",
    "id": "OXHpzZlHNP85",
    "scrolled": true
   },
   "outputs": [
    {
     "data": {
      "text/plain": [
       "[<span class=\"green\">Anna\n",
       " Pavlovna Scherer</span>, <span class=\"green\">Empress Marya\n",
       " Fedorovna</span>, <span class=\"green\">Prince Vasili Kuragin</span>, <span class=\"green\">Anna Pavlovna</span>, <span class=\"green\">St. Petersburg</span>, <span class=\"green\">the prince</span>, <span class=\"green\">Anna Pavlovna</span>, <span class=\"green\">Anna Pavlovna</span>, <span class=\"green\">the prince</span>, <span class=\"green\">the prince</span>, <span class=\"green\">the prince</span>, <span class=\"green\">Prince Vasili</span>, <span class=\"green\">Anna Pavlovna</span>, <span class=\"green\">Anna Pavlovna</span>, <span class=\"green\">the prince</span>, <span class=\"green\">Wintzingerode</span>, <span class=\"green\">King of Prussia</span>, <span class=\"green\">le Vicomte de Mortemart</span>, <span class=\"green\">Montmorencys</span>, <span class=\"green\">Rohans</span>, <span class=\"green\">Abbe Morio</span>, <span class=\"green\">the Emperor</span>, <span class=\"green\">the prince</span>, <span class=\"green\">Prince Vasili</span>, <span class=\"green\">Dowager Empress Marya Fedorovna</span>, <span class=\"green\">the baron</span>, <span class=\"green\">Anna Pavlovna</span>, <span class=\"green\">the Empress</span>, <span class=\"green\">the Empress</span>, <span class=\"green\">Anna Pavlovna's</span>, <span class=\"green\">Her Majesty</span>, <span class=\"green\">Baron\n",
       " Funke</span>, <span class=\"green\">The prince</span>, <span class=\"green\">Anna\n",
       " Pavlovna</span>, <span class=\"green\">the Empress</span>, <span class=\"green\">The prince</span>, <span class=\"green\">Anatole</span>, <span class=\"green\">the prince</span>, <span class=\"green\">The prince</span>, <span class=\"green\">Anna\n",
       " Pavlovna</span>, <span class=\"green\">Anna Pavlovna</span>]"
      ]
     },
     "execution_count": 16,
     "metadata": {},
     "output_type": "execute_result"
    }
   ],
   "source": [
    "span_list = html.findAll(\"span\", { \"class\" : \"green\" })\n",
    "span_list"
   ]
  },
  {
   "cell_type": "code",
   "execution_count": 17,
   "metadata": {},
   "outputs": [
    {
     "data": {
      "text/plain": [
       "'Anna\\nPavlovna Scherer'"
      ]
     },
     "execution_count": 17,
     "metadata": {},
     "output_type": "execute_result"
    }
   ],
   "source": [
    "tag = span_list[0]\n",
    "tag.text"
   ]
  },
  {
   "cell_type": "code",
   "execution_count": 18,
   "metadata": {},
   "outputs": [
    {
     "name": "stdout",
     "output_type": "stream",
     "text": [
      "Anna\n",
      "Pavlovna Scherer\n",
      "=======\n",
      "Empress Marya\n",
      "Fedorovna\n",
      "=======\n",
      "Prince Vasili Kuragin\n",
      "=======\n",
      "Anna Pavlovna\n",
      "=======\n",
      "St. Petersburg\n",
      "=======\n",
      "the prince\n",
      "=======\n",
      "Anna Pavlovna\n",
      "=======\n",
      "Anna Pavlovna\n",
      "=======\n",
      "the prince\n",
      "=======\n",
      "the prince\n",
      "=======\n",
      "the prince\n",
      "=======\n",
      "Prince Vasili\n",
      "=======\n",
      "Anna Pavlovna\n",
      "=======\n",
      "Anna Pavlovna\n",
      "=======\n",
      "the prince\n",
      "=======\n",
      "Wintzingerode\n",
      "=======\n",
      "King of Prussia\n",
      "=======\n",
      "le Vicomte de Mortemart\n",
      "=======\n",
      "Montmorencys\n",
      "=======\n",
      "Rohans\n",
      "=======\n",
      "Abbe Morio\n",
      "=======\n",
      "the Emperor\n",
      "=======\n",
      "the prince\n",
      "=======\n",
      "Prince Vasili\n",
      "=======\n",
      "Dowager Empress Marya Fedorovna\n",
      "=======\n",
      "the baron\n",
      "=======\n",
      "Anna Pavlovna\n",
      "=======\n",
      "the Empress\n",
      "=======\n",
      "the Empress\n",
      "=======\n",
      "Anna Pavlovna's\n",
      "=======\n",
      "Her Majesty\n",
      "=======\n",
      "Baron\n",
      "Funke\n",
      "=======\n",
      "The prince\n",
      "=======\n",
      "Anna\n",
      "Pavlovna\n",
      "=======\n",
      "the Empress\n",
      "=======\n",
      "The prince\n",
      "=======\n",
      "Anatole\n",
      "=======\n",
      "the prince\n",
      "=======\n",
      "The prince\n",
      "=======\n",
      "Anna\n",
      "Pavlovna\n",
      "=======\n",
      "Anna Pavlovna\n",
      "=======\n"
     ]
    }
   ],
   "source": [
    "for tag in span_list:\n",
    "    print(tag.text)\n",
    "    print(\"=======\")"
   ]
  },
  {
   "cell_type": "markdown",
   "metadata": {
    "colab_type": "text",
    "id": "zyArZIqTNP8-"
   },
   "source": [
    "# 網頁爬蟲實戰：(臺股爬蟲)\n",
    "\n",
    "我們想要截取資料的網頁：[Yahoo Stock 台積電](https://tw.stock.yahoo.com/q/q?s=2330)\n",
    "\n",
    "![](https://drive.google.com/uc?export=download&id=1samMUBW19ooC7UsntphFGG6QKjL5337R)\n",
    "\n",
    "網址是：\n",
    "\n",
    "https://tw.stock.yahoo.com/q/q?s=2330\n",
    "\n",
    "```python\n",
    "# 來試試看爬 yahoo stock 的網頁...\n",
    "from bs4 import BeautifulSoup\n",
    "import requests\n",
    "\n",
    "res = requests.get('https://tw.stock.yahoo.com/q/q?s=2330')\n",
    "# 用 html 格式解碼 爬下來的檔案\n",
    "html = BeautifulSoup(res.text, 'html.parser')\n",
    "print(html)\n",
    "```\n"
   ]
  },
  {
   "cell_type": "code",
   "execution_count": 21,
   "metadata": {
    "colab": {},
    "colab_type": "code",
    "id": "TxK2DxaPNP8_",
    "scrolled": true
   },
   "outputs": [
    {
     "data": {
      "text/plain": [
       "'<!doctype html public \"-//w3c//dtd html 4.01//en\" \"http://www.w3.org/tr/html4/strict.dtd\">\\n<html>\\n<head>\\n    <meta name=\"oath:guce:product-eu\" content=\"false\"/>\\n    <meta name=\"oath:guce:consent-host\" content=\"guce.yahoo.com\"/>\\n    <meta name=\"oath:guce:locale\" content=\"zh-Hant-TW\"/>\\n    <meta name=\"oath:guce:report-only\" content=\"false\"/>\\n    <meta name=\"oath:guce:inline-consent\" content=\"true\"/>\\n    <script src=\"https://s.yimg.com/oa/guce.js\" async></script>\\n<!-- Rapid begin. -->\\n\\n<script language=\"JavaScript\" src=\"https://s.yimg.com/ss/rapid3.js\"></script>\\n<script language=\"JavaScript\" src=\"/__rapid-worker-1.2.js\"></script> <!-- rapid should require worker file itself, this should be unnessary, but require it anyway. -->\\n<script language=\"JavaScript\">\\n    YAHOO.i13n.WEBWORKER_FILE = \"/__rapid-worker-1.2.js\";\\n    var pageParams = {\"site\":\"finance\",\"lang\":\"zh-Hant-TW\",\"mrkt\":\"tw\",\"pt\":\"utility\",\"pstcat\":\"equities\",\"pct\":\"qsp\",\"ticker\":\"2330.TW\"}\\n    if (typeof articlePageParams === \\'object\\') {\\n        pageParams = articlePageParams;\\n    }\\n\\n    var stockSiteRapid = new YAHOO.i13n.Rapid({ client_only: 1, spaceid: \\'152958415\\', keys: pageParams, tracked_mods: [], test_id: \\'3.RDg1MjI4NAcyMDIwLXR3c3RvY2stZGVza3RvcC1mcm9udHBhZ2UtaW50ZXJuYWwxBl9DSEcDMARfdmVyAzQuMTYuMw--\\' });\\n</script>\\n<!-- Rapid end. -->\\n\\n    <!-- Consent Manager Tag : Script -->\\n    <script type=\"text/javascript\" src=\"https://consent.cmp.oath.com/cmp.js\" async></script>\\n    <script type=\"text/javascript\" src=\"https://s.yimg.com/nb/AdLib/adlib-prod.umd.min.js\"></script>\\n\\n    <!-- Consent Manager Tag : Stubbed (minified) (updated 2018-04-27T17:00) -->\\n<script type=\"text/javascript\">!function(){var e=!1;function a(e){var a=\"string\"==typeof e.data,t=e.data;if(a)try{t=JSON.parse(e.data)}catch(e){}if(t.__cmpCall){var n=t.__cmpCall;window.__cmp(n.command,n.parameter,function(t,c){var i={__cmpReturn:{returnValue:t,success:c,callId:n.callId}};e.source.postMessage(a?JSON.stringify(i):i,\"*\")})}}!function e(){if(!window.frames.__cmpLocator)if(document.body&&document.body.firstChild){var a=document.body,t=document.createElement(\"iframe\");t.style.display=\"none\",t.height=t.width=0,t.name=\"__cmpLocator\",a.insertBefore(t,a.firstChild)}else setTimeout(e,5)}(),\"function\"!=typeof __cmp&&(window.__cmp=function(){var a=arguments;if(__cmp.a=__cmp.a||[],!a.length)return __cmp.a;\"ping\"===a[0]?a[2]({gdprAppliesGlobally:e,cmpLoaded:!1},!0):__cmp.a.push([].slice.apply(a))},__cmp.msgHandler=a,window.addEventListener?window.addEventListener(\"message\",a,!1):window.attachEvent(\"onmessage\",a))}();</script>\\n<!-- End Consent Manager Tag : Stubbed (minified) -->\\n\\n    <meta http-equiv=\"content-type\" content=\"text/html; charset=utf-8\" />\\n\\n    <script type=\"text/javascript\">\\n        window.__cmp(\\'init\\');\\n\\n        window.__cmp(\\'getConsentData\\', null, function (result, success) {\\n        // consentData contains the base64-encoded consent string\\n        var consentData = result.consentData;\\n\\n        // gdprApplies specifies whether the user is in EU jurisdiction\\n        var gdprApplies = result.gdprApplies;\\n        console.log(\"getConsentData result:\" + JSON.stringify(result, true));\\n        if ( success ) {\\n            console.log(\\'call getConsentData success\\');\\n        } else {\\n            console.log(\\'call getConsentData fail\\');\\n        }\\n        // pass these 2 values to all ad / pixel calls\\n        // window.__cmp(\\'getVendorConsents\\', null, function( result, success) {\\n        //     if ( success ) {\\n        //         console.log(\\'call getVendorConsents success\\');\\n        //     } else {\\n        //         console.log(\\'call getVendorConsents fail\\');\\n        //     }\\n        //     console.log(\"getVendorConsents result:\" + JSON.stringify(result, true));\\n        // });\\n    });\\n    </script>\\n<meta http-equiv=\"Content-Type\" content=\"text/html; charset=big5\">\\n<meta name=\"application-name\" content=\"Yahoo!奇摩股市\"/>\\n<meta name=\"msapplication-TileColor\" content=\"#7b0099\"/>\\n<meta name=\"msapplication-TileImage\" content=\"https://s.yimg.com/f/i/tw/stock/tw_stock_icon_pin.png\"/>\\n<title>Yahoo!奇摩股市</title>\\n<link rel=\"stylesheet\" type=\"text/css\" href=\"https://s.yimg.com/f/i/tw/hp/masthead/yhtw_masthead_standard.css\" media=\"screen, print\" />\\n<link rel=\"stylesheet\" type=\"text/css\" href=\"https://s.yimg.com/f/i/tw/hp/masthead/yhtw_masthead_12.css\" media=\"screen, print\" />\\n<link rel=\"stylesheet\" type=\"text/css\" href=\"https://s.yimg.com/f/i/tw/stock/revampe/css_1960_min.css\" media=\"screen, print\" />\\n<link rel=\"stylesheet\" type=\"text/css\" href=\"https://s.yimg.com/f/i/tw/stock/img06/stock_wd.css\" media=\"screen, print\" />\\n<link rel=\"stylesheet\" type=\"text/css\" href=\"https://s.yimg.com/f/i/tw/stock/stock_print_1_2.css\" media=\"print\" />\\n<link href=\"https://s.yimg.com/f/i/tw/hp/Universal_header/uh_bt3.css\" type=\"text/css\" rel=\"stylesheet\"/>\\n<link href=\"https://s.yimg.com/f/i/tw/stock/revampe/ystock_uh_1_1_min.css\" type=\"text/css\" rel=\"stylesheet\"/>\\n<link href=\"https://s.yimg.com/ud/others/stock/gemini-v1.css\" type=\"text/css\" rel=\"stylesheet\"/>\\n<script type=\"text/JavaScript\">\\n<!--\\nfunction MM_swapImgRestore() { //v3.0\\n var i,x,a=document.MM_sr; for(i=0;a&&i<a.length&&(x=a[i])&&x.oSrc;i++) x.src=x.oSrc;\\n}\\nfunction MM_preloadImages() { //v3.0\\n var d=document; if(d.images){ if(!d.MM_p) d.MM_p=new Array();\\n var i,j=d.MM_p.length,a=MM_preloadImages.arguments; for(i=0; i<a.length; i++)\\n if (a[i].indexOf(\"#\")!=0){ d.MM_p[j]=new Image; d.MM_p[j++].src=a[i];}}\\n}\\nfunction MM_findObj(n, d) { //v4.01\\n var p,i,x; if(!d) d=document; if((p=n.indexOf(\"?\"))>0&&parent.frames.length) {\\n d=parent.frames[n.substring(p+1)].document; n=n.substring(0,p);}\\n if(!(x=d[n])&&d.all) x=d.all[n]; for (i=0;!x&&i<d.forms.length;i++) x=d.forms[i][n];\\n for(i=0;!x&&d.layers&&i<d.layers.length;i++) x=MM_findObj(n,d.layers[i].document);\\n if(!x && d.getElementById) x=d.getElementById(n); return x;\\n}\\nfunction MM_swapImage() { //v3.0\\n var i,j=0,x,a=MM_swapImage.arguments; document.MM_sr=new Array; for(i=0;i<(a.length-2);i+=3)\\n if ((x=MM_findObj(a[i]))!=null){document.MM_sr[j++]=x; if(!x.oSrc) x.oSrc=x.src; x.src=a[i+2];}\\n}\\n//-->\\n</script>\\n<style type=\"text/css\">\\n<!--\\n.style1 {\\n color: #000000;\\n font-family: \"新細明體\";\\n}\\n.style2 {color: #4f5d70}\\n.style4 {color: #009900}\\n.style5 {color: #FF0000}\\n.style8 {font-size: 10pt;}\\n.style9 {color: #000000; }\\n.style12 {line-height: 25pt; font-family: \"新細明體\", mingliu, taipei;}\\n.style13 {color: #4f5d70}\\n-->\\n</style>\\n<script language=\"JavaScript\" src=\"https://s.yimg.com/f/i/tw/hp/wd/wd_20050720.js\"></script>\\n<!--\\n<script language=\"JavaScript\" src=\"https://s.yimg.com/lq/lib/common/utils/2/yahoo_2.0.0-b2.js\" ></script>\\n<script language=\"JavaScript\" src=\"https://s.yimg.com/lq/lib/common/utils/2/dom_2.0.0-b2.js\" ></script>\\n<script language=\"JavaScript\" src=\"https://s.yimg.com/lq/lib/common/utils/2/event_2.0.0-b2.js\" ></script>\\n<script language=\"JavaScript\" src=\"https://s.yimg.com/lq/lib/common/utils/2/dragdrop_2.0.0-b2.js\" ></script>\\n-->\\n<script language=\"JavaScript\" src=\"https://s.yimg.com/f/i/tw/hp/wd/wd_20050720.js\"></script>\\n<script language=\"JavaScript\" src=\"https://s.yimg.com/f/i/tw/stock/yui2/yahoo_200_b2.js\" ></script>\\n<script language=\"JavaScript\" src=\"https://s.yimg.com/f/i/tw/stock/yui2/dom_200_b2.js\" ></script>\\n<script language=\"JavaScript\" src=\"https://s.yimg.com/f/i/tw/stock/yui2/event_200_b2.js\" ></script>\\n<script language=\"JavaScript\" src=\"https://s.yimg.com/f/i/tw/stock/yui2/dragdrop_200_b2.js\" ></script>\\n<script language=\"JavaScript\" src=\"https://s.yimg.com/f/i/tw/stock/img06/stk_wd.js\"></script>\\n<script language=\"javascript\" src=\"https://s.yimg.com/f/i/tw/stock/img06/stock22.js\"></script>\\n<script language=\"javascript\" src=\"https://s.yimg.com/f/i/tw/stock/img06/auth.js\"></script>\\n<script language=\"javascript\" src=\"https://s.yimg.com/f/i/tw/mc/mc.js\"></script>\\n<script language=\"javascript\" src=\"https://s.yimg.com/f/i/tw/stock/img06/quotelist.js\"></script>\\n<script language=\"javascript\" src=\"https://s.yimg.com/f/i/tw/stock/img06/tsc22_r1826.js\"></script>\\n<script type=\"text/javascript\" src=\"https://sec.yimg.com/us.js.yimg.com/lib/common/utils/2/connection_2.1.0.js\" ></script>\\n<script type=\\'text/javascript\\'>\\n !window.YUI && document.write(\"<script type=\\\\\"text/javascript\\\\\" src=\\\\\"https://yui-s.yahooapis.com/combo?3.5.1/yui/yui-min.js\\\\\">\"+\"</scr\"+\"ipt>\");\\n</script></head>\\n              <style type=\\'text/css\\'>\\n .ad_slug_table TD { font-size:0px;cursor:default; }\\n .ad_slug_table TD SPAN { font-size:0px;cursor:default; }\\n .ad_slug_table TD SPAN FONT { font-size:10px;cursor:default; }\\n .ad_slug_table TD SPAN.can_ad_slug { font-size:11px;text-align:right }\\n</style>\\n              <script type=\\'text/javascript\\' src=\\'https://s.yimg.com/rq/darla/3-28-0/js/g-r-min.js\\'></script>\\n              <script type=\"text/javascript\">\\n                if (!window.DARLA_CONFIG) {\\n                  DARLA_CONFIG = {\"useYAC\":0,\"usePE\":0,\"servicePath\":\"https:\\\\/\\\\/tw.stock.yahoo.com\\\\/sdarla\\\\/php\\\\/fc.php\",\"xservicePath\":\"\",\"beaconPath\":\"https:\\\\/\\\\/tw.stock.yahoo.com\\\\/sdarla\\\\/php\\\\/b.php\",\"renderPath\":\"\",\"allowFiF\":false,\"srenderPath\":\"https:\\\\/\\\\/s.yimg.com\\\\/rq\\\\/darla\\\\/3-28-0\\\\/html\\\\/r-sf.html\",\"renderFile\":\"https:\\\\/\\\\/s.yimg.com\\\\/rq\\\\/darla\\\\/3-28-0\\\\/html\\\\/r-sf.html\",\"sfbrenderPath\":\"https:\\\\/\\\\/s.yimg.com\\\\/rq\\\\/darla\\\\/3-28-0\\\\/html\\\\/r-sf.html\",\"msgPath\":\"https:\\\\/\\\\/fc.yahoo.com\\\\/unsupported-1946.html\",\"cscPath\":\"https:\\\\/\\\\/s.yimg.com\\\\/rq\\\\/darla\\\\/3-28-0\\\\/html\\\\/r-csc.html\",\"root\":\"sdarla\",\"edgeRoot\":\"https:\\\\/\\\\/s.yimg.com\\\\/rq\\\\/darla\\\\/3-28-0\",\"sedgeRoot\":\"https:\\\\/\\\\/s.yimg.com\\\\/rq\\\\/darla\\\\/3-28-0\",\"version\":\"3-28-0\",\"tpbURI\":\"\",\"hostFile\":\"https:\\\\/\\\\/s.yimg.com\\\\/rq\\\\/darla\\\\/3-28-0\\\\/js\\\\/g-r-min.js\",\"beaconsDisabled\":true,\"rotationTimingDisabled\":true,\"fdb_locale\":\"\\\\u60a8\\\\u70ba\\\\u4ec0\\\\u9ebc\\\\u4e0d\\\\u559c\\\\u6b61\\\\u9019\\\\u5247\\\\u5ee3\\\\u544a\\\\uff1f|\\\\u5ee3\\\\u544a\\\\u5167\\\\u5bb9\\\\u4ee4\\\\u4eba\\\\u53cd\\\\u611f|\\\\u5176\\\\u4ed6|\\\\u611f\\\\u8b1d\\\\u60a8\\\\u5354\\\\u52a9\\\\u6211\\\\u5011\\\\u6539\\\\u5584\\\\u60a8\\\\u7684 Yahoo\\\\u5947\\\\u6469\\\\u9ad4\\\\u9a57|\\\\u5ee3\\\\u544a\\\\u5167\\\\u5bb9\\\\u8207\\\\u6211\\\\u6c92\\\\u4ec0\\\\u9ebc\\\\u95dc\\\\u806f|\\\\u4f7f\\\\u4eba\\\\u5206\\\\u5fc3|\\\\u6211\\\\u4e0d\\\\u559c\\\\u6b61\\\\u9019\\\\u652f\\\\u5ee3\\\\u544a|\\\\u9001\\\\u51fa|\\\\u5b8c\\\\u6210|\\\\u70ba\\\\u4ec0\\\\u9ebc\\\\u6211\\\\u6703\\\\u770b\\\\u898b\\\\u5ee3\\\\u544a\\\\uff1f|\\\\u9032\\\\u4e00\\\\u6b65\\\\u4e86\\\\u89e3\\\\u60a8\\\\u7684\\\\u610f\\\\u898b\\\\u3002|\\\\u60f3\\\\u8981\\\\u4f7f\\\\u7528\\\\u7121\\\\u5ee3\\\\u544a\\\\u6536\\\\u4ef6\\\\u5323\\\\u55ce\\\\uff1f\\\\u5feb\\\\u4f86\\\\u5347\\\\u7d1a Yahoo Mail Pro\\\\uff01|\\\\u7acb\\\\u5373\\\\u5347\\\\u7d1a\",\"lang\":\"zh-Hant-TW\"};\\n                }\\n                            DARLA_CONFIG.events = {\\n                                         \\'renderN\\':\\n                            {\\n                                name: \\'renderN\\',\\n                                ps: \\'N\\',\\n                                sp: 152958415,\\n                                npv: 1,\\n                                ssl: 1\\n                            },                             \\'renderLREC\\':\\n                            {\\n                                name: \\'renderLREC\\',\\n                                ps: \\'LREC\\',\\n                                sp: 152958415,\\n                                npv: 1,\\n                                ssl: 1\\n                            },\\n                    \\'AUTO\\':\\n                      {\\n                        name: \"AUTO\",\\n                        sp: 152958415,\\n                        autoStart: 1,\\n                        autoIV:1,\\n                        ps: \"N,LREC\",\\n                        ssl: 1,\\n                        secure: 1,\\n                        ref: document.location.href // to support testing ads.\\n                      }\\n                    };\\n                               DARLA_CONFIG.positions = {\\n                                          N: {wcpx: 1, hcpx: 1, dest: \\'tgtN\\', clean: \\'boxN\\' ,fdb: { \"on\": 1 }, metaSize: true},\\n                       LREC: {wcpx: 1, hcpx: 1, dest: \\'tgtLREC\\', clean: \\'boxLREC\\' ,fdb: { \"on\": 1 }, metaSize: true}\\n               };\\n              </script><body vlink=#3948CC style=\"margin-top:0px\">\\n<center>\\n<script language=\"javascript\" src=\"https://s.yimg.com/uc/sf/latest/js/safe.min.js\"></script>\\n<!--BEGIN:Universal Master Header-->\\n<style>\\n  body {\\n    margin: 0;\\n  }\\n  .uh .eyebrow>li {\\n    display: inline-block;\\n    margin: 1px 32px 0 0;\\n    font-size: 13px;\\n    font-weight: normal;\\n  }\\n  .uh .eyebrow>li>a {\\n    color: #fff;\\n    text-decoration: none;\\n  }\\n  .uh .eyebrow>li>a:hover {\\n    text-decoration: underline;\\n  }\\n  .uh .eyebrow .more-anchor {\\n    color: #fff;\\n  }\\n  .uh .eyebrow .more-anchor:hover {\\n    color: #1d1da3;\\n    background-color: #fff;\\n  }\\n  .uh .eyebrow .more-anchor svg {\\n    fill: #fff;\\n  }\\n  .uh .eyebrow .more-anchor:hover svg {\\n    fill: #1d1da3;\\n  }\\n  .uh .eyebrow .more-list {\\n    display: none;\\n  }\\n  .uh .eyebrow .more-list li {\\n    padding-bottom: 10px;\\n  }\\n  .uh .eyebrow .more-anchor:hover .more-list{\\n    display: block;\\n  }\\n  .uh .header input[type=text] {\\n    width: 250px;\\n  }\\n  .uh.broad .header input[type=text] {\\n    width: 400px;\\n  }\\n  .uh .header .search-button {\\n    border-width: 0;\\n    border-bottom: 2px solid #21487f;\\n    border-radius: 4px;\\n    width: 80px;\\n    height: 35px;\\n    font: 16px \"Helvetica Neue\",Helvetica,Arial,sans-serif;\\n    color: #fff;\\n    background-color: #3775dd;\\n    cursor: pointer;\\n    outline: none;\\n  }\\n  .uh.broad .header .search-button {\\n    padding: 0 14px;\\n    width: 110px;\\n  }\\n  .uh .header .login-button {\\n    color: #400090;\\n  }\\n  .uh .header .login-button:hover {\\n    color: #fff;\\n    background-color: #400090;\\n  }\\n  .uh .header .logout-link {\\n    color: #26282a;\\n  }\\n  .uh .header .logout-link:hover {\\n    color: #0078ff;\\n  }\\n  .uh .header .profile .profile-box {\\n    display: none;\\n  }\\n  .uh .header .profile:hover .profile-box {\\n    display: inline-block;\\n  }\\n</style>\\n<div id=\"uh\" class=\"uh \" style=\"position: relative; z-index: 21; margin-bottom: 10px;\">\\n  <ul class=\"eyebrow\" style=\"margin: 0; padding: 0; height: 22px; font-size: 0; text-align: left; white-space: nowrap; background-color: #2d1152; min-width: 1080px\">\\n    <li style=\"margin-left: 10px;\">\\n      <a href=\"https://tw.yahoo.com/\">\\n        <div>\\n          <svg width=\"16\" height=\"16\" style=\"margin-top: 1px; vertical-align: top; fill: #fff; stroke-width: 0;\" viewBox=\"0 0 32 32\" data-icon=\"home\">\\n            <path d=\"M16.153 3.224L0 16.962h4.314v11.814h9.87v-8.003h3.934v8.003h9.84V16.962H32\" data-reactid=\"10\"></path>\\n          </svg>\\n          <span>首頁</span>\\n        </div>\\n      </a>\\n    </li>\\n    <li><a href=\"https://tw.mail.yahoo.com/?.intl=tw&amp;.lang=zh-Hant-TW\">信箱</a></li>\\n    <li><a href=\"https://tw.news.yahoo.com/\">新聞</a></li>\\n    <li><a href=\"http://tw.stock.yahoo.com/\">股市</a></li>\\n    <li><a href=\"https://tw.news.yahoo.com/weather/\">氣象</a></li>\\n    <li><a href=\"https://tw.sports.yahoo.com/\">運動</a></li>\\n    <li><a href=\"https://tw.video.yahoo.com/\">Yahoo TV</a></li>\\n    <li><a href=\"http://yahoomode.tumblr.com/yahooapp/\">App下載</a></li>\\n    <li><a href=\"https://tw.buy.yahoo.com/\">購物中心</a></li>\\n    <li><a href=\"https://tw.mall.yahoo.com/\">商城</a></li>\\n    <li><a href=\"https://tw.bid.yahoo.com/\">拍賣</a></li>\\n    <li>\\n      <div class=\"more-anchor rapidnofollow\" style=\"position: relative; z-index: 1; margin-left: -10px; outline: none; cursor: pointer;\">\\n        <div style=\"padding: 0 10px;\">\\n          <span>更多</span>\\n          <svg width=\"8\" height=\"8\" style=\"margin-left: 5px; vertical-align: middle;\" viewBox=\"0 0 512 512\" data-icon=\"CoreArrowDown\">\\n            <path d=\"M500.77 131.432L477.53 108.18c-14.45-14.55-40.11-14.55-54.51 0L255.845 275.363 88.582 108.124c-15.015-14.874-39.363-14.874-54.42.108L10.94 131.486c-14.58 14.44-14.58 40.11-.033 54.442l217.77 217.845c15.004 14.82 39.33 14.874 54.42-.108L500.88 185.82c14.818-14.982 14.87-39.298-.11-54.388z\"></path>\\n          </svg>\\n        </div>\\n        <div class=\"more-list\" style=\"position: absolute; color: #1d1da3; background-color: #fff; box-shadow: rgba(0, 0, 0, 0.2) 0px 4px 7px\">\\n          <ul style=\"list-style: none; padding: 10px; text-align: left;\">\\n            <li><a class=\"D(b) Py(3px)\" href=\"https://tw.answers.yahoo.com/\">知識+</a></li>\\n            <li><a class=\"D(b) Py(3px)\" href=\"https://autos.yahoo.com.tw/\">汽車機車</a></li>\\n            <li><a class=\"D(b) Py(3px)\" href=\"https://movies.yahoo.com.tw/\">電影</a></li>\\n            <li><a class=\"D(b) Py(3px)\" href=\"https://tw.dictionary.yahoo.com/\">字典</a></li>\\n            <li><a class=\"D(b) Py(3px)\" href=\"https://travel.yahoo.com.tw/\">旅遊</a></li>\\n            <li><a class=\"D(b) Py(3px)\" href=\"https://tw.money.yahoo.com/\">理財</a></li>\\n            <li><a class=\"D(b) Py(3px)\" href=\"https://house.yahoo.com.tw/\">房地產</a></li>\\n            <li><a class=\"D(b) Py(3px)\" href=\"https://style.yahoo.com.tw/\">時尚美妝</a></li>\\n            <li><a class=\"D(b) Py(3px)\" href=\"https://tw.discount.yahoo.net/\">折扣城</a></li>\\n            <li><a class=\"D(b) Py(3px)\" href=\"https://tw.news.yahoo.com/entertainment\">娛樂</a></li>\\n            <li><a class=\"D(b) Py(3px)\" href=\"https://games.yahoo.com.tw\">遊戲</a></li>\\n          </ul>\\n        </div>\\n      </div>\\n    </li>\\n  </ul>\\n  <div class=\"header\" style=\"display: flex; height: 68px; align-items: center; width: 750px\">    <a data-ylk=\"elm:btn;itc:0;slk:yahoo;subsec:logo\" href=\"/\" style=\"display: inline-block; width: 126px; height: 40px; background-size: cover; background-image: url(https://s.yimg.com/cv/apiv2/twstock/img/TW_desktop_stock_home@2x.png); margin-right: 24px;\"></a>\\n    <div style=\"flex-grow: 1; text-align: left;\">\\n      <form action=\"https://tw.search.yahoo.com/search\" method=\"get\" accept-charset=\"utf-8\" style=\"margin-bottom: 0;\">\\n        <input type=\"hidden\" name=\"fr\" value=\"ush1-finance\">\\n        <input type=\"text\" placeholder=\"搜尋\" name=\"p\" style=\"box-sizing: content-box; padding: 7px 15px; height: 17px; font-size: 15px; font-family: \\'Helvetica Neue\\',Helvetica,Arial,sans-serif;\"/>\\n        <button class=\"search-button\" type=\"submit\">搜尋</button>\\n      </form>\\n    </div>\\n    <div>\\n      <a data-ylk=\"elm:btn;itc:0;slk:signin;subsec:profile\" class=\"login-button\" style=\"display: inline-block; border-radius: 5px; border: 2px solid #400090; width: 78px; text-align: center; vertical-align: middle; font-size: 14px; text-decoration: none;\" href=\"https://login.yahoo.com/config/login?.src=twfinance&.intl=tw&.lang=zh-Hant-TW&.done=https%3A%2F%2Ftw.stock.yahoo.com%2F\">登入</a>\\n      <a data-ylk=\"elm:btn;itc:0;slk:mail;subsec:mail\" href=\"https://mail.yahoo.com/?.intl=tw&.lang=zh-Hant-TW\" style=\"color: #400090; text-decoration: none;\">\\n        <svg width=\"30\" style=\"fill: #400090; vertical-align: middle;\" height=\"35\" viewBox=\"0 0 512 512\">\\n          <path d=\"M460.586 91.31H51.504c-10.738 0-19.46 8.72-19.46 19.477v40.088l224 104.03 224-104.03v-40.088c0-10.757-8.702-19.478-19.458-19.478M32.046 193.426V402.96c0 10.758 8.72 19.48 19.458 19.48h409.082c10.756 0 19.46-8.722 19.46-19.48V193.428l-224 102.327-224-102.327z\"></path>\\n        </svg>\\n        <b style=\"font-size: 14px; font-weight: 400; vertical-align: middle;\">信箱</b>\\n      </a>\\n    </div>\\n  </div>\\n</div>\\n <!--END:Universal Master Header-->\\n<script type=\\'text/javascript\\'>\\nfunction onProfileClick() {\\n  if (stockSiteRapid) {\\n    stockSiteRapid.beaconClick(\\'uh\\', \\'profile\\', \\'15\\', { elm: \\'btn\\', itc: 1, subsec: \\'profile\\' });\\n  }\\n}\\n\\nfunction onProfileHover() {\\n  if (stockSiteRapid) {\\n    stockSiteRapid.beaconClick(\\'uh\\', \\'profile\\', \\'15\\', { elm: \\'btn\\', itc: 2, subsec: \\'profile\\' });\\n  }\\n}\\n\\nvar tracked_mods = {\\n  \\'uh\\': \\'uh\\'\\n};\\nstockSiteRapid.addModules(tracked_mods);\\n</script>\\n           <div id=\"boxN\"><div id=\"tgtN\"></div></div><script lang=\"text/javascript\">\\n<!--\\nvar redirect = \"https://tw.rd.yahoo.com/referurl/stock/other\";\\nfunction stkClearMe(control)\\n{\\n control.value = \\'\\';\\n control.style.color = \"black\";\\n}\\nfunction stkRestore(control, str)\\n{\\n if (control.value == \\'\\') {control.value = str; control.style.color = \"#a8a8a8\";};\\n}\\nfunction stockmenu_submit (form)\\n{\\n if (form.stock_id.value == \\'輸入台股代號/名稱\\')\\n {\\n return false;\\n }\\n form.submit();\\n}\\n//-->\\n</script>\\n<link rel=\"stylesheet\" href=\"https://s.yimg.com/nb/tw_stock_frontend/scripts/StockNavSearchBar/stockNavSearchBar-style_b156d00e.css\">\\n<div id=\"stockNavSearchBar\" style=\"width: 750px\">    <nav id=\"ystkglonav\">\\n        <ul class=\"desktopNav\">\\n            <li class=\"parent\"><a class=\"navLink\" href=https://tw.stock.yahoo.com/>首頁</a></li><li class=\"parent\"><a class=\"navLink\" href=https://tw.stock.yahoo.com/pf/mypf>投資組合</a></li><li class=\"parent\"><a class=\"navLink current\" href=https://tw.stock.yahoo.com/h/getclass.php>當日行情</a><ul class=\"child\"><li><a class=\"dropLink\" href=https://tw.stock.yahoo.com/d/i/major.html>法人進出</a></li><li><a class=\"dropLink\" href=https://tw.stock.yahoo.com/d/i/cap.html>成交比重</a></li><li><a class=\"dropLink\" href=https://tw.stock.yahoo.com/d/i/credit.html>資券餘額</a></li><li><a class=\"dropLink\" href=https://tw.stock.yahoo.com/d/i/hot.html>熱門排行</a></li></ul></li><li class=\"parent\"><a class=\"navLink\" href=https://tw.stock.yahoo.com/s/tse.php>大盤</a></li><li class=\"parent\"><a class=\"navLink\" href=https://tw.stock.yahoo.com/s/nine.php>類股</a></li><li class=\"parent\"><a class=\"navLink\" href=https://tw.stock.yahoo.com/future/>期權</a><ul class=\"child\"><li><a class=\"dropLink\" href=https://tw.stock.yahoo.com/future/futures.html?fumr=futurefull>台指期貨</a></li><li><a class=\"dropLink\" href=https://tw.stock.yahoo.com/future/options.html?opmr=optionfull&opcm=WTXO&opym=202008>指數選擇權</a></li><li><a class=\"dropLink\" href=https://tw.stock.yahoo.com/future/futures_uncovered.html>未平倉數</a></li></ul></li><li class=\"parent\"><a class=\"navLink\" href=https://tw.stock.yahoo.com/hkcn/>港滬深股</a></li><li class=\"parent\"><a class=\"navLink\" href=https://tw.stock.yahoo.com/us/>美股</a></li><li class=\"parent\">\\n    <a\\n        class=\"navLink\"\\n        href=https://tw.stock.yahoo.com/markets\\n    >\\n        國際金融<img\\n            src=https://s.yimg.com/cv/apiv2/twstock/nav-beta.png\\n            style=\"width: 16px;height: 16px;\"\\n        >\\n    </a>\\n    <ul class=\"child\"><li><a class=\"dropLink\" href=https://tw.stock.yahoo.com/world-indices>國際指數</a></li><li><a class=\"dropLink\" href=https://tw.stock.yahoo.com/currencies>外匯</a></li><li><a class=\"dropLink\" href=https://tw.stock.yahoo.com/us-market>美股</a></li><li><a class=\"dropLink\" href=https://tw.stock.yahoo.com/hk-market>港股</a></li><li><a class=\"dropLink\" href=https://tw.stock.yahoo.com/cn-market>滬深股</a></li><li><a class=\"dropLink\" href=https://tw.stock.yahoo.com/commodities>原物料</a></li><li><a class=\"dropLink\" href=https://tw.stock.yahoo.com/adr>ADR</a></li><li><a class=\"dropLink\" href=https://tw.stock.yahoo.com/cryptocurrencies>加密貨幣</a></li></ul>\\n</li><li class=\"parent\"><a class=\"navLink\" href=https://tw.stock.yahoo.com/news>新聞</a><ul class=\"child\"><li><a class=\"dropLink\" href=https://tw.tv.yahoo.com/stock-watch/>五分鐘看台股</a></li><li><a class=\"dropLink\" href=https://tw.stock.yahoo.com/tw-market>台股盤勢</a></li><li><a class=\"dropLink\" href=https://tw.stock.yahoo.com/intl-markets>國際財經</a></li><li><a class=\"dropLink\" href=https://tw.stock.yahoo.com/funds-news>基金動態</a></li><li><a class=\"dropLink\" href=https://tw.stock.yahoo.com/research>研究報告</a></li><li><a class=\"dropLink\" href=https://tw.stock.yahoo.com/personal-finance>小資理財</a></li><li><a class=\"dropLink\" href=https://tw.stock.yahoo.com/column>專家專欄</a></li></ul></li><li class=\"parent\"><a class=\"navLink\" href=https://tw.screener.finance.yahoo.net/screener/basic.html>選股</a></li><li class=\"parent\"><a class=\"navLink\" href=https://tw.money.yahoo.com/>理財</a><ul class=\"child\"><li><a class=\"dropLink\" href=https://tw.money.yahoo.com/fund>基金</a></li><li><a class=\"dropLink\" href=https://tw.money.yahoo.com/currency-converter>匯率換算</a></li><li><a class=\"dropLink\" href=https://tw.stock.yahoo.com/author/----20120619-091951>Y投資風向球</a></li><li><a class=\"dropLink\" href=https://tw.stock.yahoo.com/author/%E6%9D%8E%E5%85%B6%E5%B1%95/>外匯致勝兵法</a></li></ul></li>        </ul>\\n    </nav>\\n    <div id=\"stockSearchBar\">\\n        <div class=\"barContainer\" style=\"display: inline-table\">\\n            <form style=\"display: inline; margin: 0; margin-block-end: 0\" name=\"menu\" action=\"https://tw.stock.yahoo.com/h/stockmenu.php\">\\n                <div class=\"searchInput\" style=\"background: #fff;\">\\n                    <img id=\"searchIcon\" width=\"16px\" src=\"https://s.yimg.com/cv/apiv2/twstock/icon-search.png\" srcset=\"https://s.yimg.com/cv/apiv2/twstock/icon-search@2x.png 2x, https://s.yimg.com/cv/apiv2/twstock/icon-search@3x.png 3x\"/>\\n                    <input id=\"stock_id\" type=\"text\" name=\"stock_id\" placeholder=\"搜尋台股美股代號/名稱\"/>\\n                    <img id=\"closeBtn\" src=\"https://s.yimg.com/cv/apiv2/twstock/cancel.png\" srcset=\"https://s.yimg.com/cv/apiv2/twstock/cancel@2x.png 2x, https://s.yimg.com/cv/apiv2/twstock/cancel@3x.png 3x\" style=\"cursor: pointer; display: none\"/>\\n                </div>\\n            </form>\\n            <div class=\"stockSearch\">\\n                <a href=\"javascript:open_win(\\'/h/kimosel.php\\',\\'menu\\',\\'stock_id\\',\\'stock_name\\')\">\\n                    <img src=\"https://s.yimg.com/cv/apiv2/twstock/stock-list_1543909743394.png\" srcset=\"https://s.yimg.com/cv/apiv2/twstock/stock-list@2x_1543909743407.png 2x, https://s.yimg.com/cv/apiv2/twstock/stock-list@3x_1543909743401.png 3x\"/>\\n                    <span>台股代號查詢</span>\\n                </a>\\n            </div>\\n            <div class=\"stockInfos\"><span id=marketTimeCountDown>距離美股開盤還有3小時41分鐘</span><a href=\"javascript:window.location.reload();\">更新</a></div>        </div>\\n    </div>\\n</div>\\n<script type=\"text/javascript\" charset=\"UTF-8\">\\n    function submitStockMenuForm(symbol) {\\n        var stockForm = document.querySelector(\\'#stockSearchBar .barContainer\\').children[0];\\n        stockForm.stock_id.value = symbol;\\n        stockForm.submit();\\n    }\\n    var stockInput = document.querySelector(\\'#stockSearchBar #stock_id\\');\\n    var closeBtn = document.querySelector(\\'#stockSearchBar #closeBtn\\');\\n    stockInput.addEventListener(\\'input\\', function(e) {\\n        if (stockInput.value.length) {\\n            closeBtn.style.display= \"block\"\\n        } else {\\n            closeBtn.style.display= \"none\"\\n        }\\n    });\\n    closeBtn.addEventListener(\\'click\\', function() {\\n        stockInput.value = \\'\\';\\n        closeBtn.style.display= \"none\"\\n    });\\n\\n    var marketTimeCountDownElem = document.getElementById(\\'marketTimeCountDown\\');\\n    var countDownText = marketTimeCountDownElem.innerText;\\n    var time = countDownText.match(/\\\\d+/g);\\n\\n    if (time.length === 2) {\\n        var expires = new Date();\\n        expires.setHours(expires.getHours() + parseInt(time[0]));\\n        expires.setMinutes(expires.getMinutes() + parseInt(time[1]));\\n        var expiresTime = expires.getTime();\\n\\n        var countdownTimer = setInterval(function() {\\n            var now = new Date().getTime();\\n            var distance = parseInt((expiresTime - now) / 1000);\\n            if (distance > 0) {\\n                var hours = parseInt(distance / 3600);\\n                distance = (distance % 3600);\\n                var minutes = parseInt(distance / 60);\\n                var template = countDownText.replace(/\\\\d+/g, \"{{timeSlot}}\");\\n                template = hours === 0 ? template.replace(\\'{{timeSlot}}小時\\', \\'\\') : template.replace(\\'{{timeSlot}}\\', hours);\\n                template = minutes === 0 ? template.replace(\\'{{timeSlot}}分鐘\\', \\'\\') : template.replace(\\'{{timeSlot}}\\', minutes);\\n                marketTimeCountDownElem.innerHTML = template;\\n            } else {\\n                clearInterval(countdownTimer);\\n                marketTimeCountDownElem.innerHTML = \\'\\';\\n            }\\n        }, 30000);\\n    }\\n</script>\\n<script src=\"https://s.yimg.com/nb/tw_stock_frontend/scripts/StockNavSearchBar/autocomplete-bar.110ec17d.bundle.js\" type=\"text/javascript\" charset=\"UTF-8\" defer></script>\\n\\n        <script language=\"javascript\">\\n\\t\\t<!--\\n                document.menu.stock_id.value=\"2330\";\\n\\n\\t\\t//-->\\n\\t</script>\\n\\n<br>\\n    <table width=750 border=0 cellpadding=1 cellspacing=0>\\n        <tr bgcolor=#FFF0C1>\\n\\t<td width=540 align=left>\\n\\t    &nbsp;\\n\\t</td>\\n\\t<td width=160 align=right><font color=#3333FF class=tt>\\u3000資料日期: 109/08/31</font></td>\\n\\t</tr>\\n    </table>\\n<table border=0 cellSpacing=0 cellpadding=\"0\" width=\"750\">\\n  <tr>\\n    <td>\\n      <table border=2 width=\"750\">\\n        <tr bgcolor=#fff0c1>\\n          <th align=center >股票<br>代號</th>\\n          <th align=center width=\"55\">時間</th>\\n          <th align=center width=\"55\">成交</th>\\n\\n          <th align=center width=\"55\">買進</th>\\n          <th align=center width=\"55\">賣出</th>\\n          <th align=center width=\"55\">漲跌</th>\\n          <th align=center width=\"55\">張數</th>\\n          <th align=center width=\"55\">昨收</th>\\n          <th align=center width=\"55\">開盤</th>\\n\\n          <th align=center width=\"55\">最高</th>\\n          <th align=center width=\"55\">最低</th>\\n          <th align=center>個股資料</th>\\n        </tr>\\n        <tr>\\n          <td align=center width=105><a\\n\\t  href=\"/q/bc?s=2330\">2330台積電</a><br><a href=\"/pf/pfsel?stocklist=2330;\"><font size=-1>加到投資組合</font><br></a></td>\\n                <td align=\"center\" bgcolor=\"#FFFfff\" nowrap>14:30</td>\\n                <td align=\"center\" bgcolor=\"#FFFfff\" nowrap><b>426.5</b></td>\\n                <td align=\"center\" bgcolor=\"#FFFfff\" nowrap>426.5</td>\\n                <td align=\"center\" bgcolor=\"#FFFfff\" nowrap>427.0</td>\\n                <td align=\"center\" bgcolor=\"#FFFfff\" nowrap><font color=#009900>▽8.5\\n                <td align=\"center\" bgcolor=\"#FFFfff\" nowrap>81,232</td>\\n                <td align=\"center\" bgcolor=\"#FFFfff\" nowrap>435.0</td>\\n                <td align=\"center\" bgcolor=\"#FFFfff\" nowrap>437.0</td>\\n                <td align=\"center\" bgcolor=\"#FFFfff\" nowrap>439.5</td>\\n                <td align=\"center\" bgcolor=\"#FFFfff\" nowrap>426.5</td>\\n          <td align=center width=137 class=\"tt\">\\n    <a href=\"/q/ts?s=2330\">成交彙整</a><br><a href=\"/q/ta?s=2330\">技術</a>\\u3000<a href=\\'/q/h?s=2330\\'>新聞</a><a href=\\'/d/s/company_2330.html\\'><br>基本</a>\\u3000<a href=\\'/d/s/credit_2330.html\\'>籌碼</a><a target=\\'_blank\\' style=\\'color:red\\' href=\\'https://tw.rd.yahoo.com/referurl/stock/other/SIG=125v47s73/**https://tw.screener.finance.yahoo.net/screener/check.html?symid=2330\\'><br>個股健診</a></font></td>        </tr>\\n      </table>\\n    </td>\\n  </tr>\\n</table>\\n<br>\\n<div class=\"addendum\"></span>\\n <div class=\"news\" id=\"researchNews\">\\n <div class=\"hd\">\\n <label class=\"stock\">個股新聞與研究報告</label>\\n <span class=\"more\"><a href=\"https://tw.stock.yahoo.com/q/h?s=2330\" data-ylk=\"slk:more;itc:0;sec:symbol-news;elm:itm;elmt:link\">&raquo; 更多</a></span>\\n </div>\\n <div class=\"bd quote\">\\n <ul>\\n <li>\\n <a data-ylk=\"itc:0;sec:symbol-news;elm:hdln;elmt:ct;g:bdf0bc61-6743-3587-8241-520b4c798b8f\" href=\"/news/%E5%8F%B0%E7%A9%8D%E9%9B%BB%E9%98%B2%E5%A0%B5%E5%93%81%E8%B3%AA%E7%95%B0%E5%B8%B8%E9%A2%A8%E9%9A%AA-%E5%89%B5%E9%80%A028%E5%84%84%E5%85%83%E6%BD%9B%E5%9C%A8%E5%88%A9%E7%9B%8A-073644790.html\">台積電防堵品質異常風險 創造28億元潛在利益</a>\\n <span class=\"meta\">(鉅亨網 2020/08/31 15:36)</span>\\n </li> <li>\\n <a data-ylk=\"itc:0;sec:symbol-news;elm:hdln;elmt:ct;g:f9a8c145-2288-38f2-a563-e2c28d5b42a1\" href=\"/news/%E5%8D%8A%E5%B0%8E%E9%AB%94-%E5%8F%B0%E7%A9%8D%E9%9B%BB%E9%BC%93%E5%8B%B5%E5%93%A1%E5%B7%A5%E4%B8%BB%E5%8B%95%E9%98%B2%E5%A0%B5%E9%A2%A8%E9%9A%AA-%E5%B7%B2%E5%89%B528%E5%84%84%E5%85%83%E6%BD%9B%E5%9C%A8%E6%95%88%E7%9B%8A-041522202.html\">《半導體》台積電鼓勵員工主動防堵風險 已創28億元潛在效益</a>\\n <span class=\"meta\">(時報資訊 2020/08/31 12:15)</span>\\n </li> <li>\\n <a data-ylk=\"itc:0;sec:symbol-news;elm:hdln;elmt:ct;g:0930fc01-c03b-37ce-98af-0b6ee7a662af\" href=\"/news/%E5%8F%B0%E7%A9%8D%E9%9B%BB%E6%93%B4%E5%A4%A7%E5%8D%8A%E5%B0%8E%E9%AB%94%E5%AD%B8%E7%A8%8B-%E9%99%8D%E4%BD%8E%E7%94%A2%E5%AD%B8%E8%90%BD%E5%B7%AE-030535530.html\">台積電擴大半導體學程 降低產學落差</a>\\n <span class=\"meta\">(中央社 2020/08/31 11:05)</span>\\n </li> <li>\\n <a data-ylk=\"itc:0;sec:symbol-news;elm:hdln;elmt:ct;g:095ec1a9-c9bd-3cb9-9b09-1e95552b0b77\" href=\"/news/%E5%8D%8A%E5%B0%8E%E9%AB%94-%E5%8F%B0%E7%A9%8D%E9%9B%BB%E9%96%8B%E9%AB%98%E5%A3%93%E5%9B%9E-%E4%B8%8A%E5%91%A8%E5%A4%96%E8%B3%87%E5%80%92%E8%B2%A8-023514432.html\">《半導體》台積電開高壓回 上周外資倒貨</a>\\n <span class=\"meta\">(時報資訊 2020/08/31 10:35)</span>\\n </li> </ul>\\n </div>\\n <div class=\"ft\">\\n </div>\\n </div>\\n <div class=\"ad\">\\n <div class=\"hd\">廣告</div>\\n <div class=\"bd\">\\n           <div id=\"boxLREC\"><div id=\"tgtLREC\"></div></div> </div>\\n </div>\\n</div> <p>\\n<table width=\"750\" border=\"0\" cellpadding=\"0\" cellspacing=\"0\">\\n<tr><td>\\n<!--START:YSM CM MODULE-->\\n<link href=\\'https://s.yimg.com/ud/others/stock/ysm_gemini_q_v1.css\\' rel=\\'stylesheet\\' type=\\'text/css\\'>\\n<link href=\\'https://s.yimg.com/f/i/tw/ysm/hybrid/hybrid_stock02_big5.css\\' rel=\\'stylesheet\\' type=\\'text/css\\'>\\n<div style=\"display: block;\" id=\"ysmcm\">\\n    <div class=\"cont\">\\n        <table class=\"kw\" border=\"0\" cellpadding=\"0\" cellspacing=\"0\" width=\"100%\">\\n            <tbody>\\n                <tr>\\n                    <td width=\"100\">相關贊助網站</td>\\n                    <td align=\"right\">\\n                    </td>\\n                </tr>\\n            </tbody>\\n        </table>\\n    </div>\\n</div>\\n<!--END:YSM CM MODULE-->\\n</td></tr></table>\\n</p>\\n<!-- jurisdiction headers --><!-- x-jurisdiction-type : WORLD -->\\n<!-- Begin comScore Tag --> \\n<script>\\n  window.__adlib.fireComscoreBeacon({\\n    c1: \"2\",\\n    c2: \"7241469\",\\n    c5: \"152958415\",\\n    c7: \"https%3A%2F%2Ftw.stock.yahoo.com%252fq%252fq%253fs%253d2330\"\\n  });\\n\\n  YUI().use(\\'node\\',function(Y){\\n    if(Y.one(\\'#yuhead-sform-searchfield\\')){\\n      Y.one(\\'#yuhead-sform-searchfield\\').set(\\'value\\',document.getElementById(\\'yuhead-sform-searchfield\\').getAttribute(\"data-sh\"));\\n    }\\n  })\\n</script>\\n<noscript><img src=\"https://sb.scorecardresearch.com/p?c1=2&c2=7241469&c7=https%3A%2F%2Ftw.stock.yahoo.com%252fq%252fq%253fs%253d2330&c5=152958415&cv=2.0&cj=1\" width=\"1\" height=\"1\" alt=\"\"/></noscript>\\n<!-- End comScore Tag -->\\n\\n<table width=\"750\" border=\"0\" align=\"center\" cellpadding=\"0\" cellspacing=\"0\"> \\n <tr>\\n <td height=\"90\" valign=\"bottom\">\\n<DIV id=yhtw_mastfoot>\\n<div class=\"ln\">Yahoo Finance \\n<a href=\"https://policies.yahoo.com/tw/zh-hant/yahoo/terms/utos/\">服務條款</a> \\n<a href=\"https://policies.yahoo.com/tw/zh-hant/yahoo/privacy/\">隱私權</a> \\n</div>\\n<div class=\"other\">\\n<p>台股資料來源<a href=\"http://www.tse.com.tw/zh/\" target=\"_blank\">臺灣證券交易所</a>、<a href=\"http://www.taifex.com.tw\" target=\"_blank\">臺灣期貨交易所</a>及<a href=\"http://www.tpex.org.tw/web/\" target=\"_blank\">財團法人中華民國證券櫃檯買賣中心</a>。國際股市資料來源請參考<a href=\"https://help.yahoo.com/kb/finance-for-desktop/SLN2310.html\" target=\"_blank\">Yahoo Finance</a>。使用Yahoo奇摩股市服務前，請您詳閱相關<a href=\"https://tw.help.yahoo.com/kb/stock-tw-web/SLN28774.html?impressions=true\" target=\"_blank\">使用規範與聲明</a>。</p>\\n</div>\\n</DIV>\\n  </td>\\n </tr>\\n</table>\\n<script type=\"application/javascript\">(function(w,d,t,r,u){w[u]=w[u]||[];w[u].push({\\'projectId\\':\\'10000\\',\\'properties\\':{\\'pixelId\\':\\'428726\\',\\'qstrings\\':{\\'country\\':\\'tw\\', \\'property\\':\\'stock\\', \\'tag\\':\\'\\'}}});var s=d.createElement(t);s.src=r;s.async=true;s.onload=s.onreadystatechange=function(){var y,rs=this.readyState,c=w[u];if(rs&&rs!=\"complete\"&&rs!=\"loaded\"){return}try{y=YAHOO.ywa.I13N.fireBeacon;w[u]=[];w[u].push=function(p){y([p])};y(c)}catch(e){}};var scr=d.getElementsByTagName(t)[0],par=scr.parentNode;par.insertBefore(s,scr)})(window,document,\"script\",\"https://s.yimg.com/wi/ytc.js\",\"dotq\");</script>\\n<noscript>\\n    <img src=\"https://geo.yahoo.com/b?s=152958415\" height=\"1\" width=\"1\" />\\n</noscript>\\n</center>\\n\\n</body><script src=\"https://s.yimg.com/f/i/tw/mb/universal_header/uh_tw_v11.js\" type=\"text/javascript\"></script>\\n   <script type=\"text/javascript\">\\n       if (window.DARLA && window.DARLA_CONFIG) {\\n          DARLA.config(DARLA_CONFIG);\\n          DARLA.event( \"AUTO\" );\\n       }\\n\\n     </script>\\n<script>\\n var tracked_mods = {\\n     \\'researchNews\\': \\'symbol-news\\'\\n };\\n stockSiteRapid.addModules(tracked_mods);\\n</script>\\n\\n<!-- Gemini Ads Beacon -->\\n<script type=\"text/javascript\">\\n</script>\\n</html>\\n\\n<!-- w228.finance.tp2.yahoo.com Mon Aug 31 09:48:09 UTC 2020 -->\\n'"
      ]
     },
     "execution_count": 21,
     "metadata": {},
     "output_type": "execute_result"
    }
   ],
   "source": [
    "from bs4 import BeautifulSoup\n",
    "import requests\n",
    "\n",
    "res = requests.get(\"https://tw.stock.yahoo.com/q/q?s=2330\")\n",
    "res.text"
   ]
  },
  {
   "cell_type": "code",
   "execution_count": 24,
   "metadata": {},
   "outputs": [
    {
     "data": {
      "text/plain": [
       "<!DOCTYPE doctype html public \"-//w3c//dtd html 4.01//en\" \"http://www.w3.org/tr/html4/strict.dtd\">\n",
       "\n",
       "<html>\n",
       "<head>\n",
       "<meta content=\"false\" name=\"oath:guce:product-eu\"/>\n",
       "<meta content=\"guce.yahoo.com\" name=\"oath:guce:consent-host\"/>\n",
       "<meta content=\"zh-Hant-TW\" name=\"oath:guce:locale\"/>\n",
       "<meta content=\"false\" name=\"oath:guce:report-only\"/>\n",
       "<meta content=\"true\" name=\"oath:guce:inline-consent\"/>\n",
       "<script async=\"\" src=\"https://s.yimg.com/oa/guce.js\"></script>\n",
       "<!-- Rapid begin. -->\n",
       "<script language=\"JavaScript\" src=\"https://s.yimg.com/ss/rapid3.js\"></script>\n",
       "<script language=\"JavaScript\" src=\"/__rapid-worker-1.2.js\"></script> <!-- rapid should require worker file itself, this should be unnessary, but require it anyway. -->\n",
       "<script language=\"JavaScript\">\n",
       "    YAHOO.i13n.WEBWORKER_FILE = \"/__rapid-worker-1.2.js\";\n",
       "    var pageParams = {\"site\":\"finance\",\"lang\":\"zh-Hant-TW\",\"mrkt\":\"tw\",\"pt\":\"utility\",\"pstcat\":\"equities\",\"pct\":\"qsp\",\"ticker\":\"2330.TW\"}\n",
       "    if (typeof articlePageParams === 'object') {\n",
       "        pageParams = articlePageParams;\n",
       "    }\n",
       "\n",
       "    var stockSiteRapid = new YAHOO.i13n.Rapid({ client_only: 1, spaceid: '152958415', keys: pageParams, tracked_mods: [], test_id: '3.RDg1MjI4NAcyMDIwLXR3c3RvY2stZGVza3RvcC1mcm9udHBhZ2UtaW50ZXJuYWwxBl9DSEcDMARfdmVyAzQuMTYuMw--' });\n",
       "</script>\n",
       "<!-- Rapid end. -->\n",
       "<!-- Consent Manager Tag : Script -->\n",
       "<script async=\"\" src=\"https://consent.cmp.oath.com/cmp.js\" type=\"text/javascript\"></script>\n",
       "<script src=\"https://s.yimg.com/nb/AdLib/adlib-prod.umd.min.js\" type=\"text/javascript\"></script>\n",
       "<!-- Consent Manager Tag : Stubbed (minified) (updated 2018-04-27T17:00) -->\n",
       "<script type=\"text/javascript\">!function(){var e=!1;function a(e){var a=\"string\"==typeof e.data,t=e.data;if(a)try{t=JSON.parse(e.data)}catch(e){}if(t.__cmpCall){var n=t.__cmpCall;window.__cmp(n.command,n.parameter,function(t,c){var i={__cmpReturn:{returnValue:t,success:c,callId:n.callId}};e.source.postMessage(a?JSON.stringify(i):i,\"*\")})}}!function e(){if(!window.frames.__cmpLocator)if(document.body&&document.body.firstChild){var a=document.body,t=document.createElement(\"iframe\");t.style.display=\"none\",t.height=t.width=0,t.name=\"__cmpLocator\",a.insertBefore(t,a.firstChild)}else setTimeout(e,5)}(),\"function\"!=typeof __cmp&&(window.__cmp=function(){var a=arguments;if(__cmp.a=__cmp.a||[],!a.length)return __cmp.a;\"ping\"===a[0]?a[2]({gdprAppliesGlobally:e,cmpLoaded:!1},!0):__cmp.a.push([].slice.apply(a))},__cmp.msgHandler=a,window.addEventListener?window.addEventListener(\"message\",a,!1):window.attachEvent(\"onmessage\",a))}();</script>\n",
       "<!-- End Consent Manager Tag : Stubbed (minified) -->\n",
       "<meta content=\"text/html; charset=utf-8\" http-equiv=\"content-type\"/>\n",
       "<script type=\"text/javascript\">\n",
       "        window.__cmp('init');\n",
       "\n",
       "        window.__cmp('getConsentData', null, function (result, success) {\n",
       "        // consentData contains the base64-encoded consent string\n",
       "        var consentData = result.consentData;\n",
       "\n",
       "        // gdprApplies specifies whether the user is in EU jurisdiction\n",
       "        var gdprApplies = result.gdprApplies;\n",
       "        console.log(\"getConsentData result:\" + JSON.stringify(result, true));\n",
       "        if ( success ) {\n",
       "            console.log('call getConsentData success');\n",
       "        } else {\n",
       "            console.log('call getConsentData fail');\n",
       "        }\n",
       "        // pass these 2 values to all ad / pixel calls\n",
       "        // window.__cmp('getVendorConsents', null, function( result, success) {\n",
       "        //     if ( success ) {\n",
       "        //         console.log('call getVendorConsents success');\n",
       "        //     } else {\n",
       "        //         console.log('call getVendorConsents fail');\n",
       "        //     }\n",
       "        //     console.log(\"getVendorConsents result:\" + JSON.stringify(result, true));\n",
       "        // });\n",
       "    });\n",
       "    </script>\n",
       "<meta content=\"text/html; charset=utf-8\" http-equiv=\"Content-Type\"/>\n",
       "<meta content=\"Yahoo!奇摩股市\" name=\"application-name\">\n",
       "<meta content=\"#7b0099\" name=\"msapplication-TileColor\"/>\n",
       "<meta content=\"https://s.yimg.com/f/i/tw/stock/tw_stock_icon_pin.png\" name=\"msapplication-TileImage\"/>\n",
       "<title>Yahoo!奇摩股市</title>\n",
       "<link href=\"https://s.yimg.com/f/i/tw/hp/masthead/yhtw_masthead_standard.css\" media=\"screen, print\" rel=\"stylesheet\" type=\"text/css\"/>\n",
       "<link href=\"https://s.yimg.com/f/i/tw/hp/masthead/yhtw_masthead_12.css\" media=\"screen, print\" rel=\"stylesheet\" type=\"text/css\"/>\n",
       "<link href=\"https://s.yimg.com/f/i/tw/stock/revampe/css_1960_min.css\" media=\"screen, print\" rel=\"stylesheet\" type=\"text/css\"/>\n",
       "<link href=\"https://s.yimg.com/f/i/tw/stock/img06/stock_wd.css\" media=\"screen, print\" rel=\"stylesheet\" type=\"text/css\"/>\n",
       "<link href=\"https://s.yimg.com/f/i/tw/stock/stock_print_1_2.css\" media=\"print\" rel=\"stylesheet\" type=\"text/css\"/>\n",
       "<link href=\"https://s.yimg.com/f/i/tw/hp/Universal_header/uh_bt3.css\" rel=\"stylesheet\" type=\"text/css\"/>\n",
       "<link href=\"https://s.yimg.com/f/i/tw/stock/revampe/ystock_uh_1_1_min.css\" rel=\"stylesheet\" type=\"text/css\"/>\n",
       "<link href=\"https://s.yimg.com/ud/others/stock/gemini-v1.css\" rel=\"stylesheet\" type=\"text/css\"/>\n",
       "<script type=\"text/JavaScript\">\n",
       "<!--\n",
       "function MM_swapImgRestore() { //v3.0\n",
       " var i,x,a=document.MM_sr; for(i=0;a&&i<a.length&&(x=a[i])&&x.oSrc;i++) x.src=x.oSrc;\n",
       "}\n",
       "function MM_preloadImages() { //v3.0\n",
       " var d=document; if(d.images){ if(!d.MM_p) d.MM_p=new Array();\n",
       " var i,j=d.MM_p.length,a=MM_preloadImages.arguments; for(i=0; i<a.length; i++)\n",
       " if (a[i].indexOf(\"#\")!=0){ d.MM_p[j]=new Image; d.MM_p[j++].src=a[i];}}\n",
       "}\n",
       "function MM_findObj(n, d) { //v4.01\n",
       " var p,i,x; if(!d) d=document; if((p=n.indexOf(\"?\"))>0&&parent.frames.length) {\n",
       " d=parent.frames[n.substring(p+1)].document; n=n.substring(0,p);}\n",
       " if(!(x=d[n])&&d.all) x=d.all[n]; for (i=0;!x&&i<d.forms.length;i++) x=d.forms[i][n];\n",
       " for(i=0;!x&&d.layers&&i<d.layers.length;i++) x=MM_findObj(n,d.layers[i].document);\n",
       " if(!x && d.getElementById) x=d.getElementById(n); return x;\n",
       "}\n",
       "function MM_swapImage() { //v3.0\n",
       " var i,j=0,x,a=MM_swapImage.arguments; document.MM_sr=new Array; for(i=0;i<(a.length-2);i+=3)\n",
       " if ((x=MM_findObj(a[i]))!=null){document.MM_sr[j++]=x; if(!x.oSrc) x.oSrc=x.src; x.src=a[i+2];}\n",
       "}\n",
       "//-->\n",
       "</script>\n",
       "<style type=\"text/css\">\n",
       "<!--\n",
       ".style1 {\n",
       " color: #000000;\n",
       " font-family: \"新細明體\";\n",
       "}\n",
       ".style2 {color: #4f5d70}\n",
       ".style4 {color: #009900}\n",
       ".style5 {color: #FF0000}\n",
       ".style8 {font-size: 10pt;}\n",
       ".style9 {color: #000000; }\n",
       ".style12 {line-height: 25pt; font-family: \"新細明體\", mingliu, taipei;}\n",
       ".style13 {color: #4f5d70}\n",
       "-->\n",
       "</style>\n",
       "<script language=\"JavaScript\" src=\"https://s.yimg.com/f/i/tw/hp/wd/wd_20050720.js\"></script>\n",
       "<!--\n",
       "<script language=\"JavaScript\" src=\"https://s.yimg.com/lq/lib/common/utils/2/yahoo_2.0.0-b2.js\" ></script>\n",
       "<script language=\"JavaScript\" src=\"https://s.yimg.com/lq/lib/common/utils/2/dom_2.0.0-b2.js\" ></script>\n",
       "<script language=\"JavaScript\" src=\"https://s.yimg.com/lq/lib/common/utils/2/event_2.0.0-b2.js\" ></script>\n",
       "<script language=\"JavaScript\" src=\"https://s.yimg.com/lq/lib/common/utils/2/dragdrop_2.0.0-b2.js\" ></script>\n",
       "-->\n",
       "<script language=\"JavaScript\" src=\"https://s.yimg.com/f/i/tw/hp/wd/wd_20050720.js\"></script>\n",
       "<script language=\"JavaScript\" src=\"https://s.yimg.com/f/i/tw/stock/yui2/yahoo_200_b2.js\"></script>\n",
       "<script language=\"JavaScript\" src=\"https://s.yimg.com/f/i/tw/stock/yui2/dom_200_b2.js\"></script>\n",
       "<script language=\"JavaScript\" src=\"https://s.yimg.com/f/i/tw/stock/yui2/event_200_b2.js\"></script>\n",
       "<script language=\"JavaScript\" src=\"https://s.yimg.com/f/i/tw/stock/yui2/dragdrop_200_b2.js\"></script>\n",
       "<script language=\"JavaScript\" src=\"https://s.yimg.com/f/i/tw/stock/img06/stk_wd.js\"></script>\n",
       "<script language=\"javascript\" src=\"https://s.yimg.com/f/i/tw/stock/img06/stock22.js\"></script>\n",
       "<script language=\"javascript\" src=\"https://s.yimg.com/f/i/tw/stock/img06/auth.js\"></script>\n",
       "<script language=\"javascript\" src=\"https://s.yimg.com/f/i/tw/mc/mc.js\"></script>\n",
       "<script language=\"javascript\" src=\"https://s.yimg.com/f/i/tw/stock/img06/quotelist.js\"></script>\n",
       "<script language=\"javascript\" src=\"https://s.yimg.com/f/i/tw/stock/img06/tsc22_r1826.js\"></script>\n",
       "<script src=\"https://sec.yimg.com/us.js.yimg.com/lib/common/utils/2/connection_2.1.0.js\" type=\"text/javascript\"></script>\n",
       "<script type=\"text/javascript\">\n",
       " !window.YUI && document.write(\"<script type=\\\"text/javascript\\\" src=\\\"https://yui-s.yahooapis.com/combo?3.5.1/yui/yui-min.js\\\">\"+\"</scr\"+\"ipt>\");\n",
       "</script></meta></head>\n",
       "<style type=\"text/css\">\n",
       " .ad_slug_table TD { font-size:0px;cursor:default; }\n",
       " .ad_slug_table TD SPAN { font-size:0px;cursor:default; }\n",
       " .ad_slug_table TD SPAN FONT { font-size:10px;cursor:default; }\n",
       " .ad_slug_table TD SPAN.can_ad_slug { font-size:11px;text-align:right }\n",
       "</style>\n",
       "<script src=\"https://s.yimg.com/rq/darla/3-28-0/js/g-r-min.js\" type=\"text/javascript\"></script>\n",
       "<script type=\"text/javascript\">\n",
       "                if (!window.DARLA_CONFIG) {\n",
       "                  DARLA_CONFIG = {\"useYAC\":0,\"usePE\":0,\"servicePath\":\"https:\\/\\/tw.stock.yahoo.com\\/sdarla\\/php\\/fc.php\",\"xservicePath\":\"\",\"beaconPath\":\"https:\\/\\/tw.stock.yahoo.com\\/sdarla\\/php\\/b.php\",\"renderPath\":\"\",\"allowFiF\":false,\"srenderPath\":\"https:\\/\\/s.yimg.com\\/rq\\/darla\\/3-28-0\\/html\\/r-sf.html\",\"renderFile\":\"https:\\/\\/s.yimg.com\\/rq\\/darla\\/3-28-0\\/html\\/r-sf.html\",\"sfbrenderPath\":\"https:\\/\\/s.yimg.com\\/rq\\/darla\\/3-28-0\\/html\\/r-sf.html\",\"msgPath\":\"https:\\/\\/fc.yahoo.com\\/unsupported-1946.html\",\"cscPath\":\"https:\\/\\/s.yimg.com\\/rq\\/darla\\/3-28-0\\/html\\/r-csc.html\",\"root\":\"sdarla\",\"edgeRoot\":\"https:\\/\\/s.yimg.com\\/rq\\/darla\\/3-28-0\",\"sedgeRoot\":\"https:\\/\\/s.yimg.com\\/rq\\/darla\\/3-28-0\",\"version\":\"3-28-0\",\"tpbURI\":\"\",\"hostFile\":\"https:\\/\\/s.yimg.com\\/rq\\/darla\\/3-28-0\\/js\\/g-r-min.js\",\"beaconsDisabled\":true,\"rotationTimingDisabled\":true,\"fdb_locale\":\"\\u60a8\\u70ba\\u4ec0\\u9ebc\\u4e0d\\u559c\\u6b61\\u9019\\u5247\\u5ee3\\u544a\\uff1f|\\u5ee3\\u544a\\u5167\\u5bb9\\u4ee4\\u4eba\\u53cd\\u611f|\\u5176\\u4ed6|\\u611f\\u8b1d\\u60a8\\u5354\\u52a9\\u6211\\u5011\\u6539\\u5584\\u60a8\\u7684 Yahoo\\u5947\\u6469\\u9ad4\\u9a57|\\u5ee3\\u544a\\u5167\\u5bb9\\u8207\\u6211\\u6c92\\u4ec0\\u9ebc\\u95dc\\u806f|\\u4f7f\\u4eba\\u5206\\u5fc3|\\u6211\\u4e0d\\u559c\\u6b61\\u9019\\u652f\\u5ee3\\u544a|\\u9001\\u51fa|\\u5b8c\\u6210|\\u70ba\\u4ec0\\u9ebc\\u6211\\u6703\\u770b\\u898b\\u5ee3\\u544a\\uff1f|\\u9032\\u4e00\\u6b65\\u4e86\\u89e3\\u60a8\\u7684\\u610f\\u898b\\u3002|\\u60f3\\u8981\\u4f7f\\u7528\\u7121\\u5ee3\\u544a\\u6536\\u4ef6\\u5323\\u55ce\\uff1f\\u5feb\\u4f86\\u5347\\u7d1a Yahoo Mail Pro\\uff01|\\u7acb\\u5373\\u5347\\u7d1a\",\"lang\":\"zh-Hant-TW\"};\n",
       "                }\n",
       "                            DARLA_CONFIG.events = {\n",
       "                                         'renderN':\n",
       "                            {\n",
       "                                name: 'renderN',\n",
       "                                ps: 'N',\n",
       "                                sp: 152958415,\n",
       "                                npv: 1,\n",
       "                                ssl: 1\n",
       "                            },                             'renderLREC':\n",
       "                            {\n",
       "                                name: 'renderLREC',\n",
       "                                ps: 'LREC',\n",
       "                                sp: 152958415,\n",
       "                                npv: 1,\n",
       "                                ssl: 1\n",
       "                            },\n",
       "                    'AUTO':\n",
       "                      {\n",
       "                        name: \"AUTO\",\n",
       "                        sp: 152958415,\n",
       "                        autoStart: 1,\n",
       "                        autoIV:1,\n",
       "                        ps: \"N,LREC\",\n",
       "                        ssl: 1,\n",
       "                        secure: 1,\n",
       "                        ref: document.location.href // to support testing ads.\n",
       "                      }\n",
       "                    };\n",
       "                               DARLA_CONFIG.positions = {\n",
       "                                          N: {wcpx: 1, hcpx: 1, dest: 'tgtN', clean: 'boxN' ,fdb: { \"on\": 1 }, metaSize: true},\n",
       "                       LREC: {wcpx: 1, hcpx: 1, dest: 'tgtLREC', clean: 'boxLREC' ,fdb: { \"on\": 1 }, metaSize: true}\n",
       "               };\n",
       "              </script><body style=\"margin-top:0px\" vlink=\"#3948CC\">\n",
       "<center>\n",
       "<script language=\"javascript\" src=\"https://s.yimg.com/uc/sf/latest/js/safe.min.js\"></script>\n",
       "<!--BEGIN:Universal Master Header-->\n",
       "<style>\n",
       "  body {\n",
       "    margin: 0;\n",
       "  }\n",
       "  .uh .eyebrow>li {\n",
       "    display: inline-block;\n",
       "    margin: 1px 32px 0 0;\n",
       "    font-size: 13px;\n",
       "    font-weight: normal;\n",
       "  }\n",
       "  .uh .eyebrow>li>a {\n",
       "    color: #fff;\n",
       "    text-decoration: none;\n",
       "  }\n",
       "  .uh .eyebrow>li>a:hover {\n",
       "    text-decoration: underline;\n",
       "  }\n",
       "  .uh .eyebrow .more-anchor {\n",
       "    color: #fff;\n",
       "  }\n",
       "  .uh .eyebrow .more-anchor:hover {\n",
       "    color: #1d1da3;\n",
       "    background-color: #fff;\n",
       "  }\n",
       "  .uh .eyebrow .more-anchor svg {\n",
       "    fill: #fff;\n",
       "  }\n",
       "  .uh .eyebrow .more-anchor:hover svg {\n",
       "    fill: #1d1da3;\n",
       "  }\n",
       "  .uh .eyebrow .more-list {\n",
       "    display: none;\n",
       "  }\n",
       "  .uh .eyebrow .more-list li {\n",
       "    padding-bottom: 10px;\n",
       "  }\n",
       "  .uh .eyebrow .more-anchor:hover .more-list{\n",
       "    display: block;\n",
       "  }\n",
       "  .uh .header input[type=text] {\n",
       "    width: 250px;\n",
       "  }\n",
       "  .uh.broad .header input[type=text] {\n",
       "    width: 400px;\n",
       "  }\n",
       "  .uh .header .search-button {\n",
       "    border-width: 0;\n",
       "    border-bottom: 2px solid #21487f;\n",
       "    border-radius: 4px;\n",
       "    width: 80px;\n",
       "    height: 35px;\n",
       "    font: 16px \"Helvetica Neue\",Helvetica,Arial,sans-serif;\n",
       "    color: #fff;\n",
       "    background-color: #3775dd;\n",
       "    cursor: pointer;\n",
       "    outline: none;\n",
       "  }\n",
       "  .uh.broad .header .search-button {\n",
       "    padding: 0 14px;\n",
       "    width: 110px;\n",
       "  }\n",
       "  .uh .header .login-button {\n",
       "    color: #400090;\n",
       "  }\n",
       "  .uh .header .login-button:hover {\n",
       "    color: #fff;\n",
       "    background-color: #400090;\n",
       "  }\n",
       "  .uh .header .logout-link {\n",
       "    color: #26282a;\n",
       "  }\n",
       "  .uh .header .logout-link:hover {\n",
       "    color: #0078ff;\n",
       "  }\n",
       "  .uh .header .profile .profile-box {\n",
       "    display: none;\n",
       "  }\n",
       "  .uh .header .profile:hover .profile-box {\n",
       "    display: inline-block;\n",
       "  }\n",
       "</style>\n",
       "<div class=\"uh\" id=\"uh\" style=\"position: relative; z-index: 21; margin-bottom: 10px;\">\n",
       "<ul class=\"eyebrow\" style=\"margin: 0; padding: 0; height: 22px; font-size: 0; text-align: left; white-space: nowrap; background-color: #2d1152; min-width: 1080px\">\n",
       "<li style=\"margin-left: 10px;\">\n",
       "<a href=\"https://tw.yahoo.com/\">\n",
       "<div>\n",
       "<svg data-icon=\"home\" height=\"16\" style=\"margin-top: 1px; vertical-align: top; fill: #fff; stroke-width: 0;\" viewbox=\"0 0 32 32\" width=\"16\">\n",
       "<path d=\"M16.153 3.224L0 16.962h4.314v11.814h9.87v-8.003h3.934v8.003h9.84V16.962H32\" data-reactid=\"10\"></path>\n",
       "</svg>\n",
       "<span>首頁</span>\n",
       "</div>\n",
       "</a>\n",
       "</li>\n",
       "<li><a href=\"https://tw.mail.yahoo.com/?.intl=tw&amp;.lang=zh-Hant-TW\">信箱</a></li>\n",
       "<li><a href=\"https://tw.news.yahoo.com/\">新聞</a></li>\n",
       "<li><a href=\"http://tw.stock.yahoo.com/\">股市</a></li>\n",
       "<li><a href=\"https://tw.news.yahoo.com/weather/\">氣象</a></li>\n",
       "<li><a href=\"https://tw.sports.yahoo.com/\">運動</a></li>\n",
       "<li><a href=\"https://tw.video.yahoo.com/\">Yahoo TV</a></li>\n",
       "<li><a href=\"http://yahoomode.tumblr.com/yahooapp/\">App下載</a></li>\n",
       "<li><a href=\"https://tw.buy.yahoo.com/\">購物中心</a></li>\n",
       "<li><a href=\"https://tw.mall.yahoo.com/\">商城</a></li>\n",
       "<li><a href=\"https://tw.bid.yahoo.com/\">拍賣</a></li>\n",
       "<li>\n",
       "<div class=\"more-anchor rapidnofollow\" style=\"position: relative; z-index: 1; margin-left: -10px; outline: none; cursor: pointer;\">\n",
       "<div style=\"padding: 0 10px;\">\n",
       "<span>更多</span>\n",
       "<svg data-icon=\"CoreArrowDown\" height=\"8\" style=\"margin-left: 5px; vertical-align: middle;\" viewbox=\"0 0 512 512\" width=\"8\">\n",
       "<path d=\"M500.77 131.432L477.53 108.18c-14.45-14.55-40.11-14.55-54.51 0L255.845 275.363 88.582 108.124c-15.015-14.874-39.363-14.874-54.42.108L10.94 131.486c-14.58 14.44-14.58 40.11-.033 54.442l217.77 217.845c15.004 14.82 39.33 14.874 54.42-.108L500.88 185.82c14.818-14.982 14.87-39.298-.11-54.388z\"></path>\n",
       "</svg>\n",
       "</div>\n",
       "<div class=\"more-list\" style=\"position: absolute; color: #1d1da3; background-color: #fff; box-shadow: rgba(0, 0, 0, 0.2) 0px 4px 7px\">\n",
       "<ul style=\"list-style: none; padding: 10px; text-align: left;\">\n",
       "<li><a class=\"D(b) Py(3px)\" href=\"https://tw.answers.yahoo.com/\">知識+</a></li>\n",
       "<li><a class=\"D(b) Py(3px)\" href=\"https://autos.yahoo.com.tw/\">汽車機車</a></li>\n",
       "<li><a class=\"D(b) Py(3px)\" href=\"https://movies.yahoo.com.tw/\">電影</a></li>\n",
       "<li><a class=\"D(b) Py(3px)\" href=\"https://tw.dictionary.yahoo.com/\">字典</a></li>\n",
       "<li><a class=\"D(b) Py(3px)\" href=\"https://travel.yahoo.com.tw/\">旅遊</a></li>\n",
       "<li><a class=\"D(b) Py(3px)\" href=\"https://tw.money.yahoo.com/\">理財</a></li>\n",
       "<li><a class=\"D(b) Py(3px)\" href=\"https://house.yahoo.com.tw/\">房地產</a></li>\n",
       "<li><a class=\"D(b) Py(3px)\" href=\"https://style.yahoo.com.tw/\">時尚美妝</a></li>\n",
       "<li><a class=\"D(b) Py(3px)\" href=\"https://tw.discount.yahoo.net/\">折扣城</a></li>\n",
       "<li><a class=\"D(b) Py(3px)\" href=\"https://tw.news.yahoo.com/entertainment\">娛樂</a></li>\n",
       "<li><a class=\"D(b) Py(3px)\" href=\"https://games.yahoo.com.tw\">遊戲</a></li>\n",
       "</ul>\n",
       "</div>\n",
       "</div>\n",
       "</li>\n",
       "</ul>\n",
       "<div class=\"header\" style=\"display: flex; height: 68px; align-items: center; width: 750px\"> <a data-ylk=\"elm:btn;itc:0;slk:yahoo;subsec:logo\" href=\"/\" style=\"display: inline-block; width: 126px; height: 40px; background-size: cover; background-image: url(https://s.yimg.com/cv/apiv2/twstock/img/TW_desktop_stock_home@2x.png); margin-right: 24px;\"></a>\n",
       "<div style=\"flex-grow: 1; text-align: left;\">\n",
       "<form accept-charset=\"utf-8\" action=\"https://tw.search.yahoo.com/search\" method=\"get\" style=\"margin-bottom: 0;\">\n",
       "<input name=\"fr\" type=\"hidden\" value=\"ush1-finance\"/>\n",
       "<input name=\"p\" placeholder=\"搜尋\" style=\"box-sizing: content-box; padding: 7px 15px; height: 17px; font-size: 15px; font-family: 'Helvetica Neue',Helvetica,Arial,sans-serif;\" type=\"text\">\n",
       "<button class=\"search-button\" type=\"submit\">搜尋</button>\n",
       "</input></form>\n",
       "</div>\n",
       "<div>\n",
       "<a class=\"login-button\" data-ylk=\"elm:btn;itc:0;slk:signin;subsec:profile\" href=\"https://login.yahoo.com/config/login?.src=twfinance&amp;.intl=tw&amp;.lang=zh-Hant-TW&amp;.done=https%3A%2F%2Ftw.stock.yahoo.com%2F\" style=\"display: inline-block; border-radius: 5px; border: 2px solid #400090; width: 78px; text-align: center; vertical-align: middle; font-size: 14px; text-decoration: none;\">登入</a>\n",
       "<a data-ylk=\"elm:btn;itc:0;slk:mail;subsec:mail\" href=\"https://mail.yahoo.com/?.intl=tw&amp;.lang=zh-Hant-TW\" style=\"color: #400090; text-decoration: none;\">\n",
       "<svg height=\"35\" style=\"fill: #400090; vertical-align: middle;\" viewbox=\"0 0 512 512\" width=\"30\">\n",
       "<path d=\"M460.586 91.31H51.504c-10.738 0-19.46 8.72-19.46 19.477v40.088l224 104.03 224-104.03v-40.088c0-10.757-8.702-19.478-19.458-19.478M32.046 193.426V402.96c0 10.758 8.72 19.48 19.458 19.48h409.082c10.756 0 19.46-8.722 19.46-19.48V193.428l-224 102.327-224-102.327z\"></path>\n",
       "</svg>\n",
       "<b style=\"font-size: 14px; font-weight: 400; vertical-align: middle;\">信箱</b>\n",
       "</a>\n",
       "</div>\n",
       "</div>\n",
       "</div>\n",
       "<!--END:Universal Master Header-->\n",
       "<script type=\"text/javascript\">\n",
       "function onProfileClick() {\n",
       "  if (stockSiteRapid) {\n",
       "    stockSiteRapid.beaconClick('uh', 'profile', '15', { elm: 'btn', itc: 1, subsec: 'profile' });\n",
       "  }\n",
       "}\n",
       "\n",
       "function onProfileHover() {\n",
       "  if (stockSiteRapid) {\n",
       "    stockSiteRapid.beaconClick('uh', 'profile', '15', { elm: 'btn', itc: 2, subsec: 'profile' });\n",
       "  }\n",
       "}\n",
       "\n",
       "var tracked_mods = {\n",
       "  'uh': 'uh'\n",
       "};\n",
       "stockSiteRapid.addModules(tracked_mods);\n",
       "</script>\n",
       "<div id=\"boxN\"><div id=\"tgtN\"></div></div><script lang=\"text/javascript\">\n",
       "<!--\n",
       "var redirect = \"https://tw.rd.yahoo.com/referurl/stock/other\";\n",
       "function stkClearMe(control)\n",
       "{\n",
       " control.value = '';\n",
       " control.style.color = \"black\";\n",
       "}\n",
       "function stkRestore(control, str)\n",
       "{\n",
       " if (control.value == '') {control.value = str; control.style.color = \"#a8a8a8\";};\n",
       "}\n",
       "function stockmenu_submit (form)\n",
       "{\n",
       " if (form.stock_id.value == '輸入台股代號/名稱')\n",
       " {\n",
       " return false;\n",
       " }\n",
       " form.submit();\n",
       "}\n",
       "//-->\n",
       "</script>\n",
       "<link href=\"https://s.yimg.com/nb/tw_stock_frontend/scripts/StockNavSearchBar/stockNavSearchBar-style_b156d00e.css\" rel=\"stylesheet\"/>\n",
       "<div id=\"stockNavSearchBar\" style=\"width: 750px\"> <nav id=\"ystkglonav\">\n",
       "<ul class=\"desktopNav\">\n",
       "<li class=\"parent\"><a class=\"navLink\" href=\"https://tw.stock.yahoo.com/\">首頁</a></li><li class=\"parent\"><a class=\"navLink\" href=\"https://tw.stock.yahoo.com/pf/mypf\">投資組合</a></li><li class=\"parent\"><a class=\"navLink current\" href=\"https://tw.stock.yahoo.com/h/getclass.php\">當日行情</a><ul class=\"child\"><li><a class=\"dropLink\" href=\"https://tw.stock.yahoo.com/d/i/major.html\">法人進出</a></li><li><a class=\"dropLink\" href=\"https://tw.stock.yahoo.com/d/i/cap.html\">成交比重</a></li><li><a class=\"dropLink\" href=\"https://tw.stock.yahoo.com/d/i/credit.html\">資券餘額</a></li><li><a class=\"dropLink\" href=\"https://tw.stock.yahoo.com/d/i/hot.html\">熱門排行</a></li></ul></li><li class=\"parent\"><a class=\"navLink\" href=\"https://tw.stock.yahoo.com/s/tse.php\">大盤</a></li><li class=\"parent\"><a class=\"navLink\" href=\"https://tw.stock.yahoo.com/s/nine.php\">類股</a></li><li class=\"parent\"><a class=\"navLink\" href=\"https://tw.stock.yahoo.com/future/\">期權</a><ul class=\"child\"><li><a class=\"dropLink\" href=\"https://tw.stock.yahoo.com/future/futures.html?fumr=futurefull\">台指期貨</a></li><li><a class=\"dropLink\" href=\"https://tw.stock.yahoo.com/future/options.html?opmr=optionfull&amp;opcm=WTXO&amp;opym=202008\">指數選擇權</a></li><li><a class=\"dropLink\" href=\"https://tw.stock.yahoo.com/future/futures_uncovered.html\">未平倉數</a></li></ul></li><li class=\"parent\"><a class=\"navLink\" href=\"https://tw.stock.yahoo.com/hkcn/\">港滬深股</a></li><li class=\"parent\"><a class=\"navLink\" href=\"https://tw.stock.yahoo.com/us/\">美股</a></li><li class=\"parent\">\n",
       "<a class=\"navLink\" href=\"https://tw.stock.yahoo.com/markets\">\n",
       "        國際金融<img src=\"https://s.yimg.com/cv/apiv2/twstock/nav-beta.png\" style=\"width: 16px;height: 16px;\"/>\n",
       "</a>\n",
       "<ul class=\"child\"><li><a class=\"dropLink\" href=\"https://tw.stock.yahoo.com/world-indices\">國際指數</a></li><li><a class=\"dropLink\" href=\"https://tw.stock.yahoo.com/currencies\">外匯</a></li><li><a class=\"dropLink\" href=\"https://tw.stock.yahoo.com/us-market\">美股</a></li><li><a class=\"dropLink\" href=\"https://tw.stock.yahoo.com/hk-market\">港股</a></li><li><a class=\"dropLink\" href=\"https://tw.stock.yahoo.com/cn-market\">滬深股</a></li><li><a class=\"dropLink\" href=\"https://tw.stock.yahoo.com/commodities\">原物料</a></li><li><a class=\"dropLink\" href=\"https://tw.stock.yahoo.com/adr\">ADR</a></li><li><a class=\"dropLink\" href=\"https://tw.stock.yahoo.com/cryptocurrencies\">加密貨幣</a></li></ul>\n",
       "</li><li class=\"parent\"><a class=\"navLink\" href=\"https://tw.stock.yahoo.com/news\">新聞</a><ul class=\"child\"><li><a class=\"dropLink\" href=\"https://tw.tv.yahoo.com/stock-watch/\">五分鐘看台股</a></li><li><a class=\"dropLink\" href=\"https://tw.stock.yahoo.com/tw-market\">台股盤勢</a></li><li><a class=\"dropLink\" href=\"https://tw.stock.yahoo.com/intl-markets\">國際財經</a></li><li><a class=\"dropLink\" href=\"https://tw.stock.yahoo.com/funds-news\">基金動態</a></li><li><a class=\"dropLink\" href=\"https://tw.stock.yahoo.com/research\">研究報告</a></li><li><a class=\"dropLink\" href=\"https://tw.stock.yahoo.com/personal-finance\">小資理財</a></li><li><a class=\"dropLink\" href=\"https://tw.stock.yahoo.com/column\">專家專欄</a></li></ul></li><li class=\"parent\"><a class=\"navLink\" href=\"https://tw.screener.finance.yahoo.net/screener/basic.html\">選股</a></li><li class=\"parent\"><a class=\"navLink\" href=\"https://tw.money.yahoo.com/\">理財</a><ul class=\"child\"><li><a class=\"dropLink\" href=\"https://tw.money.yahoo.com/fund\">基金</a></li><li><a class=\"dropLink\" href=\"https://tw.money.yahoo.com/currency-converter\">匯率換算</a></li><li><a class=\"dropLink\" href=\"https://tw.stock.yahoo.com/author/----20120619-091951\">Y投資風向球</a></li><li><a class=\"dropLink\" href=\"https://tw.stock.yahoo.com/author/%E6%9D%8E%E5%85%B6%E5%B1%95/\">外匯致勝兵法</a></li></ul></li> </ul>\n",
       "</nav>\n",
       "<div id=\"stockSearchBar\">\n",
       "<div class=\"barContainer\" style=\"display: inline-table\">\n",
       "<form action=\"https://tw.stock.yahoo.com/h/stockmenu.php\" name=\"menu\" style=\"display: inline; margin: 0; margin-block-end: 0\">\n",
       "<div class=\"searchInput\" style=\"background: #fff;\">\n",
       "<img id=\"searchIcon\" src=\"https://s.yimg.com/cv/apiv2/twstock/icon-search.png\" srcset=\"https://s.yimg.com/cv/apiv2/twstock/icon-search@2x.png 2x, https://s.yimg.com/cv/apiv2/twstock/icon-search@3x.png 3x\" width=\"16px\">\n",
       "<input id=\"stock_id\" name=\"stock_id\" placeholder=\"搜尋台股美股代號/名稱\" type=\"text\"/>\n",
       "<img id=\"closeBtn\" src=\"https://s.yimg.com/cv/apiv2/twstock/cancel.png\" srcset=\"https://s.yimg.com/cv/apiv2/twstock/cancel@2x.png 2x, https://s.yimg.com/cv/apiv2/twstock/cancel@3x.png 3x\" style=\"cursor: pointer; display: none\"/>\n",
       "</img></div>\n",
       "</form>\n",
       "<div class=\"stockSearch\">\n",
       "<a href=\"javascript:open_win('/h/kimosel.php','menu','stock_id','stock_name')\">\n",
       "<img src=\"https://s.yimg.com/cv/apiv2/twstock/stock-list_1543909743394.png\" srcset=\"https://s.yimg.com/cv/apiv2/twstock/stock-list@2x_1543909743407.png 2x, https://s.yimg.com/cv/apiv2/twstock/stock-list@3x_1543909743401.png 3x\"/>\n",
       "<span>台股代號查詢</span>\n",
       "</a>\n",
       "</div>\n",
       "<div class=\"stockInfos\"><span id=\"marketTimeCountDown\">距離美股開盤還有3小時41分鐘</span><a href=\"javascript:window.location.reload();\">更新</a></div> </div>\n",
       "</div>\n",
       "</div>\n",
       "<script charset=\"UTF-8\" type=\"text/javascript\">\n",
       "    function submitStockMenuForm(symbol) {\n",
       "        var stockForm = document.querySelector('#stockSearchBar .barContainer').children[0];\n",
       "        stockForm.stock_id.value = symbol;\n",
       "        stockForm.submit();\n",
       "    }\n",
       "    var stockInput = document.querySelector('#stockSearchBar #stock_id');\n",
       "    var closeBtn = document.querySelector('#stockSearchBar #closeBtn');\n",
       "    stockInput.addEventListener('input', function(e) {\n",
       "        if (stockInput.value.length) {\n",
       "            closeBtn.style.display= \"block\"\n",
       "        } else {\n",
       "            closeBtn.style.display= \"none\"\n",
       "        }\n",
       "    });\n",
       "    closeBtn.addEventListener('click', function() {\n",
       "        stockInput.value = '';\n",
       "        closeBtn.style.display= \"none\"\n",
       "    });\n",
       "\n",
       "    var marketTimeCountDownElem = document.getElementById('marketTimeCountDown');\n",
       "    var countDownText = marketTimeCountDownElem.innerText;\n",
       "    var time = countDownText.match(/\\d+/g);\n",
       "\n",
       "    if (time.length === 2) {\n",
       "        var expires = new Date();\n",
       "        expires.setHours(expires.getHours() + parseInt(time[0]));\n",
       "        expires.setMinutes(expires.getMinutes() + parseInt(time[1]));\n",
       "        var expiresTime = expires.getTime();\n",
       "\n",
       "        var countdownTimer = setInterval(function() {\n",
       "            var now = new Date().getTime();\n",
       "            var distance = parseInt((expiresTime - now) / 1000);\n",
       "            if (distance > 0) {\n",
       "                var hours = parseInt(distance / 3600);\n",
       "                distance = (distance % 3600);\n",
       "                var minutes = parseInt(distance / 60);\n",
       "                var template = countDownText.replace(/\\d+/g, \"{{timeSlot}}\");\n",
       "                template = hours === 0 ? template.replace('{{timeSlot}}小時', '') : template.replace('{{timeSlot}}', hours);\n",
       "                template = minutes === 0 ? template.replace('{{timeSlot}}分鐘', '') : template.replace('{{timeSlot}}', minutes);\n",
       "                marketTimeCountDownElem.innerHTML = template;\n",
       "            } else {\n",
       "                clearInterval(countdownTimer);\n",
       "                marketTimeCountDownElem.innerHTML = '';\n",
       "            }\n",
       "        }, 30000);\n",
       "    }\n",
       "</script>\n",
       "<script charset=\"UTF-8\" defer=\"\" src=\"https://s.yimg.com/nb/tw_stock_frontend/scripts/StockNavSearchBar/autocomplete-bar.110ec17d.bundle.js\" type=\"text/javascript\"></script>\n",
       "<script language=\"javascript\">\n",
       "\t\t<!--\n",
       "                document.menu.stock_id.value=\"2330\";\n",
       "\n",
       "\t\t//-->\n",
       "\t</script>\n",
       "<br/>\n",
       "<table border=\"0\" cellpadding=\"1\" cellspacing=\"0\" width=\"750\">\n",
       "<tr bgcolor=\"#FFF0C1\">\n",
       "<td align=\"left\" width=\"540\">\n",
       "\t     \n",
       "\t</td>\n",
       "<td align=\"right\" width=\"160\"><font class=\"tt\" color=\"#3333FF\">　資料日期: 109/08/31</font></td>\n",
       "</tr>\n",
       "</table>\n",
       "<table border=\"0\" cellpadding=\"0\" cellspacing=\"0\" width=\"750\">\n",
       "<tr>\n",
       "<td>\n",
       "<table border=\"2\" width=\"750\">\n",
       "<tr bgcolor=\"#fff0c1\">\n",
       "<th align=\"center\">股票<br/>代號</th>\n",
       "<th align=\"center\" width=\"55\">時間</th>\n",
       "<th align=\"center\" width=\"55\">成交</th>\n",
       "<th align=\"center\" width=\"55\">買進</th>\n",
       "<th align=\"center\" width=\"55\">賣出</th>\n",
       "<th align=\"center\" width=\"55\">漲跌</th>\n",
       "<th align=\"center\" width=\"55\">張數</th>\n",
       "<th align=\"center\" width=\"55\">昨收</th>\n",
       "<th align=\"center\" width=\"55\">開盤</th>\n",
       "<th align=\"center\" width=\"55\">最高</th>\n",
       "<th align=\"center\" width=\"55\">最低</th>\n",
       "<th align=\"center\">個股資料</th>\n",
       "</tr>\n",
       "<tr>\n",
       "<td align=\"center\" width=\"105\"><a href=\"/q/bc?s=2330\">2330台積電</a><br/><a href=\"/pf/pfsel?stocklist=2330;\"><font size=\"-1\">加到投資組合</font><br/></a></td>\n",
       "<td align=\"center\" bgcolor=\"#FFFfff\" nowrap=\"\">14:30</td>\n",
       "<td align=\"center\" bgcolor=\"#FFFfff\" nowrap=\"\"><b>426.5</b></td>\n",
       "<td align=\"center\" bgcolor=\"#FFFfff\" nowrap=\"\">426.5</td>\n",
       "<td align=\"center\" bgcolor=\"#FFFfff\" nowrap=\"\">427.0</td>\n",
       "<td align=\"center\" bgcolor=\"#FFFfff\" nowrap=\"\"><font color=\"#009900\">▽8.5\n",
       "                <td align=\"center\" bgcolor=\"#FFFfff\" nowrap=\"\">81,232</td>\n",
       "<td align=\"center\" bgcolor=\"#FFFfff\" nowrap=\"\">435.0</td>\n",
       "<td align=\"center\" bgcolor=\"#FFFfff\" nowrap=\"\">437.0</td>\n",
       "<td align=\"center\" bgcolor=\"#FFFfff\" nowrap=\"\">439.5</td>\n",
       "<td align=\"center\" bgcolor=\"#FFFfff\" nowrap=\"\">426.5</td>\n",
       "<td align=\"center\" class=\"tt\" width=\"137\">\n",
       "<a href=\"/q/ts?s=2330\">成交彙整</a><br/><a href=\"/q/ta?s=2330\">技術</a>　<a href=\"/q/h?s=2330\">新聞</a><a href=\"/d/s/company_2330.html\"><br/>基本</a>　<a href=\"/d/s/credit_2330.html\">籌碼</a><a href=\"https://tw.rd.yahoo.com/referurl/stock/other/SIG=125v47s73/**https://tw.screener.finance.yahoo.net/screener/check.html?symid=2330\" style=\"color:red\" target=\"_blank\"><br/>個股健診</a></td></font></td> </tr>\n",
       "</table>\n",
       "</td>\n",
       "</tr>\n",
       "</table>\n",
       "<br/>\n",
       "<div class=\"addendum\"></div></center></body></html>\n",
       "<div class=\"news\" id=\"researchNews\">\n",
       "<div class=\"hd\">\n",
       "<label class=\"stock\">個股新聞與研究報告</label>\n",
       "<span class=\"more\"><a data-ylk=\"slk:more;itc:0;sec:symbol-news;elm:itm;elmt:link\" href=\"https://tw.stock.yahoo.com/q/h?s=2330\">» 更多</a></span>\n",
       "</div>\n",
       "<div class=\"bd quote\">\n",
       "<ul>\n",
       "<li>\n",
       "<a data-ylk=\"itc:0;sec:symbol-news;elm:hdln;elmt:ct;g:bdf0bc61-6743-3587-8241-520b4c798b8f\" href=\"/news/%E5%8F%B0%E7%A9%8D%E9%9B%BB%E9%98%B2%E5%A0%B5%E5%93%81%E8%B3%AA%E7%95%B0%E5%B8%B8%E9%A2%A8%E9%9A%AA-%E5%89%B5%E9%80%A028%E5%84%84%E5%85%83%E6%BD%9B%E5%9C%A8%E5%88%A9%E7%9B%8A-073644790.html\">台積電防堵品質異常風險 創造28億元潛在利益</a>\n",
       "<span class=\"meta\">(鉅亨網 2020/08/31 15:36)</span>\n",
       "</li> <li>\n",
       "<a data-ylk=\"itc:0;sec:symbol-news;elm:hdln;elmt:ct;g:f9a8c145-2288-38f2-a563-e2c28d5b42a1\" href=\"/news/%E5%8D%8A%E5%B0%8E%E9%AB%94-%E5%8F%B0%E7%A9%8D%E9%9B%BB%E9%BC%93%E5%8B%B5%E5%93%A1%E5%B7%A5%E4%B8%BB%E5%8B%95%E9%98%B2%E5%A0%B5%E9%A2%A8%E9%9A%AA-%E5%B7%B2%E5%89%B528%E5%84%84%E5%85%83%E6%BD%9B%E5%9C%A8%E6%95%88%E7%9B%8A-041522202.html\">《半導體》台積電鼓勵員工主動防堵風險 已創28億元潛在效益</a>\n",
       "<span class=\"meta\">(時報資訊 2020/08/31 12:15)</span>\n",
       "</li> <li>\n",
       "<a data-ylk=\"itc:0;sec:symbol-news;elm:hdln;elmt:ct;g:0930fc01-c03b-37ce-98af-0b6ee7a662af\" href=\"/news/%E5%8F%B0%E7%A9%8D%E9%9B%BB%E6%93%B4%E5%A4%A7%E5%8D%8A%E5%B0%8E%E9%AB%94%E5%AD%B8%E7%A8%8B-%E9%99%8D%E4%BD%8E%E7%94%A2%E5%AD%B8%E8%90%BD%E5%B7%AE-030535530.html\">台積電擴大半導體學程 降低產學落差</a>\n",
       "<span class=\"meta\">(中央社 2020/08/31 11:05)</span>\n",
       "</li> <li>\n",
       "<a data-ylk=\"itc:0;sec:symbol-news;elm:hdln;elmt:ct;g:095ec1a9-c9bd-3cb9-9b09-1e95552b0b77\" href=\"/news/%E5%8D%8A%E5%B0%8E%E9%AB%94-%E5%8F%B0%E7%A9%8D%E9%9B%BB%E9%96%8B%E9%AB%98%E5%A3%93%E5%9B%9E-%E4%B8%8A%E5%91%A8%E5%A4%96%E8%B3%87%E5%80%92%E8%B2%A8-023514432.html\">《半導體》台積電開高壓回 上周外資倒貨</a>\n",
       "<span class=\"meta\">(時報資訊 2020/08/31 10:35)</span>\n",
       "</li> </ul>\n",
       "</div>\n",
       "<div class=\"ft\">\n",
       "</div>\n",
       "</div>\n",
       "<div class=\"ad\">\n",
       "<div class=\"hd\">廣告</div>\n",
       "<div class=\"bd\">\n",
       "<div id=\"boxLREC\"><div id=\"tgtLREC\"></div></div> </div>\n",
       "</div>\n",
       " <p>\n",
       "<table border=\"0\" cellpadding=\"0\" cellspacing=\"0\" width=\"750\">\n",
       "<tr><td>\n",
       "<!--START:YSM CM MODULE-->\n",
       "<link href=\"https://s.yimg.com/ud/others/stock/ysm_gemini_q_v1.css\" rel=\"stylesheet\" type=\"text/css\"/>\n",
       "<link href=\"https://s.yimg.com/f/i/tw/ysm/hybrid/hybrid_stock02_big5.css\" rel=\"stylesheet\" type=\"text/css\"/>\n",
       "<div id=\"ysmcm\" style=\"display: block;\">\n",
       "<div class=\"cont\">\n",
       "<table border=\"0\" cellpadding=\"0\" cellspacing=\"0\" class=\"kw\" width=\"100%\">\n",
       "<tbody>\n",
       "<tr>\n",
       "<td width=\"100\">相關贊助網站</td>\n",
       "<td align=\"right\">\n",
       "</td>\n",
       "</tr>\n",
       "</tbody>\n",
       "</table>\n",
       "</div>\n",
       "</div>\n",
       "<!--END:YSM CM MODULE-->\n",
       "</td></tr></table>\n",
       "</p>\n",
       "<!-- jurisdiction headers --><!-- x-jurisdiction-type : WORLD -->\n",
       "<!-- Begin comScore Tag -->\n",
       "<script>\n",
       "  window.__adlib.fireComscoreBeacon({\n",
       "    c1: \"2\",\n",
       "    c2: \"7241469\",\n",
       "    c5: \"152958415\",\n",
       "    c7: \"https%3A%2F%2Ftw.stock.yahoo.com%252fq%252fq%253fs%253d2330\"\n",
       "  });\n",
       "\n",
       "  YUI().use('node',function(Y){\n",
       "    if(Y.one('#yuhead-sform-searchfield')){\n",
       "      Y.one('#yuhead-sform-searchfield').set('value',document.getElementById('yuhead-sform-searchfield').getAttribute(\"data-sh\"));\n",
       "    }\n",
       "  })\n",
       "</script>\n",
       "<noscript><img alt=\"\" height=\"1\" src=\"https://sb.scorecardresearch.com/p?c1=2&amp;c2=7241469&amp;c7=https%3A%2F%2Ftw.stock.yahoo.com%252fq%252fq%253fs%253d2330&amp;c5=152958415&amp;cv=2.0&amp;cj=1\" width=\"1\"/></noscript>\n",
       "<!-- End comScore Tag -->\n",
       "<table align=\"center\" border=\"0\" cellpadding=\"0\" cellspacing=\"0\" width=\"750\">\n",
       "<tr>\n",
       "<td height=\"90\" valign=\"bottom\">\n",
       "<div id=\"yhtw_mastfoot\">\n",
       "<div class=\"ln\">Yahoo Finance \n",
       "<a href=\"https://policies.yahoo.com/tw/zh-hant/yahoo/terms/utos/\">服務條款</a>\n",
       "<a href=\"https://policies.yahoo.com/tw/zh-hant/yahoo/privacy/\">隱私權</a>\n",
       "</div>\n",
       "<div class=\"other\">\n",
       "<p>台股資料來源<a href=\"http://www.tse.com.tw/zh/\" target=\"_blank\">臺灣證券交易所</a>、<a href=\"http://www.taifex.com.tw\" target=\"_blank\">臺灣期貨交易所</a>及<a href=\"http://www.tpex.org.tw/web/\" target=\"_blank\">財團法人中華民國證券櫃檯買賣中心</a>。國際股市資料來源請參考<a href=\"https://help.yahoo.com/kb/finance-for-desktop/SLN2310.html\" target=\"_blank\">Yahoo Finance</a>。使用Yahoo奇摩股市服務前，請您詳閱相關<a href=\"https://tw.help.yahoo.com/kb/stock-tw-web/SLN28774.html?impressions=true\" target=\"_blank\">使用規範與聲明</a>。</p>\n",
       "</div>\n",
       "</div>\n",
       "</td>\n",
       "</tr>\n",
       "</table>\n",
       "<script type=\"application/javascript\">(function(w,d,t,r,u){w[u]=w[u]||[];w[u].push({'projectId':'10000','properties':{'pixelId':'428726','qstrings':{'country':'tw', 'property':'stock', 'tag':''}}});var s=d.createElement(t);s.src=r;s.async=true;s.onload=s.onreadystatechange=function(){var y,rs=this.readyState,c=w[u];if(rs&&rs!=\"complete\"&&rs!=\"loaded\"){return}try{y=YAHOO.ywa.I13N.fireBeacon;w[u]=[];w[u].push=function(p){y([p])};y(c)}catch(e){}};var scr=d.getElementsByTagName(t)[0],par=scr.parentNode;par.insertBefore(s,scr)})(window,document,\"script\",\"https://s.yimg.com/wi/ytc.js\",\"dotq\");</script>\n",
       "<noscript>\n",
       "<img height=\"1\" src=\"https://geo.yahoo.com/b?s=152958415\" width=\"1\"/>\n",
       "</noscript>\n",
       "\n",
       "<script src=\"https://s.yimg.com/f/i/tw/mb/universal_header/uh_tw_v11.js\" type=\"text/javascript\"></script>\n",
       "<script type=\"text/javascript\">\n",
       "       if (window.DARLA && window.DARLA_CONFIG) {\n",
       "          DARLA.config(DARLA_CONFIG);\n",
       "          DARLA.event( \"AUTO\" );\n",
       "       }\n",
       "\n",
       "     </script>\n",
       "<script>\n",
       " var tracked_mods = {\n",
       "     'researchNews': 'symbol-news'\n",
       " };\n",
       " stockSiteRapid.addModules(tracked_mods);\n",
       "</script>\n",
       "<!-- Gemini Ads Beacon -->\n",
       "<script type=\"text/javascript\">\n",
       "</script>\n",
       "\n",
       "<!-- w228.finance.tp2.yahoo.com Mon Aug 31 09:48:09 UTC 2020 -->"
      ]
     },
     "execution_count": 24,
     "metadata": {},
     "output_type": "execute_result"
    }
   ],
   "source": [
    "html = BeautifulSoup(res.text, \"html.parser\") #html.parser將複雜字串變成html的形式\n",
    "html"
   ]
  },
  {
   "cell_type": "code",
   "execution_count": 44,
   "metadata": {},
   "outputs": [
    {
     "data": {
      "text/plain": [
       "435.0"
      ]
     },
     "execution_count": 44,
     "metadata": {},
     "output_type": "execute_result"
    }
   ],
   "source": [
    "table = html.findAll(\"table\", { \"border\" : \"2\"})[0]\n",
    "table.findAll(\"tr\") #搜尋table底下所有的tr標籤\n",
    "table_row = table.findAll(\"tr\")[1]\n",
    "tds = table_row.findAll(\"td\")\n",
    "last_close = float(tds[7].text)\n",
    "last_close"
   ]
  },
  {
   "cell_type": "code",
   "execution_count": 46,
   "metadata": {},
   "outputs": [
    {
     "data": {
      "text/plain": [
       "(437.0, 439.5, 426.5, 426.5)"
      ]
     },
     "execution_count": 46,
     "metadata": {},
     "output_type": "execute_result"
    }
   ],
   "source": [
    "open_price = float(tds[8].text)\n",
    "high_price = float(tds[9].text)\n",
    "low_price = float(tds[10].text)\n",
    "close_price = float(tds[2].text)\n",
    "\n",
    "open_price, high_price, low_price, close_price"
   ]
  },
  {
   "cell_type": "markdown",
   "metadata": {
    "colab_type": "text",
    "id": "TNIIkoriNP9C"
   },
   "source": [
    "# 問題是找到有用的資料如同大海撈針...\n",
    "\n",
    "---\n",
    "## 分析一下我們要爬的網頁\n",
    "\n",
    "收盤價是被封裝在一個 **table** 標籤内部的一個 **td** 標籤\n",
    "\n",
    "\n",
    "---\n",
    "## table 標籤\n",
    "\n",
    "一般網頁若要呈現重要的資訊，都會將資訊以網頁表格的形式呈現\n",
    "\n",
    "今天若要利用 **html** 實作網頁上的表格，需要名爲 **table** 的標籤\n",
    "\n",
    "換句話説，今天網頁上我們有興趣的資料，十之八九都是被封裝在 **table** 底下\n",
    "\n",
    "把 **table** 的結構搞懂，就成了一件重要的事情。\n",
    "\n",
    "---\n",
    "# html table 標籤的結構\n",
    "\n",
    "網頁上的資料大多都是匯整在表格、而 html 的表格則是由 table 標籤構成的：\n",
    "\n",
    "![](https://drive.google.com/uc?export=download&id=1dmYx5qOD21tPWHATzIm6IxDnfO96sUac)\n",
    "\n",
    "該 **table** 標籤内有兩個 **tr** 標籤\n",
    "\n",
    "第二個 tr 標籤内的第八個 td 標簽是我們要的收盤價\n",
    "\n",
    "![](https://drive.google.com/uc?export=download&id=109M71HQtR-kfZMklVit7AZRpIH4zhfe_)\n",
    "\n",
    "---\n",
    "# html 標簽的關聯\n",
    "\n",
    "簡單來説，就是一個樹狀圖的概念：\n",
    "\n",
    "![](https://drive.google.com/uc?export=download&id=1n2yZlQtj7EK2_NNIBXvEVGeEKBogfgYZ)\n",
    "\n",
    "---\n",
    "# 延申閲讀\n",
    "\n",
    "HTML Table 教學\n",
    "\n",
    "w3 school： [連結](https://www.w3schools.com/html/html_tables.asp)\n",
    "\n",
    "Mozilla：[連結](https://developer.mozilla.org/zh-TW/docs/Web/HTML/Element/table)\n",
    "\n",
    "---"
   ]
  },
  {
   "cell_type": "markdown",
   "metadata": {
    "colab_type": "text",
    "id": "sFh0F2spNP9D"
   },
   "source": [
    "## 開始實作台股爬蟲\n",
    "\n",
    "```python\n",
    "from bs4 import BeautifulSoup\n",
    "import requests\n",
    "\n",
    "res = requests.get('https://tw.stock.yahoo.com/q/q?s=2330')\n",
    "html = BeautifulSoup(res.text, 'html.parser')\n",
    "# 搜尋整個網頁裡的 table 標籤，將所有的表格讀取出來\n",
    "html.findAll(\"table\")\n",
    "# 我們就發現網頁内有多個 table...\n",
    "```"
   ]
  },
  {
   "cell_type": "code",
   "execution_count": null,
   "metadata": {
    "colab": {},
    "colab_type": "code",
    "id": "KBGjdatZNP9E"
   },
   "outputs": [],
   "source": []
  },
  {
   "cell_type": "markdown",
   "metadata": {
    "colab_type": "text",
    "id": "59hS4xnVaDCE"
   },
   "source": [
    "## 檢查所有搜尋到的 table\n",
    "\n",
    "仔細觀察一下，我們發現目標 table 的 **border** 屬性是被設定成 **2**\n",
    "\n",
    "因此我們可以將程式碼修改爲...\n",
    "\n",
    "```python\n",
    "table = html.findAll(\"table\", { \"border\": 2 })[0]\n",
    "table\n",
    "```"
   ]
  },
  {
   "cell_type": "code",
   "execution_count": null,
   "metadata": {
    "colab": {},
    "colab_type": "code",
    "id": "KUQ9ViEONP9H"
   },
   "outputs": [],
   "source": []
  },
  {
   "cell_type": "markdown",
   "metadata": {
    "colab_type": "text",
    "id": "-lsT3W1eaDCJ"
   },
   "source": [
    "## 找尋 table 裡第二個 tr 標籤內所有的 td 標籤\n",
    "\n",
    "```python\n",
    "table_row = table.findAll(\"tr\")[1]\n",
    "tds = table_row.findAll(\"td\")\n",
    "tds\n",
    "```"
   ]
  },
  {
   "cell_type": "code",
   "execution_count": null,
   "metadata": {
    "colab": {},
    "colab_type": "code",
    "id": "W3vcd7soaDCK"
   },
   "outputs": [],
   "source": []
  },
  {
   "cell_type": "markdown",
   "metadata": {
    "colab_type": "text",
    "id": "a6onuMQwaDCQ"
   },
   "source": [
    "## 讀取出昨日收盤價\n",
    "\n",
    "```python\n",
    "last_close = tds[7].text\n",
    "print(f\"台積電今日收盤價：${last_close}\")\n",
    "```"
   ]
  },
  {
   "cell_type": "code",
   "execution_count": null,
   "metadata": {
    "colab": {},
    "colab_type": "code",
    "id": "4KSpFBzTaDCS"
   },
   "outputs": [],
   "source": []
  },
  {
   "cell_type": "markdown",
   "metadata": {
    "colab_type": "text",
    "id": "BSeetJ4YaDCV"
   },
   "source": [
    "## 完成版網頁爬蟲\n",
    "\n",
    "```python\n",
    "from bs4 import BeautifulSoup\n",
    "import requests\n",
    "\n",
    "res = requests.get('https://tw.stock.yahoo.com/q/q?s=2330')\n",
    "html = BeautifulSoup(res.text, 'html.parser')\n",
    "table = html.findAll(\"table\", { \"border\": 2 })[0]\n",
    "# 找尋 table 裡第二個 tr 標籤內所有的 td 標籤\n",
    "table_row = table.findAll(\"tr\")[1]\n",
    "tds = table_row.findAll(\"td\")\n",
    "# 選取該 row 第八個 td 標籤，擷取標籤內文字\n",
    "last_close = tds[7].text\n",
    "print(f\"台積電昨日收盤價：${last_close}\")\n",
    "```"
   ]
  },
  {
   "cell_type": "code",
   "execution_count": null,
   "metadata": {
    "colab": {},
    "colab_type": "code",
    "id": "xrGlPvDlNP9V"
   },
   "outputs": [],
   "source": []
  },
  {
   "cell_type": "markdown",
   "metadata": {
    "colab_type": "text",
    "id": "nHafy1EYNP9Y"
   },
   "source": [
    "## 解法二\n",
    "\n",
    "\n",
    "```python\n",
    "from bs4 import BeautifulSoup\n",
    "import requests\n",
    "\n",
    "doc = requests.get('https://tw.stock.yahoo.com/q/q?s=2330')\n",
    "html = BeautifulSoup(doc.text, 'html.parser')\n",
    "# 搜尋整個網頁裡，內容為 '個股資料' 的 html 標籤, 關聯到 table 最外層\n",
    "table = html.findAll(text='個股資料')[0].parent.parent.parent\n",
    "# 找尋 table 裡第二個 tr 標籤內所有的 td 標籤\n",
    "data_row = table.findAll('tr')[1].findAll('td')\n",
    "# 選取該 row 第八個 td 標籤，擷取標籤內文字\n",
    "last_price = data_row[7].text\n",
    "print(f\"台積電昨日收盤價：${last_close}\")\n",
    "```"
   ]
  },
  {
   "cell_type": "code",
   "execution_count": 49,
   "metadata": {
    "colab": {},
    "colab_type": "code",
    "id": "4Y9gY6DEaDCf"
   },
   "outputs": [
    {
     "data": {
      "text/plain": [
       "'個股資料'"
      ]
     },
     "execution_count": 49,
     "metadata": {},
     "output_type": "execute_result"
    }
   ],
   "source": [
    "txt = html.findAll(text = \"個股資料\")[0]\n",
    "txt"
   ]
  },
  {
   "cell_type": "code",
   "execution_count": 63,
   "metadata": {},
   "outputs": [
    {
     "data": {
      "text/plain": [
       "435.0"
      ]
     },
     "execution_count": 63,
     "metadata": {},
     "output_type": "execute_result"
    }
   ],
   "source": [
    "table = txt.parent.parent.parent\n",
    "table_row = table.findAll(\"tr\")[1]\n",
    "tds = table_row.findAll(\"td\")\n",
    "last_close = float(tds[7].text)\n",
    "last_close "
   ]
  },
  {
   "cell_type": "markdown",
   "metadata": {
    "colab_type": "text",
    "id": "z74jEMrYNP9a"
   },
   "source": [
    "## 解法三...\n",
    "\n",
    "![](https://drive.google.com/uc?export=download&id=1IJp5dze4stcwni0FNs2ThIjzYM_vYp4o)\n",
    "\n",
    "注意 **tt** 是一個獨特的 css class，而 **tt** 只有被套用在最後一個 **td** 標籤上\n",
    "\n",
    "```python\n",
    "from bs4 import BeautifulSoup\n",
    "import requests\n",
    "\n",
    "doc = requests.get('https://tw.stock.yahoo.com/q/q?s=2330')\n",
    "html = BeautifulSoup(doc.text, 'html.parser')\n",
    "# 尋找 class 屬性為 tt 的 td 標籤\n",
    "last_td = html.find(\"td\", {\"class\": \"tt\"})\n",
    "# find_previous_sibling('td') 代表尋找前一個 (左邊) td 標籤\n",
    "last_close = last_td.find_previous_sibling('td').find_previous_sibling('td').find_previous_sibling('td').find_previous_sibling('td').text\n",
    "print(f\"台積電昨日收盤價：${last_close}\")\n",
    "```"
   ]
  },
  {
   "cell_type": "code",
   "execution_count": 67,
   "metadata": {
    "colab": {},
    "colab_type": "code",
    "id": "T83NABz0NP9b"
   },
   "outputs": [
    {
     "data": {
      "text/plain": [
       "<td align=\"center\" class=\"tt\" width=\"137\">\n",
       "<a href=\"/q/ts?s=2330\">成交彙整</a><br/><a href=\"/q/ta?s=2330\">技術</a>　<a href=\"/q/h?s=2330\">新聞</a><a href=\"/d/s/company_2330.html\"><br/>基本</a>　<a href=\"/d/s/credit_2330.html\">籌碼</a><a href=\"https://tw.rd.yahoo.com/referurl/stock/other/SIG=125v47s73/**https://tw.screener.finance.yahoo.net/screener/check.html?symid=2330\" style=\"color:red\" target=\"_blank\"><br/>個股健診</a></td>"
      ]
     },
     "execution_count": 67,
     "metadata": {},
     "output_type": "execute_result"
    }
   ],
   "source": [
    "last_td = html.findAll(\"td\", {\"class\" : \"tt\"})[0]\n",
    "last_td"
   ]
  },
  {
   "cell_type": "code",
   "execution_count": 77,
   "metadata": {},
   "outputs": [
    {
     "data": {
      "text/plain": [
       "(426.5, 439.5, 437.0)"
      ]
     },
     "execution_count": 77,
     "metadata": {},
     "output_type": "execute_result"
    }
   ],
   "source": [
    "low_price = float(last_td.find_previous_sibling(\"td\").text)\n",
    "high_price = float(last_td.find_previous_sibling(\"td\").find_previous_sibling(\"td\").text)\n",
    "open_price = float(last_td.find_previous_sibling(\"td\").find_previous_sibling(\"td\").find_previous_sibling(\"td\").text)\n",
    "\n",
    "low_price, high_price, open_price"
   ]
  },
  {
   "cell_type": "code",
   "execution_count": 90,
   "metadata": {},
   "outputs": [],
   "source": [
    "#另一個姊妹功能 .find_next_sibling()"
   ]
  },
  {
   "cell_type": "code",
   "execution_count": 89,
   "metadata": {},
   "outputs": [
    {
     "data": {
      "text/plain": [
       "'14:30'"
      ]
     },
     "execution_count": 89,
     "metadata": {},
     "output_type": "execute_result"
    }
   ],
   "source": [
    "first_td = html.findAll(\"td\", { \"width\" : \"105\" })[0]\n",
    "first_td.find_next_sibling(\"td\").text"
   ]
  },
  {
   "cell_type": "markdown",
   "metadata": {
    "colab_type": "text",
    "id": "bPEdH8H-NP9g"
   },
   "source": [
    "## 隨堂練習\n",
    "\n",
    "請試試看從 Yahoo 股市網頁將 2330 的**開盤價、最高價、最低價**、以及**成交價**讀取出來：\n",
    "\n",
    "```python\n",
    "from bs4 import BeautifulSoup\n",
    "import requests\n",
    "\n",
    "res = requests.get('https://tw.stock.yahoo.com/q/q?s=2330')\n",
    "html = BeautifulSoup(res.text, 'html.parser')\n",
    "table = html.findAll(\"table\", { \"border\": 2 })[0]\n",
    "# 找尋 table 裡第二個 tr 標籤內所有的 td 標籤\n",
    "table_row = table.findAll(\"tr\")[1]\n",
    "tds = table_row.findAll(\"td\")\n",
    "# 選取該 row 第八個 td 標籤，擷取標籤內文字\n",
    "last_close = tds[7].text\n",
    "open_price = ________________\n",
    "high_price = ________________\n",
    "low_price = ________________\n",
    "close_price = ________________\n",
    "```"
   ]
  },
  {
   "cell_type": "code",
   "execution_count": null,
   "metadata": {
    "colab": {},
    "colab_type": "code",
    "id": "zlFWh49oNP9g"
   },
   "outputs": [],
   "source": []
  },
  {
   "cell_type": "markdown",
   "metadata": {
    "colab_type": "text",
    "id": "lvX3ORI1NP9i"
   },
   "source": [
    "## 將結果寫入 Excel\n",
    "\n",
    "用 xlwings 開啓 **stock_price_data.xlsx**：\n",
    "\n",
    "```python\n",
    "import xlwings as xw\n",
    "import time\n",
    "\n",
    "wb = xw.Book(r\"stock_price_data.xlsx\")\n",
    "sheet = wb.sheets[\"2330\"]\n",
    "```\n",
    "\n",
    "偵測最後一個 row:\n",
    "\n",
    "```python\n",
    "last_row = sheet.range(\"A1\").end(\"down\").row\n",
    "last_row\n",
    "```"
   ]
  },
  {
   "cell_type": "code",
   "execution_count": 92,
   "metadata": {
    "colab": {},
    "colab_type": "code",
    "id": "zcThVQ8XNP9j"
   },
   "outputs": [
    {
     "data": {
      "text/plain": [
       "<Book [stock_price_data.xlsx]>"
      ]
     },
     "execution_count": 92,
     "metadata": {},
     "output_type": "execute_result"
    }
   ],
   "source": [
    "import xlwings as xw\n",
    "\n",
    "wb = xw.Book(r\"stock_price_data.xlsx\")\n",
    "wb"
   ]
  },
  {
   "cell_type": "code",
   "execution_count": 93,
   "metadata": {},
   "outputs": [
    {
     "data": {
      "text/plain": [
       "<Sheet [stock_price_data.xlsx]2330>"
      ]
     },
     "execution_count": 93,
     "metadata": {},
     "output_type": "execute_result"
    }
   ],
   "source": [
    "sheet = wb.sheets[\"2330\"]\n",
    "sheet"
   ]
  },
  {
   "cell_type": "code",
   "execution_count": 95,
   "metadata": {},
   "outputs": [],
   "source": [
    "sheet.range(\"B96\").value = close_price"
   ]
  },
  {
   "cell_type": "markdown",
   "metadata": {
    "colab_type": "text",
    "id": "TcvNEFsnNP9l"
   },
   "source": [
    "## 產生格式化的時間字串\n",
    "\n",
    "```python\n",
    "import time\n",
    "\n",
    "time.strftime(\"%Y/%m/%d\")\n",
    "```"
   ]
  },
  {
   "cell_type": "code",
   "execution_count": 98,
   "metadata": {
    "colab": {},
    "colab_type": "code",
    "id": "cb1Lg6kVNP9n"
   },
   "outputs": [
    {
     "data": {
      "text/plain": [
       "'2020/09/01'"
      ]
     },
     "execution_count": 98,
     "metadata": {},
     "output_type": "execute_result"
    }
   ],
   "source": [
    "import time\n",
    "\n",
    "time.strftime(\"%Y/%m/%d\")"
   ]
  },
  {
   "cell_type": "markdown",
   "metadata": {
    "colab_type": "text",
    "id": "W9FWOzKDaDC8"
   },
   "source": [
    "## 將時間與收盤價寫入 Excel \n",
    "\n",
    "```python\n",
    "sheet.range(f\"A{last_row+1}\").value = time.strftime(\"%Y/%m/%d\")\n",
    "sheet.range(f\"B{last_row+1}\").value = closing_price\n",
    "```"
   ]
  },
  {
   "cell_type": "code",
   "execution_count": 114,
   "metadata": {
    "colab": {},
    "colab_type": "code",
    "id": "9b8G_zA0aDC-"
   },
   "outputs": [],
   "source": [
    "last_row = sheet.range(\"A1\").end(\"down\").row\n",
    "sheet.range(f\"A{last_row + 1}\").value = time.strftime(\"%Y/%m/%d\")\n",
    "sheet.range(f\"B{last_row + 1}\").value = close_price"
   ]
  },
  {
   "cell_type": "markdown",
   "metadata": {
    "colab_type": "text",
    "id": "yGZboTzgNP9r"
   },
   "source": [
    "# 完成版程式碼"
   ]
  },
  {
   "cell_type": "code",
   "execution_count": null,
   "metadata": {
    "colab": {},
    "colab_type": "code",
    "id": "yQvsI2xYNP9v"
   },
   "outputs": [],
   "source": [
    "from bs4 import BeautifulSoup\n",
    "import requests\n",
    "import time\n",
    "import xlwings as xw\n",
    "# 截取台積電的資料 \n",
    "res = requests.get('https://tw.stock.yahoo.com/q/q?s=2330')\n",
    "html = BeautifulSoup(res.text, 'html.parser')\n",
    "table = html.findAll(\"table\", { \"border\": 2 })[0]\n",
    "table_row = table.findAll(\"tr\")[1]\n",
    "tds = table_row.findAll(\"td\")\n",
    "closing_close = tds[2].text\n",
    "# 將台積電資料寫入 Excel\n",
    "wb = xw.Book(r\"stock_price_data.xlsx\")\n",
    "date = time.strftime(\"%Y/%m/%d\")\n",
    "sheet = wb.sheets[\"TW2330\"]\n",
    "last_row = sheet.range(\"B1\").end(\"down\").row\n",
    "sheet.range(f\"B{last_row+1}\").value = closing_price\n",
    "sheet.range(f\"A{last_row+1}\").value = date"
   ]
  },
  {
   "cell_type": "markdown",
   "metadata": {
    "colab_type": "text",
    "id": "-tUUe7yTNP9y"
   },
   "source": [
    "# 小結：\n",
    "\n",
    "1. 學習與實作網頁爬蟲是一個**投資報酬率極高的事務**\n",
    "2. Python 語言由於使用者衆多，**與爬蟲相關的套件、解決方案、與教學也多，讓實作變得相對簡單**\n",
    "3. 實作上，最困難的部分在於**解析網頁的 html 結構**\n",
    "4. 網頁的資料很大的機率都是被封裝在 **table** 這個 html 標簽下\n",
    "5. 但若今天**網頁改版，原先寫好的爬蟲就有可能截取不到資料**"
   ]
  },
  {
   "cell_type": "markdown",
   "metadata": {
    "colab_type": "text",
    "id": "IwXBkvxCNP9z"
   },
   "source": [
    "# 功課：匯率爬蟲\n",
    "\n",
    "請寫一個網頁爬蟲，截取臺灣銀行牌告匯率網頁：\n",
    "\n",
    "http://rate.bot.com.tw/xrt?Lang=zh-TW\n",
    "\n",
    "\n",
    "並且將匯率資料用以下格式呈現在 Excel 内：\n",
    "![](https://drive.google.com/uc?export=download&id=1YCl-QcAJCW951AhosB3HhuV7Fwy3hjMZ)"
   ]
  },
  {
   "cell_type": "code",
   "execution_count": null,
   "metadata": {
    "colab": {},
    "colab_type": "code",
    "id": "ZUCCt1ObNP90"
   },
   "outputs": [],
   "source": []
  }
 ],
 "metadata": {
  "colab": {
   "collapsed_sections": [],
   "name": "Python 程式設計 第七課：網頁爬蟲.ipynb",
   "provenance": []
  },
  "kernelspec": {
   "display_name": "Python 3",
   "language": "python",
   "name": "python3"
  },
  "language_info": {
   "codemirror_mode": {
    "name": "ipython",
    "version": 3
   },
   "file_extension": ".py",
   "mimetype": "text/x-python",
   "name": "python",
   "nbconvert_exporter": "python",
   "pygments_lexer": "ipython3",
   "version": "3.7.3"
  }
 },
 "nbformat": 4,
 "nbformat_minor": 1
}
