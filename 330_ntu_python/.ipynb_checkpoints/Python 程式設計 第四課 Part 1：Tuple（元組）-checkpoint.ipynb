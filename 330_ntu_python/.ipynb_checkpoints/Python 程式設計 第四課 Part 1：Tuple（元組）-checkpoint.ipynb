{
 "cells": [
  {
   "cell_type": "markdown",
   "metadata": {
    "colab_type": "text",
    "id": "VHqrSrHdTDtZ"
   },
   "source": [
    "# Tuple（元組）\n",
    "\n",
    "與 List 十分類似，都是可以存取多筆有序元素的資料結構\n",
    "\n",
    "不同之處在於，tuple 的内容是不可被改變的（IMMUTABLE）\n",
    "\n",
    "注意在一些文件或書本内，Tuple 會被翻譯成`數組`\n",
    "\n",
    "\n",
    "# Tuple（元組）\n",
    "\n",
    "建立空的 tuple\n",
    "\n",
    "```python\n",
    "tup = ()\n",
    "```\n"
   ]
  },
  {
   "cell_type": "code",
   "execution_count": 1,
   "metadata": {
    "colab": {},
    "colab_type": "code",
    "id": "r5DGuATtTDtf"
   },
   "outputs": [],
   "source": [
    "tup = ()"
   ]
  },
  {
   "cell_type": "markdown",
   "metadata": {
    "colab_type": "text",
    "id": "2R_wJiKtTDtn"
   },
   "source": [
    "# Tuple（元組）\n",
    "\n",
    "建立一個有多筆資料的 tuple\n",
    "\n",
    "```python\n",
    "tup = (1,2,3)\n",
    "\n",
    "print(tup)\n",
    "# (1, 2, 3)\n",
    "```"
   ]
  },
  {
   "cell_type": "code",
   "execution_count": 0,
   "metadata": {
    "colab": {},
    "colab_type": "code",
    "id": "tHFHBDxpTDtp"
   },
   "outputs": [],
   "source": []
  },
  {
   "cell_type": "markdown",
   "metadata": {
    "colab_type": "text",
    "id": "WU8PS8G5TDtw"
   },
   "source": [
    "\n",
    "# Tuple（元組）\n",
    "\n",
    "建立只有一個元素的 tuple\n",
    "\n",
    "```python\n",
    "tup = 1,\n",
    "\n",
    "print(tup)\n",
    "# (1,)\n",
    "```\n"
   ]
  },
  {
   "cell_type": "code",
   "execution_count": 0,
   "metadata": {
    "colab": {},
    "colab_type": "code",
    "id": "e_toAqXhTDtx"
   },
   "outputs": [],
   "source": []
  },
  {
   "cell_type": "markdown",
   "metadata": {
    "colab_type": "text",
    "id": "PHrXO3isTDt2"
   },
   "source": [
    "# Tuple（元組）\n",
    "\n",
    "另一種建立元組的方式\n",
    "\n",
    "```python\n",
    "tup2 = 1, 2, 3,\n",
    "\n",
    "print(tup2)\n",
    "# (1, 2, 3)\n",
    "```"
   ]
  },
  {
   "cell_type": "code",
   "execution_count": 0,
   "metadata": {
    "colab": {},
    "colab_type": "code",
    "id": "4kYhdkFCTDt3"
   },
   "outputs": [],
   "source": []
  },
  {
   "cell_type": "markdown",
   "metadata": {
    "colab_type": "text",
    "id": "RjiswMxuTDt9"
   },
   "source": [
    "# Tuple（元組）\n",
    "\n",
    "```python\n",
    "tup = 1, 2, 3,\n",
    "\n",
    "print(tup[0])\n",
    "print(tup[1])\n",
    "print(tup[2])\n",
    "```\n"
   ]
  },
  {
   "cell_type": "code",
   "execution_count": 0,
   "metadata": {
    "colab": {},
    "colab_type": "code",
    "id": "Kyih0XHATDt-"
   },
   "outputs": [],
   "source": []
  },
  {
   "cell_type": "markdown",
   "metadata": {
    "colab_type": "text",
    "id": "ulSNzUaQTDuE"
   },
   "source": [
    "\n",
    "# Tuple Slicing\n",
    "\n",
    "切片的功能與 List 切片是一樣的：\n",
    "\n",
    "```python\n",
    "tup = (1,2,3,4,5)\n",
    "\n",
    "tup[0:3]\n",
    "# (1, 2, 3)\n",
    "```\n"
   ]
  },
  {
   "cell_type": "code",
   "execution_count": 0,
   "metadata": {
    "colab": {},
    "colab_type": "code",
    "id": "xHeCKqqsTDuG"
   },
   "outputs": [],
   "source": []
  },
  {
   "cell_type": "markdown",
   "metadata": {
    "colab_type": "text",
    "id": "Z2MnudINTDuL"
   },
   "source": [
    "# Tuple（元組）\n",
    "\n",
    "如同 List，索引指也可以用複數表示\n",
    "\n",
    "```python\n",
    "tup = (1,2,3,4,5)\n",
    "\n",
    "print(tup[-1])\n",
    "print(tup[-5])\n",
    "# 5\n",
    "# 1\n",
    "```"
   ]
  },
  {
   "cell_type": "code",
   "execution_count": 0,
   "metadata": {
    "colab": {},
    "colab_type": "code",
    "id": "8ga-eKfCTDuM"
   },
   "outputs": [],
   "source": []
  },
  {
   "cell_type": "markdown",
   "metadata": {
    "colab_type": "text",
    "id": "I5G1FAmYTDuS"
   },
   "source": [
    "# Tuple（元組）\n",
    "\n",
    "tuple 也支援用負數索引值做切片\n",
    "\n",
    "```python\n",
    "tup = (1,2,3,4,5)\n",
    "\n",
    "tup[-5:-2]\n",
    "# (1, 2, 3)\n",
    "```"
   ]
  },
  {
   "cell_type": "code",
   "execution_count": 0,
   "metadata": {
    "colab": {},
    "colab_type": "code",
    "id": "SaIXXlEpTDuT"
   },
   "outputs": [],
   "source": []
  },
  {
   "cell_type": "markdown",
   "metadata": {
    "colab_type": "text",
    "id": "6o-WYRQTTDua"
   },
   "source": [
    "# Tuple.count() 方法\n",
    "\n",
    "計算一個 tuple 内有幾筆資料與使用者指定的值相等\n",
    "\n",
    "```python\n",
    "my_tuple = ('a','p','p','l','e',)\n",
    "\n",
    "print(my_tuple.count('p'))\n",
    "# 2\n",
    "```"
   ]
  },
  {
   "cell_type": "code",
   "execution_count": 0,
   "metadata": {
    "colab": {},
    "colab_type": "code",
    "id": "HRZp2crLTDuc"
   },
   "outputs": [],
   "source": []
  },
  {
   "cell_type": "markdown",
   "metadata": {
    "colab_type": "text",
    "id": "BdHGtXZxTDuf"
   },
   "source": [
    "# Tuple.index() 方法\n",
    "\n",
    "查詢使用者指定值在一個 tuple 内的索引值\n",
    "\n",
    "```python\n",
    "my_tuple = ('a','p','p','l','e',)\n",
    "\n",
    "print(my_tuple.index('l'))\n",
    "# 3\n",
    "```"
   ]
  },
  {
   "cell_type": "code",
   "execution_count": 0,
   "metadata": {
    "colab": {},
    "colab_type": "code",
    "id": "btyoB_qoTDug"
   },
   "outputs": [],
   "source": []
  },
  {
   "cell_type": "markdown",
   "metadata": {
    "colab_type": "text",
    "id": "l9tE4FxmTDul"
   },
   "source": [
    "# Tuple（元組）\n",
    "\n",
    "一次將多個 tuple 内的值指定給多個不同的變數\n",
    "\n",
    "```python\n",
    "tup2 = (1,2,3)\n",
    "a, b, c = tup2\n",
    "\n",
    "print(a)\n",
    "print(b)\n",
    "print(c)\n",
    "# 1\n",
    "# 2\n",
    "# 3\n",
    "```\n",
    "\n",
    "這個功能別稱爲 tuple 開箱（unpacking）\n"
   ]
  },
  {
   "cell_type": "code",
   "execution_count": 0,
   "metadata": {
    "colab": {},
    "colab_type": "code",
    "id": "kG4aDeqfTDum"
   },
   "outputs": [],
   "source": []
  },
  {
   "cell_type": "markdown",
   "metadata": {
    "colab_type": "text",
    "id": "ZA6FNhH9TDuq"
   },
   "source": [
    "# Tuple 的高頻小套路\n",
    "\n",
    "在不宣告其他變數的前提下，將兩個變數内的資料互換\n",
    "\n",
    "![](https://drive.google.com/uc?export=download&id=1F9KIDqZRmMdCfC778HlO9Zl5kr_px54d)\n"
   ]
  },
  {
   "cell_type": "code",
   "execution_count": 0,
   "metadata": {
    "colab": {},
    "colab_type": "code",
    "id": "5JG5-H9DTDur"
   },
   "outputs": [],
   "source": []
  },
  {
   "cell_type": "markdown",
   "metadata": {
    "colab_type": "text",
    "id": "L7Np-VwLTDuv"
   },
   "source": [
    "# tuple() 函數\n",
    "\n",
    "將其它型別的資料轉換成 `tuple`\n",
    "\n",
    "```python\n",
    "lst = [1,2,3,4,5]\n",
    "tuple(lst)\n",
    "# (1, 2, 3, 4, 5)\n",
    "```\n"
   ]
  },
  {
   "cell_type": "code",
   "execution_count": 0,
   "metadata": {
    "colab": {},
    "colab_type": "code",
    "id": "TU1CBeDbTDuw"
   },
   "outputs": [],
   "source": []
  },
  {
   "cell_type": "markdown",
   "metadata": {
    "colab_type": "text",
    "id": "ariQhi7WTDuz"
   },
   "source": [
    "# del\n",
    "\n",
    "今天若需要刪除 `tuple`，由於 `tuple` 的内容不可被改變，只能整個 `tuple` 刪除\n",
    "\n",
    "```python\n",
    "tup = 1, 2, 3,\n",
    "# 和 List 的 del 一樣\n",
    "del tup\n",
    "```\n"
   ]
  },
  {
   "cell_type": "code",
   "execution_count": 0,
   "metadata": {
    "colab": {},
    "colab_type": "code",
    "id": "fdbP2Zy3TDu0"
   },
   "outputs": [],
   "source": []
  },
  {
   "cell_type": "markdown",
   "metadata": {
    "colab_type": "text",
    "id": "KFOtg2amTDu3"
   },
   "source": [
    "# List vs Tuple\n",
    "\n",
    "- List 和 Tuple 功能**幾乎一樣，唯一差別在於 Tuple 内的資料不能被更改**\n",
    "- tuple **占用的記憶體相對少**\n",
    "- 你不會不小心破壞 Tuple 内的資料"
   ]
  },
  {
   "cell_type": "code",
   "execution_count": 0,
   "metadata": {
    "colab": {},
    "colab_type": "code",
    "id": "W__jqEGATDu5"
   },
   "outputs": [],
   "source": []
  }
 ],
 "metadata": {
  "colab": {
   "collapsed_sections": [],
   "name": "Python 程式設計 第四課 Part 1：Tuple（元組）.ipynb",
   "provenance": []
  },
  "kernelspec": {
   "display_name": "Python 3",
   "language": "python",
   "name": "python3"
  },
  "language_info": {
   "codemirror_mode": {
    "name": "ipython",
    "version": 3
   },
   "file_extension": ".py",
   "mimetype": "text/x-python",
   "name": "python",
   "nbconvert_exporter": "python",
   "pygments_lexer": "ipython3",
   "version": "3.7.3"
  }
 },
 "nbformat": 4,
 "nbformat_minor": 1
}
