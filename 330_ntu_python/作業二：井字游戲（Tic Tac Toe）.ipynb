{
 "cells": [
  {
   "cell_type": "markdown",
   "metadata": {
    "colab_type": "text",
    "id": "5kgXIi8p2UlQ"
   },
   "source": [
    "我們來用打造一個井字游戲，英文叫 Tic Tac Toe，此游戲需要具備以下功能：\n",
    "\n",
    "1. 讓使用者選擇 'X' 或 'O'：\n",
    "\n",
    "![](https://drive.google.com/uc?export=download&id=1l9nMy9TAiP2pf4T3feAxf5HAB9Vjq--7)\n",
    "\n",
    "\n",
    "2. 打造一個能夠顯示九宮格狀態的功能：\n",
    "\n",
    "![](https://drive.google.com/uc?export=download&id=1Ry9ZJ5zgXNPflgj01tKdcKUUMgQcbgTK)\n",
    "\n",
    "3. 能夠讓使用者透過數字選擇要下棋子的九宮格：\n",
    "\n",
    "![](https://drive.google.com/uc?export=download&id=1o8SzSNgQx5dvAtiWbGYN5z85qHWzBws5)\n",
    "\n",
    "4. 能夠讓電腦與玩家自動對戰，並且能夠根據九宮格狀態判斷輸贏：\n",
    "\n",
    "![](https://drive.google.com/uc?export=download&id=19ADwGn23Nlzd4WFWITa8-xDvrpi7ZvLO)"
   ]
  },
  {
   "cell_type": "markdown",
   "metadata": {
    "colab_type": "text",
    "id": "0oFuOjxC2UlS"
   },
   "source": [
    "找出一個能夠代表九宮格的資料解構：\n",
    "\n",
    "```python\n",
    "board = [\"1\", \"2\", \"3\", \"4\", \"5\", \"6\", \"7\", \"8\", \"9\"]\n",
    "```\n",
    "\n",
    "接下來要打造顯示九宮格狀態的功能時：\n",
    "\n",
    "```python\n",
    "def show_board(board):\n",
    "    print(f\"=======\")\n",
    "    print(f\"|{board[0]}|{board[1]}|{board[2]}|\")\n",
    "    print(f\"=======\")\n",
    "    print(f\"|{board[3]}|{board[4]}|{board[5]}|\")\n",
    "    print(f\"=======\")\n",
    "    print(f\"|{board[6]}|{board[7]}|{board[8]}|\")\n",
    "    print(f\"=======\")\n",
    "```"
   ]
  },
  {
   "cell_type": "code",
   "execution_count": 5,
   "metadata": {},
   "outputs": [
    {
     "ename": "SyntaxError",
     "evalue": "invalid syntax (<ipython-input-5-070c7bd07847>, line 55)",
     "output_type": "error",
     "traceback": [
      "\u001b[0;36m  File \u001b[0;32m\"<ipython-input-5-070c7bd07847>\"\u001b[0;36m, line \u001b[0;32m55\u001b[0m\n\u001b[0;31m    if computer_step1 == \"1\":\u001b[0m\n\u001b[0m                            ^\u001b[0m\n\u001b[0;31mSyntaxError\u001b[0m\u001b[0;31m:\u001b[0m invalid syntax\n"
     ]
    }
   ],
   "source": [
    "import random\n",
    "\n",
    "print(\"歡迎光臨井字遊戲！\")\n",
    "\n",
    "choose = input(\"請選擇 \\\"O\\\" 或 \\\"X\\\":\")\n",
    "if choose == \"O\":\n",
    "    print(\"你選擇了\\\"O\\\"作棋子\")\n",
    "else:\n",
    "    print(\"你選擇了\\\"X\\\"作棋子\")\n",
    "    \n",
    "board = [\"1\", \"2\", \"3\", \"4\", \"5\", \"6\", \"7\", \"8\", \"9\"]\n",
    "\n",
    "def show_board(board):\n",
    "    print(f\"=======\")\n",
    "    print(f\"|{board[0]}|{board[1]}|{board[2]}|\")\n",
    "    print(f\"=======\")\n",
    "    print(f\"|{board[3]}|{board[4]}|{board[5]}|\")\n",
    "    print(f\"=======\")\n",
    "    print(f\"|{board[6]}|{board[7]}|{board[8]}|\")\n",
    "    print(f\"=======\")\n",
    "\n",
    "show_board(board)\n",
    "    \n",
    "player_step1 = input(\"請選擇你的下一步：\")\n",
    "if player_step1 == \"1\":\n",
    "    board[0] = \"O\"\n",
    "    show_board(board)\n",
    "elif player_step1 == \"2\":\n",
    "    board[1] = \"O\"\n",
    "    show_board(board)\n",
    "elif player_step1 == \"3\":\n",
    "    board[2] = \"O\"\n",
    "    show_board(board)\n",
    "elif player_step1 == \"4\":\n",
    "    board[3] = \"O\"\n",
    "    show_board(board)\n",
    "elif player_step1 == \"5\":\n",
    "    board[4] = \"O\"\n",
    "    show_board(board)\n",
    "elif player_step1 == \"6\":\n",
    "    board[5] = \"O\"\n",
    "    show_board(board)\n",
    "elif player_step1 == \"7\":\n",
    "    board[6] = \"O\"\n",
    "    show_board(board)\n",
    "elif player_step1 == \"8\":\n",
    "    board[7] = \"O\"\n",
    "    show_board(board)\n",
    "else:\n",
    "    board[8] = \"O\"\n",
    "    show_board(board)\n",
    "    \n",
    "computer_step1 = input(\"輪到電腦走下一步：\" + str(random.randint(1, 10))\n",
    "\n",
    "if computer_step1 == \"1\":\n",
    "    board[0] = \"O\"\n",
    "    show_board(board)\n",
    "elif computer_step1 == \"2\":\n",
    "    board[1] = \"O\"\n",
    "    show_board(board)\n",
    "elif computer_step1 == \"3\":\n",
    "    board[2] = \"O\"\n",
    "    show_board(board)\n",
    "elif computer_step1 == \"4\":\n",
    "    board[3] = \"O\"\n",
    "    show_board(board)\n",
    "elif computer_step1 == \"5\":\n",
    "    board[4] = \"O\"\n",
    "    show_board(board)\n",
    "elif computer_step1 == \"6\":\n",
    "    board[5] = \"O\"\n",
    "    show_board(board)\n",
    "elif computer_step1 == \"7\":\n",
    "    board[6] = \"O\"\n",
    "    show_board(board)\n",
    "elif computer_step1 == \"8\":\n",
    "    board[7] = \"O\"\n",
    "    show_board(board)\n",
    "else:\n",
    "    board[8] = \"O\"\n",
    "    show_board(board)\n"
   ]
  },
  {
   "cell_type": "code",
   "execution_count": 6,
   "metadata": {
    "colab": {},
    "colab_type": "code",
    "id": "m5KrbNp52UlT"
   },
   "outputs": [
    {
     "name": "stdout",
     "output_type": "stream",
     "text": [
      "=======\n",
      "|1|2|3|\n",
      "=======\n",
      "|4|5|6|\n",
      "=======\n",
      "|7|8|9|\n",
      "=======\n"
     ]
    }
   ],
   "source": [
    "board = [\"1\", \"2\", \"3\", \"4\", \"5\", \"6\", \"7\", \"8\", \"9\"]\n",
    "\n",
    "def show_board(board):\n",
    "    print(f\"=======\")\n",
    "    print(f\"|{board[0]}|{board[1]}|{board[2]}|\")\n",
    "    print(f\"=======\")\n",
    "    print(f\"|{board[3]}|{board[4]}|{board[5]}|\")\n",
    "    print(f\"=======\")\n",
    "    print(f\"|{board[6]}|{board[7]}|{board[8]}|\")\n",
    "    print(f\"=======\")\n",
    "\n",
    "show_board(board)"
   ]
  },
  {
   "cell_type": "code",
   "execution_count": 4,
   "metadata": {},
   "outputs": [
    {
     "data": {
      "text/plain": [
       "5"
      ]
     },
     "execution_count": 4,
     "metadata": {},
     "output_type": "execute_result"
    }
   ],
   "source": [
    "import random\n",
    "random.randint(1, 10)"
   ]
  }
 ],
 "metadata": {
  "colab": {
   "name": "作業二：井字游戲（Tic Tac Toe）.ipynb",
   "provenance": []
  },
  "kernelspec": {
   "display_name": "Python 3",
   "language": "python",
   "name": "python3"
  },
  "language_info": {
   "codemirror_mode": {
    "name": "ipython",
    "version": 3
   },
   "file_extension": ".py",
   "mimetype": "text/x-python",
   "name": "python",
   "nbconvert_exporter": "python",
   "pygments_lexer": "ipython3",
   "version": "3.7.3"
  }
 },
 "nbformat": 4,
 "nbformat_minor": 1
}
